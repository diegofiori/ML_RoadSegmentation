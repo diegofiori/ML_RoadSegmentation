{
 "cells": [
  {
   "cell_type": "code",
   "execution_count": 1,
   "metadata": {
    "collapsed": true
   },
   "outputs": [],
   "source": [
    "import matplotlib.image as mpimg\n",
    "import numpy as np\n",
    "import matplotlib.pyplot as plt\n",
    "import os,sys\n",
    "from scipy import ndimage\n",
    "from PIL import Image\n",
    "from sklearn.cluster import KMeans\n",
    "from sklearn import linear_model\n",
    "from sklearn import svm\n",
    "from sklearn import preprocessing as prp\n",
    "from helpers_img_my import *\n",
    "from Post_processing import *\n",
    "#from helpers_img import *\n",
    "from sklearn import model_selection as modsel\n",
    "from preprocessing_my import *"
   ]
  },
  {
   "cell_type": "code",
   "execution_count": null,
   "metadata": {},
   "outputs": [],
   "source": [
    "# Settings\n",
    "foreground_threshold = 0.25 # percentage of pixels > 1 required to assign a foreground label to a patch\n",
    "patch_size = 16 # each patch is 16*16 pixels\n",
    "deg=2\n",
    "\n",
    "root_dir = \"training/\"\n",
    "image_dir = root_dir + \"images/\"\n",
    "gt_dir = root_dir + \"groundtruth/\"\n",
    "files = os.listdir(image_dir)\n",
    "\n",
    "#n=len(files)\n",
    "n=4\n",
    "k_fold=2 #number of folds in the k-fold cross-validation\n",
    "\n",
    "imgs = [load_image(image_dir + files[i]) for i in range(n)]\n",
    "gt_imgs = [load_image(gt_dir + files[i]) for i in range(n)]\n",
    "\n",
    "seed = 1\n",
    "np.random.seed(seed)\n",
    "\n",
    "kf=modsel.KFold(n_splits=k_fold,shuffle=True)\n",
    "kf.get_n_splits(imgs)\n",
    "lambdas=np.logspace(-3,-1,3) # 1/lambda\n",
    "thresh=np.linspace(0.4,0.7,2)\n",
    "shape=(lambdas.shape[0],thres.shape[0])\n",
    "mean_f1=np.zeros(shape)\n",
    "\n",
    "for id_lam,lam in enumerate(lambdas):\n",
    "    for id_t,t in enumerate(thresh):\n",
    "        nb_f1_te = np.zeros(k_fold)\n",
    "        for ind,[train_id,test_id] in enumerate(kf.split(imgs)):\n",
    "            im_tr=[imgs[idx] for idx in train_id]\n",
    "            im_te=[imgs[idx] for idx in test_id]\n",
    "            gt_tr=[gt_imgs[idx] for idx in train_id]\n",
    "            gt_te=[gt_imgs[idx] for idx in test_id]\n",
    "\n",
    "            im_tr,gt_tr = rotation(im_tr,gt_tr)\n",
    "            im_tr,gt_tr = flip(im_tr,gt_tr)\n",
    "            im_tr=[add_features(im_tr[i]) for i in range(len(im_tr))]\n",
    "            im_te=[add_features(im_te[i]) for i in range(len(im_te))]\n",
    "\n",
    "\n",
    "            img_patches_tr = [img_crop(im_tr[i], patch_size, patch_size) for i in range(len(im_tr))]\n",
    "            img_patches_te = [img_crop(im_te[i], patch_size, patch_size) for i in range(len(im_te))]\n",
    "            gt_patches_tr = [img_crop(gt_tr[i], patch_size, patch_size) for i in range(len(gt_tr))]\n",
    "            gt_patches_te = [img_crop(gt_te[i], patch_size, patch_size) for i in range(len(gt_te))]\n",
    "\n",
    "            im_patches_tr = np.asarray([img_patches_tr[i][j] \n",
    "                              for i in range(len(img_patches_tr)) \n",
    "                              for j in range(len(img_patches_tr[i]))])\n",
    "            im_patches_te = np.asarray([img_patches_te[i][j] \n",
    "                              for i in range(len(img_patches_te)) \n",
    "                              for j in range(len(img_patches_te[i]))])\n",
    "            gt_patches_tr =  np.asarray([gt_patches_tr[i][j] \n",
    "                              for i in range(len(gt_patches_tr)) \n",
    "                              for j in range(len(gt_patches_tr[i]))])\n",
    "            gt_patches_te =  np.asarray([gt_patches_te[i][j] \n",
    "                              for i in range(len(gt_patches_te)) \n",
    "                              for j in range(len(gt_patches_te[i]))])\n",
    "\n",
    "            im_patches_tr=[extract_features(im_patches_tr[i]) for i in range(len(im_patches_tr))]\n",
    "            im_patches_te=[extract_features(im_patches_te[i]) for i in range(len(im_patches_te))]\n",
    "\n",
    "            X_tr = np.asarray([poly_features(im_patches_tr[i],deg) for i in range(len(im_patches_tr))])\n",
    "            Y_tr = np.asarray([value_to_class(np.mean(gt_patches_tr[i])) for i in range(len(gt_patches_tr))])\n",
    "\n",
    "            X_te = np.asarray([poly_features(im_patches_te[i],deg) for i in range(len(im_patches_te))])\n",
    "            Y_te = np.asarray([value_to_class(np.mean(gt_patches_te[i])) for i in range(len(gt_patches_te))])\n",
    "\n",
    "            ridgereg = linear_model.Ridge(alpha=lam, normalize=True)\n",
    "            ridgereg.fit(X_tr, Y_tr)\n",
    "\n",
    "            Z_te = ridgereg.predict(X_te)\n",
    "            Z_te=1*(Z_te>t)\n",
    "\n",
    "            Z_pp=[]\n",
    "            for i in range(len(gt_patches_te)):\n",
    "                Z_pp = Z_pp + post_processing(Z_te[i*625:(i+1)*625],18,9,3,3,25)\n",
    "\n",
    "            nb_f1_te[ind]=compute_F1(Y_te, Z_pp)\n",
    "        \n",
    "    mean_f1[id_lam,id_t]=nb_f1_te.mean()\n",
    "    \n",
    "best=np.max(mean_f1)\n",
    "ids=np.where(mean_f1==best)\n",
    "best_lambda=lambdas[ids[0][0]]\n",
    "best_thresh=thresh[ids[1][0]]"
   ]
  },
  {
   "cell_type": "code",
   "execution_count": 37,
   "metadata": {},
   "outputs": [
    {
     "data": {
      "text/plain": [
       "0.59871494085621557"
      ]
     },
     "execution_count": 37,
     "metadata": {},
     "output_type": "execute_result"
    }
   ],
   "source": [
    "best"
   ]
  },
  {
   "cell_type": "code",
   "execution_count": 38,
   "metadata": {},
   "outputs": [
    {
     "data": {
      "text/plain": [
       "array([[ 0.        ,  0.        ,  0.        ,  0.        ,  0.        ,\n",
       "         0.        ,  0.        ,  0.        ,  0.        ,  0.        ,\n",
       "         0.55512792],\n",
       "       [ 0.        ,  0.        ,  0.        ,  0.        ,  0.        ,\n",
       "         0.        ,  0.        ,  0.        ,  0.        ,  0.        ,\n",
       "         0.56459979],\n",
       "       [ 0.        ,  0.        ,  0.        ,  0.        ,  0.        ,\n",
       "         0.        ,  0.        ,  0.        ,  0.        ,  0.        ,\n",
       "         0.59871494]])"
      ]
     },
     "execution_count": 38,
     "metadata": {},
     "output_type": "execute_result"
    }
   ],
   "source": [
    "mean_f1"
   ]
  },
  {
   "cell_type": "code",
   "execution_count": 16,
   "metadata": {},
   "outputs": [],
   "source": [
    "thres=np.linspace(0.3,0.8,11)"
   ]
  },
  {
   "cell_type": "code",
   "execution_count": 22,
   "metadata": {},
   "outputs": [
    {
     "data": {
      "text/plain": [
       "0"
      ]
     },
     "execution_count": 22,
     "metadata": {},
     "output_type": "execute_result"
    }
   ],
   "source": [
    "zers=np.zeros((thres.shape[0],lambdas.shape[0]))\n",
    "np.argmax(zers)"
   ]
  },
  {
   "cell_type": "code",
   "execution_count": 18,
   "metadata": {},
   "outputs": [
    {
     "data": {
      "text/plain": [
       "11"
      ]
     },
     "execution_count": 18,
     "metadata": {},
     "output_type": "execute_result"
    }
   ],
   "source": [
    "thres.shape[0]"
   ]
  },
  {
   "cell_type": "code",
   "execution_count": 27,
   "metadata": {},
   "outputs": [
    {
     "data": {
      "text/plain": [
       "array([[1, 2, 3],\n",
       "       [4, 5, 6]])"
      ]
     },
     "execution_count": 27,
     "metadata": {},
     "output_type": "execute_result"
    }
   ],
   "source": [
    "matrix=np.asarray([[1,2,3],[4,5,6]])\n",
    "matrix"
   ]
  },
  {
   "cell_type": "code",
   "execution_count": 34,
   "metadata": {},
   "outputs": [
    {
     "data": {
      "text/plain": [
       "2"
      ]
     },
     "execution_count": 34,
     "metadata": {},
     "output_type": "execute_result"
    }
   ],
   "source": [
    "ids=np.where(matrix==3)\n",
    "ids[1][0]"
   ]
  },
  {
   "cell_type": "code",
   "execution_count": null,
   "metadata": {
    "collapsed": true
   },
   "outputs": [],
   "source": []
  }
 ],
 "metadata": {
  "kernelspec": {
   "display_name": "Python 3",
   "language": "python",
   "name": "python3"
  },
  "language_info": {
   "codemirror_mode": {
    "name": "ipython",
    "version": 3
   },
   "file_extension": ".py",
   "mimetype": "text/x-python",
   "name": "python",
   "nbconvert_exporter": "python",
   "pygments_lexer": "ipython3",
   "version": "3.6.1"
  }
 },
 "nbformat": 4,
 "nbformat_minor": 2
}
