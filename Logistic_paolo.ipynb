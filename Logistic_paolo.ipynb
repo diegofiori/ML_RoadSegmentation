{
 "cells": [
  {
   "cell_type": "code",
   "execution_count": null,
   "metadata": {},
   "outputs": [],
   "source": [
    "%matplotlib inline\n",
    "import matplotlib.image as mpimg\n",
    "import numpy as np\n",
    "import matplotlib.pyplot as plt\n",
    "import os,sys\n",
    "from scipy import ndimage\n",
    "from PIL import Image\n",
    "from sklearn.cluster import KMeans\n",
    "from sklearn import linear_model\n",
    "from sklearn import svm\n",
    "from sklearn import preprocessing as prp"
   ]
  },
  {
   "cell_type": "code",
   "execution_count": null,
   "metadata": {},
   "outputs": [],
   "source": [
    "from helpers_img import *\n",
    "from Post_processing import *"
   ]
  },
  {
   "cell_type": "code",
   "execution_count": null,
   "metadata": {},
   "outputs": [],
   "source": [
    "# Helper functions\n",
    "def load_image(infilename):\n",
    "    data = mpimg.imread(infilename)\n",
    "    return data\n",
    "\n",
    "def img_float_to_uint8(img):\n",
    "    rimg = img - np.min(img)\n",
    "    rimg = (rimg / np.max(rimg) * 255).round().astype(np.uint8)\n",
    "    return rimg\n",
    "\n",
    "# Concatenate an image and its groundtruth\n",
    "def concatenate_images(img, gt_img):\n",
    "    nChannels = len(gt_img.shape)\n",
    "    w = gt_img.shape[0]\n",
    "    h = gt_img.shape[1]\n",
    "    if nChannels == 3:\n",
    "        cimg = np.concatenate((img, gt_img), axis=1)\n",
    "    else:\n",
    "        gt_img_3c = np.zeros((w, h, 3), dtype=np.uint8)\n",
    "        gt_img8 = img_float_to_uint8(gt_img)          \n",
    "        gt_img_3c[:,:,0] = gt_img8\n",
    "        gt_img_3c[:,:,1] = gt_img8\n",
    "        gt_img_3c[:,:,2] = gt_img8\n",
    "        img8 = img_float_to_uint8(img)\n",
    "        cimg = np.concatenate((img8, gt_img_3c), axis=1)\n",
    "    return cimg\n",
    "\n",
    "def img_crop(im, w, h):\n",
    "    list_patches = []\n",
    "    imgwidth = im.shape[0]\n",
    "    imgheight = im.shape[1]\n",
    "    is_2d = len(im.shape) < 3\n",
    "    for i in range(0,imgheight,h):\n",
    "        for j in range(0,imgwidth,w):\n",
    "            if is_2d:\n",
    "                im_patch = im[j:j+w, i:i+h]\n",
    "            else:\n",
    "                im_patch = im[j:j+w, i:i+h, :]\n",
    "            list_patches.append(im_patch)\n",
    "    return list_patches\n",
    "\n",
    "def value_to_class(v):\n",
    "    df = np.sum(v)\n",
    "    if df > foreground_threshold:\n",
    "        return 1\n",
    "    else:\n",
    "        return 0\n",
    "    \n",
    "# Convert array of labels to an image\n",
    "\n",
    "def label_to_img(imgwidth, imgheight, w, h, labels):\n",
    "    im = np.zeros([imgwidth, imgheight])\n",
    "    idx = 0\n",
    "    for i in range(0,imgheight,h):\n",
    "        for j in range(0,imgwidth,w):\n",
    "            im[j:j+w, i:i+h] = labels[idx]\n",
    "            idx = idx + 1\n",
    "    return im\n",
    "\n",
    "def make_img_overlay(img, predicted_img):\n",
    "    w = img.shape[0]\n",
    "    h = img.shape[1]\n",
    "    color_mask = np.zeros((w, h, 3), dtype=np.uint8)\n",
    "    color_mask[:,:,0] = predicted_img*255\n",
    "\n",
    "    img8 = img_float_to_uint8(img)\n",
    "    background = Image.fromarray(img8, 'RGB').convert(\"RGBA\")\n",
    "    overlay = Image.fromarray(color_mask, 'RGB').convert(\"RGBA\")\n",
    "    new_img = Image.blend(background, overlay, 0.2)\n",
    "    return new_img"
   ]
  },
  {
   "cell_type": "code",
   "execution_count": null,
   "metadata": {},
   "outputs": [],
   "source": [
    "def rotation(orig, gts):\n",
    "    ks=[90,180,270]\n",
    "    rotated=[ndimage.rotate(img,k) for img in orig for k in ks]\n",
    "    gt_rotated=[ndimage.rotate(gt_img,k) for gt_img in gts for k in ks]\n",
    "    orig=orig+rotated\n",
    "    gts=gts+gt_rotated\n",
    "    print(len(orig))\n",
    "    print(len(gts))\n",
    "    return orig,gts\n",
    "\n",
    "def add_gray_dimension(img):\n",
    "    out=np.dot(img[...,:3], [0.299, 0.587, 0.114])\n",
    "    shape_one=[out.shape[0], out.shape[1], 1]\n",
    "    out = np.reshape(out, shape_one)\n",
    "    return out\n",
    "\n",
    "def add_laplacian(img):\n",
    "    laplbew=ndimage.filters.laplace(add_gray_dimension(img))\n",
    "    lapl=ndimage.filters.laplace(img)\n",
    "    return laplbew,lapl\n",
    "\n",
    "def add_sobel(img):\n",
    "    sx = ndimage.sobel(img, axis=0, mode='constant')\n",
    "    sy = ndimage.sobel(img, axis=1, mode='constant')\n",
    "    sob = np.hypot(sx, sy)\n",
    "    return sob\n",
    "\n",
    "def add_segment(im):\n",
    "    n = 10\n",
    "    l = 256\n",
    "    im = ndimage.gaussian_filter(im, sigma=l/(4.*n))\n",
    "    mask = (im > im.mean()).astype(np.float)\n",
    "    mask += 0.1 * im\n",
    "    img = mask + 0.2*np.random.randn(*mask.shape)\n",
    "    hist, bin_edges = np.histogram(img, bins=60)\n",
    "    bin_centers = 0.5*(bin_edges[:-1] + bin_edges[1:])\n",
    "    binary_img = img > 0.5\n",
    "    open_img = ndimage.binary_opening(binary_img)\n",
    "    # Remove small black hole\n",
    "    close_img = ndimage.binary_closing(open_img)\n",
    "    close_img=add_gray_dimension(close_img)\n",
    "    return close_img"
   ]
  },
  {
   "cell_type": "code",
   "execution_count": null,
   "metadata": {},
   "outputs": [],
   "source": [
    "def compute_F1(Y,Z):\n",
    "    TN = 0\n",
    "    FP = 0\n",
    "    FN = 0\n",
    "    TP = 0\n",
    "    matrix = []\n",
    "    for i in range(len(Y)):\n",
    "        if (round(Y[i])==0) & (Z[i]==0):\n",
    "            TN = TN + 1\n",
    "        elif (round(Y[i])==1) & (Z[i]==0):\n",
    "            FN = FN + 1   \n",
    "        elif (round(Y[i])==1) & (Z[i]==1):\n",
    "            TP = TP + 1  \n",
    "        else:\n",
    "            FP = FP + 1\n",
    "\n",
    "    precision = TP/(TP+FP)\n",
    "    recall = TP/(TP+FN)\n",
    "    return 2*precision*recall / (precision+recall) "
   ]
  },
  {
   "cell_type": "code",
   "execution_count": null,
   "metadata": {},
   "outputs": [],
   "source": [
    "def add_features(img):\n",
    "    gray_img = add_gray_dimension(img)\n",
    "    sob = add_sobel(img)\n",
    "    lapbew,lap=add_laplacian(img)\n",
    "    seg=add_segment(img)\n",
    "    img = np.concatenate((img, gray_img), axis = 2)\n",
    "    img = np.concatenate((img, sob), axis = 2)\n",
    "    img = np.concatenate((img, lapbew), axis = 2)\n",
    "    img = np.concatenate((img, lap), axis = 2)    \n",
    "    img = np.concatenate((img, seg), axis = 2)\n",
    "    return img"
   ]
  },
  {
   "cell_type": "code",
   "execution_count": null,
   "metadata": {},
   "outputs": [],
   "source": [
    "def extract_features(img):\n",
    "    #gray_img = add_gray_dimension(img)\n",
    "    #sob = add_sobel(img)\n",
    "    #lapbew,lap=add_laplacian(img)\n",
    "    #seg=add_segment(img)\n",
    "    #img = np.concatenate((img, gray_img), axis = 2)\n",
    "    #img = np.concatenate((img, sob), axis = 2)\n",
    "    #img = np.concatenate((img, lapbew), axis = 2)\n",
    "    #img = np.concatenate((img, lap), axis = 2)    \n",
    "    #img = np.concatenate((img, seg), axis = 2)\n",
    "    \n",
    "    feat_m = np.mean(img, axis=(0,1))\n",
    "    feat_v = np.var(img, axis=(0,1))\n",
    "    feat = np.append(feat_m, feat_v)\n",
    "    poly = prp.PolynomialFeatures(3)\n",
    "    feat = poly.fit_transform(feat.reshape(1,-1))\n",
    "    feat = feat.reshape(-1,)\n",
    "    return feat"
   ]
  },
  {
   "cell_type": "code",
   "execution_count": null,
   "metadata": {},
   "outputs": [],
   "source": [
    "def post_processing(label,threshold,size_min,verbarg,horbarg):\n",
    "    label = complete_lines(label,threshold)\n",
    "    label = remove_isolated_connected_component(label,size_min)\n",
    "    label = clean_garbage_vert(label,verbarg)\n",
    "    label = clean_garbage_hor(label,horbarg)\n",
    "    label = remove_isolated_connected_component(label,size_min)\n",
    "    return label"
   ]
  },
  {
   "cell_type": "code",
   "execution_count": null,
   "metadata": {},
   "outputs": [],
   "source": [
    "# Obtain train set\n",
    "# Loaded a set of images\n",
    "root_dir = \"training/\"\n",
    "image_dir = root_dir + \"images/\"\n",
    "files = os.listdir(image_dir)\n",
    "n = min(75, len(files)) # Load maximum 20 images\n",
    "imgs = [load_image(image_dir + files[i]) for i in range(n)]\n",
    "gt_dir = root_dir + \"groundtruth/\"\n",
    "gt_imgs = [load_image(gt_dir + files[i]) for i in range(n)]\n",
    "\n",
    "\n",
    "imgs,gt_imgs = rotation(imgs,gt_imgs)\n",
    "imgs_augm=[add_features(imgs[i]) for i in range(len(imgs))]"
   ]
  },
  {
   "cell_type": "code",
   "execution_count": null,
   "metadata": {},
   "outputs": [],
   "source": [
    "foreground_threshold = 0.25 # percentage of pixels > 1 required to assign a foreground label to a patch\n",
    "patch_size = 16 # each patch is 16*16 pixels\n",
    "\n",
    "\n",
    "img_patches = [img_crop(imgs_augm[i], patch_size, patch_size) for i in range(len(imgs_augm))]\n",
    "gt_patches = [img_crop(gt_imgs[i], patch_size, patch_size) for i in range(len(gt_imgs))]\n",
    "img_patches = np.asarray([img_patches[i][j] \n",
    "                          for i in range(len(img_patches)) \n",
    "                          for j in range(len(img_patches[i]))])\n",
    "gt_patches =  np.asarray([gt_patches[i][j] \n",
    "                          for i in range(len(gt_patches)) \n",
    "                          for j in range(len(gt_patches[i]))])"
   ]
  },
  {
   "cell_type": "code",
   "execution_count": null,
   "metadata": {},
   "outputs": [],
   "source": [
    "X = np.asarray([ extract_features(img_patches[i]) for i in range(len(img_patches))])\n",
    "Y = np.asarray([value_to_class(np.mean(gt_patches[i])) for i in range(len(gt_patches))])"
   ]
  },
  {
   "cell_type": "code",
   "execution_count": null,
   "metadata": {},
   "outputs": [],
   "source": [
    "logreg = linear_model.LogisticRegression(C=1e5, class_weight=\"balanced\")\n",
    "logreg.fit(X, Y)\n",
    "Z=logreg.predict(X)\n",
    "print('F1_score = ' + str(compute_F1(Y, Z)))"
   ]
  },
  {
   "cell_type": "code",
   "execution_count": null,
   "metadata": {},
   "outputs": [],
   "source": [
    "# Obtain test set\n",
    "root = \"training/\"\n",
    "image_dir = root + \"images/\"\n",
    "files = os.listdir(image_dir)\n",
    "imgs_te = [load_image(image_dir + files[i]) for i in np.arange(n+1,len(files))]\n",
    "gt_dir = root_dir + \"groundtruth/\"\n",
    "gt_imgs_te = [load_image(gt_dir + files[i]) for i in np.arange(n+1,len(files))]\n",
    "\n",
    "\n",
    "imgs_te_aug=[add_features(imgs_te[i]) for i in range(len(imgs_te))]"
   ]
  },
  {
   "cell_type": "code",
   "execution_count": null,
   "metadata": {},
   "outputs": [],
   "source": [
    "img_patches_te = [img_crop(imgs_te_aug[i], patch_size, patch_size) for i in range(len(imgs_te_aug))]\n",
    "gt_patches_te = [img_crop(gt_imgs_te[i], patch_size, patch_size) for i in range(len(gt_imgs_te))]\n",
    "img_patches_te = np.asarray([img_patches_te[i][j] \n",
    "                             for i in range(len(img_patches_te)) \n",
    "                             for j in range(len(img_patches_te[i]))])\n",
    "gt_patches_te =  np.asarray([gt_patches_te[i][j] \n",
    "                             for i in range(len(gt_patches_te)) \n",
    "                             for j in range(len(gt_patches_te[i]))])"
   ]
  },
  {
   "cell_type": "code",
   "execution_count": null,
   "metadata": {},
   "outputs": [],
   "source": [
    "X_te = np.asarray([extract_features(img_patches_te[i]) for i in range(len(img_patches_te))])\n",
    "Y_te = np.asarray([value_to_class(np.mean(gt_patches_te[i])) for i in range(len(gt_patches_te))])\n",
    "\n",
    "Z_te = logreg.predict(X_te)\n",
    "print('F1_score = ' + str(compute_F1(Y_te, Z_te)))"
   ]
  },
  {
   "cell_type": "code",
   "execution_count": null,
   "metadata": {},
   "outputs": [],
   "source": [
    "Z_pp=[]\n",
    "for i in range(len(gt_patches_te)):\n",
    "    Z_pp = Z_pp + post_processing(Z_te[i*625:(i+1)*625],18,9,3,3)\n",
    "\n",
    "print('F1_score = ' + str(compute_F1(Y_te, Z_pp)))"
   ]
  },
  {
   "cell_type": "code",
   "execution_count": null,
   "metadata": {},
   "outputs": [],
   "source": [
    "img_idx=7\n",
    "w = gt_imgs_te[0].shape[0]\n",
    "h = gt_imgs_te[0].shape[1]\n",
    "predicted_im = label_to_img(w, h, patch_size, patch_size, Z_te[img_idx*625:(img_idx+1)*625])\n",
    "#print(imgs_te[img_idx].shape)\n",
    "cimg = concatenate_images(imgs_te[img_idx], predicted_im)\n",
    "fig1 = plt.figure(figsize=(10, 10)) # create a figure with the default size \n",
    "plt.imshow(cimg, cmap='Greys_r')\n",
    "\n",
    "new_img = make_img_overlay(imgs_te[img_idx], predicted_im)\n",
    "\n",
    "plt.imshow(new_img)"
   ]
  },
  {
   "cell_type": "code",
   "execution_count": null,
   "metadata": {},
   "outputs": [],
   "source": [
    "print('F1_score = ' + str(compute_F1(Y_te[img_idx*625:(img_idx+1)*625], Z_te[img_idx*625:(img_idx+1)*625])))"
   ]
  },
  {
   "cell_type": "code",
   "execution_count": null,
   "metadata": {},
   "outputs": [],
   "source": [
    "result_logistic = Z_te[img_idx*625:(img_idx+1)*625]"
   ]
  },
  {
   "cell_type": "markdown",
   "metadata": {},
   "source": [
    "## END"
   ]
  },
  {
   "cell_type": "code",
   "execution_count": null,
   "metadata": {},
   "outputs": [],
   "source": []
  },
  {
   "cell_type": "code",
   "execution_count": null,
   "metadata": {},
   "outputs": [],
   "source": []
  },
  {
   "cell_type": "code",
   "execution_count": null,
   "metadata": {},
   "outputs": [],
   "source": []
  },
  {
   "cell_type": "code",
   "execution_count": null,
   "metadata": {},
   "outputs": [],
   "source": []
  },
  {
   "cell_type": "code",
   "execution_count": null,
   "metadata": {},
   "outputs": [],
   "source": []
  },
  {
   "cell_type": "code",
   "execution_count": null,
   "metadata": {},
   "outputs": [],
   "source": [
    "def complete_lines(label,threshold):\n",
    "    ''' The function controls for each non-road square its neighbors. \n",
    "        If they are classified as ROAD with a certain pattern, the considered square is labeled as ROAD.\n",
    "        \n",
    "        INPUT: List of patches, Vector of label (SAME ORDER)\n",
    "        OUTPUT: New patches, New Vector of label'''\n",
    "    \n",
    "    # Create a matrix of label\n",
    "    label = np.array(label)\n",
    "    label_per_line = int(np.sqrt(label.shape))\n",
    "    matrix_label = label.reshape((label_per_line, label_per_line),order='F')\n",
    "    \n",
    "    # Column with less then 4 zeros are considered as ROAD\n",
    "    #threshold = 16\n",
    "    matrix_label[:,np.where(matrix_label.sum(axis=0)>=threshold)[0]] = 1\n",
    "  \n",
    "    \n",
    "    # Rows with less then 4 zeros are considered as ROAD\n",
    "    #threshold = 16\n",
    "    matrix_label[np.where(matrix_label.sum(axis=1)>=threshold)[0],:] = 1\n",
    "  \n",
    "    # Create the list\n",
    "    list_label = (matrix_label.T).tolist()\n",
    "    # Flatten the lists\n",
    "    label = [y for x in list_label for y in x]\n",
    "    return label"
   ]
  },
  {
   "cell_type": "code",
   "execution_count": null,
   "metadata": {},
   "outputs": [],
   "source": [
    "new_label = complete_lines(result_logistic,18)\n",
    "\n",
    "# DISPLAY THE IMAGE\n",
    "mask_res = label_to_img(400, 400, 16, 16, new_label)\n",
    "image_plot = make_img_overlay(imgs_te[img_idx], mask_res)\n",
    "plt.figure(figsize=(10, 10))\n",
    "plt.imshow(image_plot)"
   ]
  },
  {
   "cell_type": "code",
   "execution_count": null,
   "metadata": {},
   "outputs": [],
   "source": [
    "def remove_isolated_connected_component(label,size_min):\n",
    "    \n",
    "    # Create a matrix of label\n",
    "    label = np.array(label)\n",
    "    label_per_line = int(np.sqrt(label.shape))\n",
    "    matrix_label = label.reshape((label_per_line, label_per_line),order='F')\n",
    "    \n",
    "    # now identify the objects and remove those above a threshold\n",
    "    Zlabeled,Nlabels = ndimage.measurements.label(matrix_label)\n",
    "    label_size = [(Zlabeled == label).sum() for label in range(Nlabels + 1)]\n",
    "    \n",
    "    # now remove the labels\n",
    "    for label,size in enumerate(label_size):\n",
    "        if size < size_min:\n",
    "            matrix_label[Zlabeled == label] = 0\n",
    "    \n",
    "    # Create the list\n",
    "    list_label = (matrix_label.T).tolist()\n",
    "    # Flatten the lists\n",
    "    label = [y for x in list_label for y in x]\n",
    "    \n",
    "    return label\n"
   ]
  },
  {
   "cell_type": "code",
   "execution_count": null,
   "metadata": {},
   "outputs": [],
   "source": [
    "new_label2 = remove_isolated_connected_component(new_label,9)\n",
    "\n",
    "# DISPLAY THE IMAGE\n",
    "mask_res = label_to_img(400, 400, 16, 16, new_label2)\n",
    "image_plot = make_img_overlay(imgs_te[img_idx], mask_res)\n",
    "plt.figure(figsize=(10, 10))\n",
    "plt.imshow(image_plot)"
   ]
  },
  {
   "cell_type": "code",
   "execution_count": null,
   "metadata": {},
   "outputs": [],
   "source": [
    "def complete_lines_almostfull(label):\n",
    "    ''' The function controls for each non-road square its neighbors. \n",
    "        If they are classified as ROAD with a certain pattern, the considered square is labeled as ROAD.\n",
    "        \n",
    "        INPUT: List of labels\n",
    "        OUTPUT: New list of labels'''\n",
    "    \n",
    "    max_zeros = 3\n",
    "    \n",
    "    # Create a matrix of label\n",
    "    label = np.array(label)\n",
    "    label_per_line = int(np.sqrt(label.shape))\n",
    "    matrix_label = label.reshape((label_per_line, label_per_line),order='F')\n",
    "    \n",
    "    # Fix columns\n",
    "    rows,columns = matrix_label.shape\n",
    "    for column in range(columns):\n",
    "        count = 0\n",
    "        start = 0\n",
    "        end = 0\n",
    "        for row in range(rows):\n",
    "            if (matrix_label[row,column] == 1) and (start ==0):\n",
    "                start = 1\n",
    "            elif (matrix_label[row,column] == 1) and (start ==1) and (count>0):\n",
    "                end = 1\n",
    "            elif (matrix_label[row,column] == 0) and (start ==1) and (end==0):\n",
    "                count = count + 1\n",
    "            \n",
    "            if end ==1:\n",
    "                if count < max_zeros:\n",
    "                    matrix_label[row-count:row,column] = 1\n",
    "                start = 1\n",
    "                end = 0\n",
    "                count = 0\n",
    "    \n",
    "    # Fix rows\n",
    "    for row in range(rows):\n",
    "        count = 0\n",
    "        start = 0\n",
    "        end = 0\n",
    "        for column in range(columns):\n",
    "            if (matrix_label[row,column] == 1) and (start ==0):\n",
    "                start = 1\n",
    "            elif (matrix_label[row,column] == 1) and (start ==1) and (count>0):\n",
    "                end = 1\n",
    "            elif (matrix_label[row,column] == 0) and (start ==1) and (end==0):\n",
    "                count = count + 1\n",
    "            \n",
    "            if end ==1:\n",
    "                if count < max_zeros:\n",
    "                    matrix_label[row,column-count:column] = 1\n",
    "                start = 1\n",
    "                end = 0\n",
    "                count = 0\n",
    "    \n",
    "    \n",
    "    # Create the list\n",
    "    list_label = (matrix_label.T).tolist()\n",
    "    # Flatten the lists\n",
    "    label = [y for x in list_label for y in x]\n",
    "    \n",
    "    return label"
   ]
  },
  {
   "cell_type": "code",
   "execution_count": null,
   "metadata": {},
   "outputs": [],
   "source": [
    "#new_label3 = complete_lines_almostfull(new_label2)\n",
    "\n",
    "# DISPLAY THE IMAGE\n",
    "#mask_res = label_to_img(400, 400, 16, 16, new_label3)\n",
    "#image_plot = make_img_overlay(image, mask_res)\n",
    "#plt.figure(figsize=(10, 10))\n",
    "#plt.imshow(image_plot)"
   ]
  },
  {
   "cell_type": "code",
   "execution_count": null,
   "metadata": {},
   "outputs": [],
   "source": [
    "def clean_garbage_vert(label,max_distance):\n",
    "    \n",
    "    # Create a matrix of label\n",
    "    label = np.array(label)\n",
    "    label_per_line = int(np.sqrt(label.shape))\n",
    "    matrix_label = label.reshape((label_per_line, label_per_line),order='F')\n",
    "    \n",
    "    # Column with all one values\n",
    "    full_columns = np.where(matrix_label.sum(axis=0) == 25)[0]\n",
    "    for column in full_columns:   \n",
    "        if (column < max_distance) and (matrix_label[:,column+1].sum(axis=0) < 25):\n",
    "            count = matrix_label[:,column+1:column+max_distance+1].sum(axis=1)\n",
    "            for k in range(count.shape[0]):\n",
    "                if count[k] < max_distance:\n",
    "                    matrix_label[k,column+1:column+max_distance] = 0\n",
    "        \n",
    "        elif (column > 25 - max_distance) and (matrix_label[:,column-1].sum(axis=0) < 25):\n",
    "            count = matrix_label[:,column-max_distance:column].sum(axis=1)\n",
    "            for k in range(count.shape[0]):\n",
    "                if count[k] < max_distance:\n",
    "                    matrix_label[k,column-max_distance:column] = 0\n",
    "        \n",
    "        elif (column >= max_distance) and (column <= 25 - max_distance):\n",
    "            if matrix_label[:,column+1].sum(axis=0) < 25:\n",
    "                count = matrix_label[:,column+1:column+max_distance+1].sum(axis=1)\n",
    "                for k in range(count.shape[0]):\n",
    "                    if count[k] < max_distance:\n",
    "                        matrix_label[k,column+1:column+max_distance] = 0\n",
    "        \n",
    "            if matrix_label[:,column-1].sum(axis=0) < 25:            \n",
    "                count = matrix_label[:,column-max_distance:column].sum(axis=1)\n",
    "                for k in range(count.shape[0]):\n",
    "                    if count[k] < max_distance:\n",
    "                        matrix_label[k,column-max_distance:column] = 0\n",
    "        \n",
    "    # Rows with less then 4 zeros are considered as ROAD\n",
    "    #threshold = 16\n",
    "    #matrix_label[np.where(matrix_label.sum(axis=1)>=threshold)[0],:] = 1\n",
    "  \n",
    "    # Create the list\n",
    "    list_label = (matrix_label.T).tolist()\n",
    "    # Flatten the lists\n",
    "    label = [y for x in list_label for y in x]\n",
    "    return label    "
   ]
  },
  {
   "cell_type": "code",
   "execution_count": null,
   "metadata": {},
   "outputs": [],
   "source": [
    "new_label4 = clean_garbage_vert(new_label2,3)\n",
    "\n",
    "# DISPLAY THE IMAGE\n",
    "mask_res = label_to_img(400, 400, 16, 16, new_label4)\n",
    "image_plot = make_img_overlay(imgs_te[img_idx], mask_res)\n",
    "plt.figure(figsize=(10, 10))\n",
    "plt.imshow(image_plot)"
   ]
  },
  {
   "cell_type": "code",
   "execution_count": null,
   "metadata": {},
   "outputs": [],
   "source": [
    "def clean_garbage_hor(label,max_distance):\n",
    "    \n",
    "    # Create a matrix of label\n",
    "    label = np.array(label)\n",
    "    label_per_line = int(np.sqrt(label.shape))\n",
    "    matrix_label = label.reshape((label_per_line, label_per_line),order='F')\n",
    "    \n",
    "    # Column with all one values\n",
    "    full_rows = np.where(matrix_label.sum(axis=1) == 25)[0]\n",
    "    for row in full_rows:   \n",
    "        if (row < max_distance) and (matrix_label[row+1,:].sum() < 25):\n",
    "            count = matrix_label[row+1:row+max_distance+1,:].sum(axis=0)\n",
    "            for k in range(count.shape[0]):\n",
    "                if count[k] < max_distance:\n",
    "                    matrix_label[row+1:row+max_distance,k] = 0\n",
    "        \n",
    "        elif (row > 25 - max_distance) and (matrix_label[row-1,:].sum() < 25):\n",
    "            count = matrix_label[row-max_distance:row,:].sum(axis=0)\n",
    "            for k in range(count.shape[0]):\n",
    "                if count[k] < max_distance:\n",
    "                    matrix_label[row-max_distance:row,k] = 0\n",
    "        \n",
    "        elif (row >= max_distance) and (row <= 25 - max_distance):\n",
    "            if matrix_label[row+1,:].sum() < 25:\n",
    "                count = matrix_label[row+1:row+max_distance+1,:].sum(axis=0)\n",
    "                for k in range(count.shape[0]):\n",
    "                    if count[k] < max_distance:\n",
    "                        matrix_label[row+1:row+max_distance,k] = 0\n",
    "        \n",
    "            if matrix_label[row-1,:].sum() < 25:            \n",
    "                count = matrix_label[row-max_distance:row,:].sum(axis=0)\n",
    "                for k in range(count.shape[0]):\n",
    "                    if count[k] < max_distance:\n",
    "                        matrix_label[row-max_distance:row,k] = 0\n",
    "        \n",
    "    # Rows with less then 4 zeros are considered as ROAD\n",
    "    #threshold = 16\n",
    "    #matrix_label[np.where(matrix_label.sum(axis=1)>=threshold)[0],:] = 1\n",
    "  \n",
    "    # Create the list\n",
    "    list_label = (matrix_label.T).tolist()\n",
    "    # Flatten the lists\n",
    "    label = [y for x in list_label for y in x]\n",
    "    return label "
   ]
  },
  {
   "cell_type": "code",
   "execution_count": null,
   "metadata": {},
   "outputs": [],
   "source": [
    "new_label5 = clean_garbage_hor(new_label4,3)\n",
    "\n",
    "# DISPLAY THE IMAGE\n",
    "mask_res = label_to_img(400, 400, 16, 16, new_label5)\n",
    "image_plot = make_img_overlay(imgs_te[img_idx], mask_res)\n",
    "plt.figure(figsize=(10, 10))\n",
    "plt.imshow(image_plot)"
   ]
  },
  {
   "cell_type": "code",
   "execution_count": null,
   "metadata": {},
   "outputs": [],
   "source": [
    "new_label6 = remove_isolated_connected_component(new_label5,9)\n",
    "\n",
    "# DISPLAY THE IMAGE\n",
    "mask_res = label_to_img(400, 400, 16, 16, new_label6)\n",
    "image_plot = make_img_overlay(imgs_te[img_idx], mask_res)\n",
    "plt.figure(figsize=(10, 10))\n",
    "plt.imshow(image_plot)"
   ]
  },
  {
   "cell_type": "code",
   "execution_count": null,
   "metadata": {},
   "outputs": [],
   "source": [
    "def post_processing(label,threshold,size_min,verbarg,horbarg):\n",
    "    label = complete_lines(label,threshold)\n",
    "    label = remove_isolated_connected_component(label,size_min)\n",
    "    label = clean_garbage_vert(label,verbarg)\n",
    "    label = clean_garbage_hor(label,horbarg)\n",
    "    label = remove_isolated_connected_component(label,size_min)\n",
    "    return label"
   ]
  },
  {
   "cell_type": "code",
   "execution_count": null,
   "metadata": {},
   "outputs": [],
   "source": []
  },
  {
   "cell_type": "code",
   "execution_count": null,
   "metadata": {},
   "outputs": [],
   "source": []
  },
  {
   "cell_type": "code",
   "execution_count": null,
   "metadata": {},
   "outputs": [],
   "source": []
  },
  {
   "cell_type": "code",
   "execution_count": null,
   "metadata": {},
   "outputs": [],
   "source": [
    "def calcul_F1(mask, prediction):   \n",
    "    '''compute the F1 error'''\n",
    "    TN = 0\n",
    "    FP = 0\n",
    "    FN = 0\n",
    "    TP = 0\n",
    "    \n",
    "\n",
    "    for i in range(mask.shape[0]):\n",
    "        for j in range(mask.shape[1]):\n",
    "            if (round(mask[i,j])==0) & (prediction[i,j]==0):\n",
    "                TN = TN + 1\n",
    "            elif (round(mask[i,j])==1) & (prediction[i,j]==0):\n",
    "                FN = FN + 1   \n",
    "            elif (round(mask[i,j])==1) & (prediction[i,j]==1):\n",
    "                TP = TP + 1  \n",
    "            else:\n",
    "                FP = FP + 1\n",
    "    \n",
    "    F1_score = 0\n",
    "    if (TP+FP > 0) and (TP+FN > 0) and (TP>0):\n",
    "        precision = TP/(TP+FP)\n",
    "        recall = TP/(TP+FN)\n",
    "        if (precision+recall)>0:\n",
    "            F1_score = 2*precision*recall / (precision+recall)\n",
    "    #else:\n",
    "        #print('Something goes wrong...')\n",
    "    return F1_score"
   ]
  },
  {
   "cell_type": "code",
   "execution_count": null,
   "metadata": {},
   "outputs": [],
   "source": [
    "# Create mask\n",
    "prevision = label_to_img(400, 400, 16, 16, new_label5)\n",
    "F1=calcul_F1(gt_imgs_te[img_idx],prevision)"
   ]
  },
  {
   "cell_type": "code",
   "execution_count": null,
   "metadata": {},
   "outputs": [],
   "source": [
    "print(F1)"
   ]
  },
  {
   "cell_type": "code",
   "execution_count": null,
   "metadata": {},
   "outputs": [],
   "source": []
  },
  {
   "cell_type": "code",
   "execution_count": null,
   "metadata": {},
   "outputs": [],
   "source": []
  },
  {
   "cell_type": "code",
   "execution_count": null,
   "metadata": {},
   "outputs": [],
   "source": []
  },
  {
   "cell_type": "code",
   "execution_count": null,
   "metadata": {},
   "outputs": [],
   "source": [
    "def create_model(img,gt,n_cluster,patch_size):\n",
    "    \n",
    "    # Extract patches from input images\n",
    "    img_patches = img_crop(img, patch_size, patch_size)\n",
    "    gt_patches = img_crop(gt, patch_size, patch_size)\n",
    "    \n",
    "    # Compute features for each image patch\n",
    "    foreground_threshold = 0.25 # percentage of pixels > 1 required to assign a foreground label to a patch\n",
    "\n",
    "    # Create X and Y\n",
    "    Y = np.asarray([value_to_class(np.mean(gt_patches[i])) for i in range(len(gt_patches))])\n",
    "    X = np.asarray([extract_features(img_patches[i]) for i in range(len(img_patches))])\n",
    "    \n",
    "    model = KMeans(n_clusters=n_cluster, random_state=2, init = 'k-means++', n_init = 20).fit(X)\n",
    "    \n",
    "    labels = model.labels_\n",
    "    clusters_total = np.zeros(n_cluster)\n",
    "    tot = np.zeros(n_cluster)\n",
    "    for i in range(len(labels)):\n",
    "        clusters_total[labels[i]] = clusters_total[labels[i]] + Y[i] \n",
    "        tot[labels[i]] = tot[labels[i]] + 1\n",
    "        \n",
    "    clusters_label = 1*(np.divide(clusters_total,tot)>=0.3)\n",
    "        \n",
    "    return model,clusters_label"
   ]
  },
  {
   "cell_type": "code",
   "execution_count": null,
   "metadata": {},
   "outputs": [],
   "source": [
    "def assign_label(patch,models):\n",
    "    X = np.asarray(extract_features(patch)).reshape(1,-1)\n",
    "    list_label=[]\n",
    "    for model in models:\n",
    "        cluster_chosen = model[0].predict(X)\n",
    "        list_label.append(model[1][cluster_chosen])\n",
    "    \n",
    "    label = 1*(np.mean(list_label)>=0.3)\n",
    "    \n",
    "    return label"
   ]
  },
  {
   "cell_type": "code",
   "execution_count": null,
   "metadata": {},
   "outputs": [],
   "source": [
    "def calculate_accuracy(img,gt,models):\n",
    "    \n",
    "    # Extract patches from input images\n",
    "    img_patches = img_crop(img, patch_size, patch_size)\n",
    "    gt_patches = img_crop(gt, patch_size, patch_size)\n",
    "\n",
    "    # Create X and Y\n",
    "    Y = np.asarray([value_to_class(np.mean(gt_patches[i])) for i in range(len(gt_patches))])\n",
    "    label = ([assign_label(img_patches[i],models) for i in range(len(img_patches))])\n",
    "    \n",
    "    # Calculate F1 score\n",
    "    F1 = compute_F1(Y, label)\n",
    "    return F1,label "
   ]
  },
  {
   "cell_type": "code",
   "execution_count": null,
   "metadata": {},
   "outputs": [],
   "source": [
    "# CALCULATE THE MODELS\n",
    "k=10\n",
    "#patch_size = 20 # each patch is 16*16 pixels\n",
    "models = []\n",
    "for img,gt in zip(imgs,gt_imgs):\n",
    "    models.append(create_model(img,gt,k,patch_size))"
   ]
  },
  {
   "cell_type": "code",
   "execution_count": null,
   "metadata": {},
   "outputs": [],
   "source": [
    "# TEST 1 IMAGE\n",
    "#img_idx = 1\n",
    "img_test = imgs_te[img_idx]\n",
    "gt_test = gt_imgs_te[img_idx]\n",
    "F1_score,result_k = calculate_accuracy(img_test,gt_test,models)"
   ]
  },
  {
   "cell_type": "code",
   "execution_count": null,
   "metadata": {},
   "outputs": [],
   "source": [
    "# PRINT THE RESULT\n",
    "print('F1 score = ' + str(F1_score))"
   ]
  },
  {
   "cell_type": "code",
   "execution_count": null,
   "metadata": {},
   "outputs": [],
   "source": [
    "# DISPLAY THE IMAGE\n",
    "mask_res = label_to_img(400, 400, 16, 16, label)\n",
    "image_plot = make_img_overlay(img_test, mask_res)\n",
    "plt.figure(figsize=(10, 10))\n",
    "plt.imshow(image_plot)"
   ]
  },
  {
   "cell_type": "code",
   "execution_count": null,
   "metadata": {},
   "outputs": [],
   "source": [
    "new_result = complete_lines(result_k,17)\n",
    "\n",
    "# DISPLAY THE IMAGE\n",
    "mask_res = label_to_img(400, 400, 16, 16, new_result)\n",
    "image_plot = make_img_overlay(imgs_te[img_idx], mask_res)\n",
    "plt.figure(figsize=(10, 10))\n",
    "plt.imshow(image_plot)"
   ]
  },
  {
   "cell_type": "code",
   "execution_count": null,
   "metadata": {},
   "outputs": [],
   "source": [
    "new_result2 = remove_isolated_connected_component(new_result,9)\n",
    "\n",
    "# DISPLAY THE IMAGE\n",
    "mask_res = label_to_img(400, 400, 16, 16, new_result2)\n",
    "image_plot = make_img_overlay(imgs_te[img_idx], mask_res)\n",
    "plt.figure(figsize=(10, 10))\n",
    "plt.imshow(image_plot)"
   ]
  },
  {
   "cell_type": "code",
   "execution_count": null,
   "metadata": {},
   "outputs": [],
   "source": [
    "new_result4 = clean_garbage_vert(new_result2,2)\n",
    "\n",
    "# DISPLAY THE IMAGE\n",
    "mask_res = label_to_img(400, 400, 16, 16, new_result4)\n",
    "image_plot = make_img_overlay(imgs_te[img_idx], mask_res)\n",
    "plt.figure(figsize=(10, 10))\n",
    "plt.imshow(image_plot)"
   ]
  },
  {
   "cell_type": "code",
   "execution_count": null,
   "metadata": {},
   "outputs": [],
   "source": [
    "new_result5 = clean_garbage_hor(new_result4,2)\n",
    "\n",
    "# DISPLAY THE IMAGE\n",
    "mask_res = label_to_img(400, 400, 16, 16, new_result5)\n",
    "image_plot = make_img_overlay(imgs_te[img_idx], mask_res)\n",
    "plt.figure(figsize=(10, 10))\n",
    "plt.imshow(image_plot)"
   ]
  },
  {
   "cell_type": "code",
   "execution_count": null,
   "metadata": {},
   "outputs": [],
   "source": [
    "new_result6 = remove_isolated_connected_component(new_result5,4)\n",
    "\n",
    "# DISPLAY THE IMAGE\n",
    "mask_res = label_to_img(400, 400, 16, 16, new_result6)\n",
    "image_plot = make_img_overlay(imgs_te[img_idx], mask_res)\n",
    "plt.figure(figsize=(10, 10))\n",
    "plt.imshow(image_plot)"
   ]
  },
  {
   "cell_type": "code",
   "execution_count": null,
   "metadata": {},
   "outputs": [],
   "source": []
  }
 ],
 "metadata": {
  "kernelspec": {
   "display_name": "Python 3",
   "language": "python",
   "name": "python3"
  },
  "language_info": {
   "codemirror_mode": {
    "name": "ipython",
    "version": 3
   },
   "file_extension": ".py",
   "mimetype": "text/x-python",
   "name": "python",
   "nbconvert_exporter": "python",
   "pygments_lexer": "ipython3",
   "version": "3.6.5"
  }
 },
 "nbformat": 4,
 "nbformat_minor": 2
}
