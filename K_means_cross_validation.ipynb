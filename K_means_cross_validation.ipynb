{
 "cells": [
  {
   "cell_type": "code",
   "execution_count": 18,
   "metadata": {},
   "outputs": [],
   "source": [
    "%matplotlib inline\n",
    "import matplotlib.image as mpimg\n",
    "import numpy as np\n",
    "import matplotlib.pyplot as plt\n",
    "import os,sys\n",
    "from PIL import Image\n",
    "from sklearn.cluster import KMeans"
   ]
  },
  {
   "cell_type": "code",
   "execution_count": null,
   "metadata": {},
   "outputs": [],
   "source": [
    "# BLOCKS FROM PREVIUOS SCRIPT"
   ]
  },
  {
   "cell_type": "code",
   "execution_count": null,
   "metadata": {},
   "outputs": [],
   "source": [
    "def create_model(img,gt,n_cluster,patch_size):\n",
    "    \n",
    "    # Extract patches from input images\n",
    "    img_patches = img_crop(img, patch_size, patch_size)\n",
    "    gt_patches = img_crop(gt, patch_size, patch_size)\n",
    "    \n",
    "    # Linearize list of patches\n",
    "    img_patches = np.asarray([img_patches[i][j] for i in range(len(img_patches)) for j in range(len(img_patches[i]))])\n",
    "    gt_patches =  np.asarray([gt_patches[i][j] for i in range(len(gt_patches)) for j in range(len(gt_patches[i]))])\n",
    "    \n",
    "    # Compute features for each image patch\n",
    "    foreground_threshold = 0.25 # percentage of pixels > 1 required to assign a foreground label to a patch\n",
    "\n",
    "    # Create X and Y\n",
    "    Y = np.asarray([value_to_class(np.mean(gt_patches[i])) for i in range(len(gt_patches))])\n",
    "    X = np.asarray([extract_features(img_patches[i]) for i in range(len(img_patches))])\n",
    "    \n",
    "    model = KMeans(n_clusters=n_cluster, random_state=2, init = 'k-means++', n_init = 20).fit(X)\n",
    "    \n",
    "    labels = model.labels_\n",
    "    clusters_total = np.zeros(n_cluster)\n",
    "    tot = np.zeros(n_cluster)\n",
    "    for i in range(len(labels)):\n",
    "        clusters_total[labels[i]] = clusters_total[labels[i]] + Y[i] \n",
    "        tot[labels[i]] = tot[labels[i]] + 1\n",
    "        \n",
    "    clusters_label = 1*(np.divide(clusters_total,tot)>=0.3)\n",
    "        \n",
    "    return model,clusters_label"
   ]
  },
  {
   "cell_type": "code",
   "execution_count": null,
   "metadata": {},
   "outputs": [],
   "source": [
    "def assign_label(patch,models):\n",
    "    X = np.asarray(extract_features(patch)).reshape(1,-1)\n",
    "    list_label=[]\n",
    "    for model in models:\n",
    "        cluster_chosen = model[0].predict(X)\n",
    "        list_label.append(model[1][cluster_chosen])\n",
    "    \n",
    "    label = 1*(np.mean(list_label)>=0.3)\n",
    "    \n",
    "    return label   "
   ]
  },
  {
   "cell_type": "code",
   "execution_count": null,
   "metadata": {},
   "outputs": [],
   "source": [
    "def calcul_F1(Y, label):    \n",
    "    TN = 0\n",
    "    FP = 0\n",
    "    FN = 0\n",
    "    TP = 0\n",
    "    matrix = []\n",
    "    \n",
    "\n",
    "    for i in range(len(Y)):\n",
    "        if (Y[i]==0) & (label[i]==0):\n",
    "            TN = TN + 1\n",
    "        elif (Y[i]==1) & (label[i]==0):\n",
    "            FN = FN + 1   \n",
    "        elif (Y[i]==1) & (label[i]==1):\n",
    "            TP = TP + 1  \n",
    "        else:\n",
    "            FP = FP + 1\n",
    "    \n",
    "    precision = TP/(TP+FP)\n",
    "    recall = TP/(TP+FN)\n",
    "    F1_score = 2*precision*recall / (precision+recall) \n",
    "    return F1_score"
   ]
  },
  {
   "cell_type": "code",
   "execution_count": null,
   "metadata": {},
   "outputs": [],
   "source": [
    "def calculate_accuracy(img,gt,models):\n",
    "    \n",
    "    # Extract patches from input images\n",
    "    img_patches = img_crop(img, patch_size, patch_size)\n",
    "    gt_patches = img_crop(gt, patch_size, patch_size)\n",
    "\n",
    "    # Linearize list of patches\n",
    "    img_patches = np.asarray([img_patches[i][j] for i in range(len(img_patches)) for j in range(len(img_patches[i]))])\n",
    "    gt_patches =  np.asarray([gt_patches[i][j] for i in range(len(gt_patches)) for j in range(len(gt_patches[i]))])\n",
    "    \n",
    "    # Create X and Y\n",
    "    Y = np.asarray([value_to_class(np.mean(gt_patches[i])) for i in range(len(gt_patches))])\n",
    "    label = ([assign_label(img_patches[i],models) for i in range(len(img_patches))])\n",
    "    \n",
    "    # Calculate F1 score\n",
    "    F1 = calcul_F1(Y, label)\n",
    "    \n",
    "    return F1,label "
   ]
  },
  {
   "cell_type": "code",
   "execution_count": null,
   "metadata": {},
   "outputs": [],
   "source": [
    "# NEW BLOCKS"
   ]
  },
  {
   "cell_type": "code",
   "execution_count": 19,
   "metadata": {},
   "outputs": [],
   "source": [
    "def k_means_cross_validation(gt_imgs, imgs, k_indices, k , n_cluster,patch_size):\n",
    "    \"\"\"\n",
    "    Return the mean F1_score of our prevision.\n",
    "    \"\"\"\n",
    "    \n",
    "    # Create the test and train samples\n",
    "    train_indices = np.delete(k_indices , k , 0).reshape((k_indices.shape[0]-1) * k_indices.shape[1])\n",
    "    imgs_test = []\n",
    "    gts_test = []\n",
    "    imgs_train = []\n",
    "    gts_train = []\n",
    "    for el in k_indices[k]:\n",
    "        imgs_test.append(imgs[el])\n",
    "        gts_test.append(gt_imgs[el])\n",
    "    for el in train_indices:\n",
    "        imgs_train.append(imgs[el])\n",
    "        gts_train.append(gt_imgs[el])\n",
    "    \n",
    "    F1_score = np.zeros(len(imgs_test))\n",
    "    models = []\n",
    "    for img,gt in zip(imgs_train,gts_train):\n",
    "        models.append(create_model(img,gt,n_cluster,patch_size))\n",
    "    \n",
    "    tot = 0\n",
    "    F1_score = 0\n",
    "    for img_test,gt_test in zip(imgs_test,gts_test):\n",
    "        F1_score_temp,_ = calculate_accuracy(img_test,gt_test,models)\n",
    "        F1_score = F1_score + F1_score_temp\n",
    "        tot = tot + 1\n",
    "    \n",
    "    return np.divide(F1_score,tot)"
   ]
  },
  {
   "cell_type": "code",
   "execution_count": 20,
   "metadata": {},
   "outputs": [],
   "source": [
    "def best_k(list_nclusters,imgs,gt_imgs,k_fold,patch_size):\n",
    "    \n",
    "    # Vector to store the mean F1 (over number of clusters) at each step\n",
    "    F1=np.zeros(list_nclusters.size)\n",
    "    \n",
    "    for ind_clust,n_cluster in enumerate(list_nclusters):\n",
    "        # Vector to store the F1 for each k-fold\n",
    "        F1_k = np.zeros(k_fold) \n",
    "        \n",
    "        # split data in k fold\n",
    "        k_indices = build_k_indices(imgs, k_fold, seed)\n",
    "                \n",
    "        for k in range (k_fold):\n",
    "            # Retrieve the F1_score\n",
    "            F1_score = k_means_cross_validation(gt_imgs, imgs, k_indices, k , n_cluster,patch_size)\n",
    "                \n",
    "            #Store the result\n",
    "            F1_k[k]= F1_score\n",
    "\n",
    "        F1[ind_clust]=F1_k.mean()\n",
    "    \n",
    "    return F1"
   ]
  },
  {
   "cell_type": "code",
   "execution_count": 21,
   "metadata": {},
   "outputs": [],
   "source": [
    "def build_k_indices(y, k_fold, seed):\n",
    "    \"\"\"build k indices for k-fold.\"\"\"\n",
    "    num_row = len(y)\n",
    "    interval = int(num_row / k_fold)\n",
    "    np.random.seed(seed)\n",
    "    indices = np.random.permutation(num_row)\n",
    "    k_indices = [indices[k * interval: (k + 1) * interval]\n",
    "                 for k in range(k_fold)]\n",
    "    return np.array(k_indices)"
   ]
  },
  {
   "cell_type": "code",
   "execution_count": 22,
   "metadata": {},
   "outputs": [],
   "source": [
    "seed = 1\n",
    "list_nclusters = np.arange(2,5)\n",
    "k_fold = 5\n",
    "patch_size = 30\n",
    "best_k(list_nclusters,imgs,gt_imgs,k_fold,patch_size)"
   ]
  }
 ],
 "metadata": {
  "kernelspec": {
   "display_name": "Python 3",
   "language": "python",
   "name": "python3"
  },
  "language_info": {
   "codemirror_mode": {
    "name": "ipython",
    "version": 3
   },
   "file_extension": ".py",
   "mimetype": "text/x-python",
   "name": "python",
   "nbconvert_exporter": "python",
   "pygments_lexer": "ipython3",
   "version": "3.6.5"
  }
 },
 "nbformat": 4,
 "nbformat_minor": 1
}
