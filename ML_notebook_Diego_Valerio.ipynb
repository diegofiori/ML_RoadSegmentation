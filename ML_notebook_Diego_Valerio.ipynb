{
 "cells": [
  {
   "cell_type": "code",
   "execution_count": 1,
   "metadata": {},
   "outputs": [],
   "source": [
    "%matplotlib inline\n",
    "import matplotlib.image as mpimg\n",
    "import numpy as np\n",
    "import matplotlib.pyplot as plt\n",
    "import os,sys\n",
    "from PIL import Image\n",
    "from tqdm import tqdm\n",
    "from scipy import ndimage\n"
   ]
  },
  {
   "cell_type": "code",
   "execution_count": 2,
   "metadata": {},
   "outputs": [],
   "source": [
    "import torch.nn.functional as F\n",
    "import torch as tc\n",
    "from torch.utils.data import DataLoader\n",
    "from torch.utils.data import Dataset\n",
    "from helpers_img import *\n",
    "from NeuralNets import *\n",
    "from training_NN import *\n",
    "from preprocessing import *"
   ]
  },
  {
   "cell_type": "code",
   "execution_count": null,
   "metadata": {
    "collapsed": true
   },
   "outputs": [],
   "source": [
    "tc.cuda.empty_cache()"
   ]
  },
  {
   "cell_type": "markdown",
   "metadata": {},
   "source": [
    "# Valerio inizia da qui"
   ]
  },
  {
   "cell_type": "code",
   "execution_count": null,
   "metadata": {
    "collapsed": true
   },
   "outputs": [],
   "source": [
    "a = [1,2]\n",
    "b=[*a*4]\n",
    "print(b)"
   ]
  },
  {
   "cell_type": "code",
   "execution_count": 3,
   "metadata": {},
   "outputs": [],
   "source": [
    "class DatasetSimpleNet(Dataset):\n",
    "    def __init__(self,root_dir, nb_boot=0, do_flip=False, do_rotation=False,do_train=False):\n",
    "        self.image_dir = root_dir + \"images/\"\n",
    "        self.files = os.listdir(self.image_dir)\n",
    "        self.gt_dir = root_dir + \"groundtruth/\"\n",
    "        self.rot_len=0\n",
    "        self.flip_len=0\n",
    "        self.train = do_train\n",
    "        self.initial_len=len(self.files)\n",
    "        # rotation\n",
    "        if do_rotation:\n",
    "            self.rot_len= len(self.files)\n",
    "            self.files = [*self.files*4]\n",
    "        #flip \n",
    "        if do_flip:\n",
    "            self.flip_len=len(self.files)\n",
    "            self.files= [*self.files*2]\n",
    "        if nb_boot > 0:\n",
    "            if nb_boot<len(self.files):\n",
    "                self.bootstrap_dataset = np.random.choice(np.arange(len(self.files)), size =nb_boot,\n",
    "                                                          replace = False)\n",
    "            else :\n",
    "                self.bootstrap_dataset = np.random.choice(np.arange(len(self.files)), size =nb_boot,\n",
    "                                                          replace = True)\n",
    "        else :\n",
    "            self.bootstrap_dataset = np.arange(len(self.files))\n",
    "        self.bootstrap_dataset = np.array(self.bootstrap_dataset)\n",
    "        self.binary_vector = np.ones(len(self.files))\n",
    "        \n",
    "        self.binary_vector[self.bootstrap_dataset]=0\n",
    "                \n",
    "        \n",
    "    def __len__(self):\n",
    "        return self.bootstrap_dataset.shape[0]\n",
    "    \n",
    "    def __getitem__(self,index):\n",
    "        ind = self.bootstrap_dataset[index]\n",
    "        image = [load_image(self.image_dir + self.files[ind])]\n",
    "        gt_image = [load_image(self.gt_dir + self.files[ind])]\n",
    "        if self.rot_len>0:\n",
    "            image,gt_image = rotation(image,gt_image)\n",
    "        if self.flip_len>0:\n",
    "            image,gt_image = flip(image,gt_image)\n",
    "        \n",
    "        i = index//self.initial_len\n",
    "        image,gt_image = image[i],gt_image[i]\n",
    "        w,h=16,16\n",
    "        train_sub_images = [img_crop(image, w, h)]\n",
    "        train_mask_label = [img_crop(gt_image,w,h)]\n",
    "        train_mask_label = from_mask_to_vector(train_mask_label,0.3)\n",
    "        train_sub_images = transform_subIMG_to_Tensor(train_sub_images)\n",
    "        mean = train_sub_images.mean()\n",
    "        std = train_sub_images.std()\n",
    "        train_sub_images = (train_sub_images-mean)/std\n",
    "        if self.train:\n",
    "            train_sub_images, train_mask_label = reduce_dataset(train_sub_images,train_mask_label)\n",
    "            for l in range(10):\n",
    "                new_indices= np.random.permutation(len(train_mask_label))\n",
    "                train_sub_images=train_sub_images[new_indices]\n",
    "                train_mask_label=train_mask_label[new_indices]\n",
    "        return train_sub_images, 1*train_mask_label"
   ]
  },
  {
   "cell_type": "code",
   "execution_count": null,
   "metadata": {
    "collapsed": true
   },
   "outputs": [],
   "source": []
  },
  {
   "cell_type": "code",
   "execution_count": null,
   "metadata": {
    "collapsed": true
   },
   "outputs": [],
   "source": [
    "# Loaded a set of images\n",
    "root_dir = \"training/\"\n",
    "\n",
    "image_dir = root_dir + \"images/\"\n",
    "files = os.listdir(image_dir)\n",
    "N = min(100, len(files)) # Load maximum 100 images\n",
    "print(\"Loading \" + str(N) + \" images\")\n",
    "imgs = [load_image(image_dir + files[i]) for i in range(N)]\n",
    "print(files[0])\n",
    "\n",
    "gt_dir = root_dir + \"groundtruth/\"\n",
    "print(\"Loading \" + str(N) + \" images\")\n",
    "gt_imgs = [load_image(gt_dir + files[i]) for i in range(N)]\n",
    "print(files[0])\n",
    "\n",
    "#n = 85 # Only use 85 images for training"
   ]
  },
  {
   "cell_type": "code",
   "execution_count": null,
   "metadata": {
    "collapsed": true
   },
   "outputs": [],
   "source": [
    "# augment the dataset adding rotated images\n",
    "imgs, gt_imgs = rotation(imgs, gt_imgs)\n",
    "print('Total number of imgages: '+str(len(imgs)))"
   ]
  },
  {
   "cell_type": "code",
   "execution_count": 4,
   "metadata": {},
   "outputs": [],
   "source": [
    "def bootstrap_images(imgs, gt_imgs,size,number):\n",
    "    '''This function returns a list of list. Each element of the \"external\" list is a list of randomly \n",
    "    sampled images with replacement'''\n",
    "    \n",
    "    new_imgs=[]\n",
    "    new_gt_imgs=[]\n",
    "    array = np.arange(len(imgs))\n",
    "    matrix= np.zeros((len(imgs),number))\n",
    "    for k in range(number):\n",
    "        b = np.random.choice(array, size, replace=True)\n",
    "        list_temp_imgs = [imgs[i] for i in b]\n",
    "        list_temp_gt_imgs = [gt_imgs[i] for i in b]\n",
    "        new_imgs.append(list_temp_imgs)\n",
    "        new_gt_imgs.append(list_temp_gt_imgs)\n",
    "        matrix[b,k]=1\n",
    "    \n",
    "    return new_imgs,new_gt_imgs,matrix"
   ]
  },
  {
   "cell_type": "code",
   "execution_count": null,
   "metadata": {
    "collapsed": true
   },
   "outputs": [],
   "source": [
    "#? np.ndarray"
   ]
  },
  {
   "cell_type": "code",
   "execution_count": 5,
   "metadata": {},
   "outputs": [],
   "source": [
    "def train_SimpleNet(dataset,lr, max_epochs, mini_batch_size, dropout):\n",
    "    ''' Train a simple net'''\n",
    "    \n",
    "    model = SimpleNet(dropout)\n",
    "    \n",
    "    train_model_Adam( model, dataset, max_epochs, lr, mini_batch_size)\n",
    "    \n",
    "    return model\n",
    "\n"
   ]
  },
  {
   "cell_type": "code",
   "execution_count": 6,
   "metadata": {},
   "outputs": [],
   "source": [
    "def train_model_Adam( model, dataset, max_epochs, lr, mini_batch_size, threshold=0.01):\n",
    "    '''train the Neural Net using Adam as optimizer and an MSE loss'''\n",
    "    #optimizer=tc.optim.SGD(model.parameters(),lr)\n",
    "    train_loader = DataLoader(dataset,batch_size=mini_batch_size)\n",
    "    optimizer=tc.optim.Adam(model.parameters(),lr)\n",
    "    criterion= tc.nn.MSELoss()\n",
    "    losses=[]\n",
    "    if tc.cuda.is_available():\n",
    "        model.cuda()\n",
    "        \n",
    "    \n",
    "    for i in tqdm(range(max_epochs)):\n",
    "        model.is_training=True\n",
    "        model.train()\n",
    "    \n",
    "        for train_data,label in train_loader:\n",
    "            train_data = train_data.view(-1,3,16,16)\n",
    "            label = label.type(tc.FloatTensor).view(-1,1)\n",
    "            if tc.cuda.is_available():\n",
    "                train_data = train_data.cuda()\n",
    "                label = label.cuda()\n",
    "           \n",
    "            output= model(train_data)\n",
    "            #print(output,tc.LongTensor(np.array([1*label[i:i+mini_batch_size]]).reshape(-1,1)))\n",
    "            loss= criterion(output,label.reshape(-1,1))\n",
    "            model.zero_grad()\n",
    "            loss.backward()\n",
    "            optimizer.step()\n",
    "        losses.append(loss)\n",
    "        # compute training error\n",
    "        '''\n",
    "        model.is_training=False\n",
    "        model.eval()\n",
    "        test = model(train_data)\n",
    "        test = test.cpu()\n",
    "        prediction= test[:]>0.5\n",
    "        \n",
    "        prediction= 1*(prediction.numpy()[:] != label.reshape(-1,1)[:])\n",
    "        \n",
    "        training_error = np.sum(prediction)/len(prediction)\n",
    "        training_errors.append(training_error*100)\n",
    "        if training_error< threshold:\n",
    "            break\n",
    "        \n",
    "    '''\n",
    "    plt.figure()\n",
    "    plt.plot(np.arange(max_epochs)+1,losses)\n",
    "    plt.xlabel('epoch')\n",
    "    plt.ylabel('loss')\n",
    "    plt.show()\n",
    "    \n",
    "    model.cpu()    \n",
    "    "
   ]
  },
  {
   "cell_type": "code",
   "execution_count": 7,
   "metadata": {},
   "outputs": [],
   "source": [
    "def bagging_NN(root_dir, percentage_train_data, nb_model, w, h, lr, max_epochs, mini_batch_size, dropout):\n",
    "    nb_data = int( 800*percentage_train_data )\n",
    "    list_dataset = [DatasetSimpleNet(root_dir, nb_boot=nb_data, do_flip=True, do_rotation=True) for l in range(nb_model)]\n",
    "    models = []\n",
    "    for i in range(nb_model):\n",
    "        model=train_SimpleNet(list_dataset[i], lr, max_epochs, mini_batch_size, dropout)\n",
    "        models.append(model)\n",
    "        print('model '+str(i)+' trained')\n",
    "        \n",
    "    # the data matrix has 1 in position n,j if the nth image was not used in jth\n",
    "    # model training.\n",
    "    \n",
    "    # compute F1 error\n",
    "    \n",
    "        \n",
    "    \n",
    "    F1_error=0\n",
    "    not_testable_img=0\n",
    "    predictions=[]\n",
    "    total_dataset = DatasetSimpleNet(root_dir, nb_boot=0, do_flip=False, do_rotation=False, \n",
    "                                    do_train=False)\n",
    "    #test_loader = DataLoader(dataset)\n",
    "    binary_matrix = np.zeros((800,nb_model))\n",
    "    for i,dataset in enumerate(list_dataset):\n",
    "        binary_matrix[:,i] = dataset.binary_vector\n",
    "    for i in tqdm(range(800)):        \n",
    "        if binary_matrix[i,:].sum()>0:\n",
    "            test,label = total_dataset.__getitem__(i)\n",
    "            ind=np.where(binary_matrix[i,:])[0]\n",
    "            predictions=np.array([models[k](test).detach().numpy() for k in ind])\n",
    "            predictions = ((predictions.mean(0)[:] >0.5)*1).reshape(-1,)\n",
    "            mask_test = label_to_img(400, 400, w, h, predictions)\n",
    "            label = label_to_img(400, 400, w, h, label)\n",
    "            F1_error += calcul_F1(label, mask_test)\n",
    "        else:\n",
    "            not_testable_img+=1\n",
    "    \n",
    "    try:\n",
    "        F1_error= F1_error/(nb_data-not_testable_img)\n",
    "    except:\n",
    "        F1_error=0\n",
    "    return models, F1_error\n",
    "    "
   ]
  },
  {
   "cell_type": "code",
   "execution_count": 9,
   "metadata": {
    "scrolled": false
   },
   "outputs": [
    {
     "name": "stdout",
     "output_type": "stream",
     "text": [
      "cuda is available\n"
     ]
    },
    {
     "name": "stderr",
     "output_type": "stream",
     "text": [
      "100%|██████████| 15/15 [03:01<00:00, 11.68s/it]\n"
     ]
    },
    {
     "data": {
      "image/png": "[encoded data removed]",
      "text/plain": [
       "<Figure size 432x288 with 1 Axes>"
      ]
     },
     "metadata": {},
     "output_type": "display_data"
    },
    {
     "name": "stdout",
     "output_type": "stream",
     "text": [
      "model 0 trained\n"
     ]
    },
    {
     "name": "stderr",
     "output_type": "stream",
     "text": [
      "100%|██████████| 15/15 [03:26<00:00, 13.18s/it]\n"
     ]
    },
    {
     "data": {
      "image/png": "[encoded data removed]",
      "text/plain": [
       "<Figure size 432x288 with 1 Axes>"
      ]
     },
     "metadata": {},
     "output_type": "display_data"
    },
    {
     "name": "stdout",
     "output_type": "stream",
     "text": [
      "model 1 trained\n"
     ]
    },
    {
     "name": "stderr",
     "output_type": "stream",
     "text": [
      "\r",
      "  0%|          | 0/800 [00:00<?, ?it/s]"
     ]
    },
    {
     "name": "stdout",
     "output_type": "stream",
     "text": [
      "Something goes wrong...\n"
     ]
    },
    {
     "name": "stderr",
     "output_type": "stream",
     "text": [
      "\r",
      "  0%|          | 1/800 [00:00<07:17,  1.82it/s]"
     ]
    },
    {
     "name": "stdout",
     "output_type": "stream",
     "text": [
      "Something goes wrong...\n"
     ]
    },
    {
     "name": "stderr",
     "output_type": "stream",
     "text": [
      "\r",
      "  0%|          | 2/800 [00:01<07:22,  1.80it/s]"
     ]
    },
    {
     "name": "stdout",
     "output_type": "stream",
     "text": [
      "Something goes wrong...\n"
     ]
    },
    {
     "name": "stderr",
     "output_type": "stream",
     "text": [
      "\r",
      "  0%|          | 3/800 [00:01<07:17,  1.82it/s]"
     ]
    },
    {
     "name": "stdout",
     "output_type": "stream",
     "text": [
      "Something goes wrong...\n"
     ]
    },
    {
     "name": "stderr",
     "output_type": "stream",
     "text": [
      "\r",
      "  0%|          | 4/800 [00:02<07:08,  1.86it/s]"
     ]
    },
    {
     "name": "stdout",
     "output_type": "stream",
     "text": [
      "Something goes wrong...\n"
     ]
    },
    {
     "name": "stderr",
     "output_type": "stream",
     "text": [
      "\r",
      "  1%|          | 5/800 [00:02<06:51,  1.93it/s]"
     ]
    },
    {
     "name": "stdout",
     "output_type": "stream",
     "text": [
      "Something goes wrong...\n"
     ]
    },
    {
     "name": "stderr",
     "output_type": "stream",
     "text": [
      "\r",
      "  1%|          | 6/800 [00:03<06:56,  1.91it/s]"
     ]
    },
    {
     "name": "stdout",
     "output_type": "stream",
     "text": [
      "Something goes wrong...\n"
     ]
    },
    {
     "name": "stderr",
     "output_type": "stream",
     "text": [
      "\r",
      "  1%|          | 7/800 [00:03<07:03,  1.87it/s]"
     ]
    },
    {
     "name": "stdout",
     "output_type": "stream",
     "text": [
      "Something goes wrong...\n"
     ]
    },
    {
     "name": "stderr",
     "output_type": "stream",
     "text": [
      "\r",
      "  1%|          | 8/800 [00:04<07:01,  1.88it/s]"
     ]
    },
    {
     "name": "stdout",
     "output_type": "stream",
     "text": [
      "Something goes wrong...\n"
     ]
    },
    {
     "name": "stderr",
     "output_type": "stream",
     "text": [
      "\r",
      "  1%|          | 9/800 [00:04<07:03,  1.87it/s]"
     ]
    },
    {
     "name": "stdout",
     "output_type": "stream",
     "text": [
      "Something goes wrong...\n"
     ]
    },
    {
     "name": "stderr",
     "output_type": "stream",
     "text": [
      "\r",
      "  1%|▏         | 10/800 [00:05<07:09,  1.84it/s]"
     ]
    },
    {
     "name": "stdout",
     "output_type": "stream",
     "text": [
      "Something goes wrong...\n"
     ]
    },
    {
     "name": "stderr",
     "output_type": "stream",
     "text": [
      "\r",
      "  1%|▏         | 11/800 [00:05<07:03,  1.86it/s]"
     ]
    },
    {
     "name": "stdout",
     "output_type": "stream",
     "text": [
      "Something goes wrong...\n"
     ]
    },
    {
     "name": "stderr",
     "output_type": "stream",
     "text": [
      "\r",
      "  2%|▏         | 12/800 [00:06<07:04,  1.86it/s]"
     ]
    },
    {
     "name": "stdout",
     "output_type": "stream",
     "text": [
      "Something goes wrong...\n"
     ]
    },
    {
     "name": "stderr",
     "output_type": "stream",
     "text": [
      "\r",
      "  2%|▏         | 13/800 [00:06<07:02,  1.86it/s]"
     ]
    },
    {
     "name": "stdout",
     "output_type": "stream",
     "text": [
      "Something goes wrong...\n"
     ]
    },
    {
     "name": "stderr",
     "output_type": "stream",
     "text": [
      "\r",
      "  2%|▏         | 14/800 [00:07<06:49,  1.92it/s]"
     ]
    },
    {
     "name": "stdout",
     "output_type": "stream",
     "text": [
      "Something goes wrong...\n"
     ]
    },
    {
     "name": "stderr",
     "output_type": "stream",
     "text": [
      "\r",
      "  2%|▏         | 15/800 [00:07<06:48,  1.92it/s]"
     ]
    },
    {
     "name": "stdout",
     "output_type": "stream",
     "text": [
      "Something goes wrong...\n"
     ]
    },
    {
     "name": "stderr",
     "output_type": "stream",
     "text": [
      "\r",
      "  2%|▏         | 16/800 [00:08<06:43,  1.94it/s]"
     ]
    },
    {
     "name": "stdout",
     "output_type": "stream",
     "text": [
      "Something goes wrong...\n"
     ]
    },
    {
     "name": "stderr",
     "output_type": "stream",
     "text": [
      "\r",
      "  2%|▏         | 17/800 [00:08<06:39,  1.96it/s]"
     ]
    },
    {
     "name": "stdout",
     "output_type": "stream",
     "text": [
      "Something goes wrong...\n"
     ]
    },
    {
     "name": "stderr",
     "output_type": "stream",
     "text": [
      "\r",
      "  2%|▏         | 18/800 [00:09<06:37,  1.97it/s]"
     ]
    },
    {
     "name": "stdout",
     "output_type": "stream",
     "text": [
      "Something goes wrong...\n"
     ]
    },
    {
     "name": "stderr",
     "output_type": "stream",
     "text": [
      "\r",
      "  2%|▏         | 19/800 [00:09<06:39,  1.95it/s]"
     ]
    },
    {
     "name": "stdout",
     "output_type": "stream",
     "text": [
      "Something goes wrong...\n"
     ]
    },
    {
     "name": "stderr",
     "output_type": "stream",
     "text": [
      "\r",
      "  2%|▎         | 20/800 [00:10<06:35,  1.97it/s]"
     ]
    },
    {
     "name": "stdout",
     "output_type": "stream",
     "text": [
      "Something goes wrong...\n"
     ]
    },
    {
     "name": "stderr",
     "output_type": "stream",
     "text": [
      "\r",
      "  3%|▎         | 21/800 [00:10<06:28,  2.00it/s]"
     ]
    },
    {
     "name": "stdout",
     "output_type": "stream",
     "text": [
      "Something goes wrong...\n"
     ]
    },
    {
     "name": "stderr",
     "output_type": "stream",
     "text": [
      "\r",
      "  3%|▎         | 22/800 [00:11<06:36,  1.96it/s]"
     ]
    },
    {
     "name": "stdout",
     "output_type": "stream",
     "text": [
      "Something goes wrong...\n"
     ]
    },
    {
     "name": "stderr",
     "output_type": "stream",
     "text": [
      "\r",
      "  3%|▎         | 23/800 [00:11<06:30,  1.99it/s]"
     ]
    },
    {
     "name": "stdout",
     "output_type": "stream",
     "text": [
      "Something goes wrong...\n"
     ]
    },
    {
     "name": "stderr",
     "output_type": "stream",
     "text": [
      "\r",
      "  3%|▎         | 24/800 [00:12<06:38,  1.95it/s]"
     ]
    },
    {
     "name": "stdout",
     "output_type": "stream",
     "text": [
      "Something goes wrong...\n"
     ]
    },
    {
     "name": "stderr",
     "output_type": "stream",
     "text": [
      "\r",
      "  3%|▎         | 25/800 [00:13<06:46,  1.91it/s]"
     ]
    },
    {
     "name": "stdout",
     "output_type": "stream",
     "text": [
      "Something goes wrong...\n"
     ]
    },
    {
     "name": "stderr",
     "output_type": "stream",
     "text": [
      "\r",
      "  3%|▎         | 26/800 [00:13<06:55,  1.86it/s]"
     ]
    },
    {
     "name": "stdout",
     "output_type": "stream",
     "text": [
      "Something goes wrong...\n"
     ]
    },
    {
     "name": "stderr",
     "output_type": "stream",
     "text": [
      "\r",
      "  3%|▎         | 27/800 [00:14<06:51,  1.88it/s]"
     ]
    },
    {
     "name": "stdout",
     "output_type": "stream",
     "text": [
      "Something goes wrong...\n"
     ]
    },
    {
     "name": "stderr",
     "output_type": "stream",
     "text": [
      "\r",
      "  4%|▎         | 28/800 [00:14<06:42,  1.92it/s]"
     ]
    },
    {
     "name": "stdout",
     "output_type": "stream",
     "text": [
      "Something goes wrong...\n"
     ]
    },
    {
     "name": "stderr",
     "output_type": "stream",
     "text": [
      "\r",
      "  4%|▎         | 29/800 [00:15<06:45,  1.90it/s]"
     ]
    },
    {
     "name": "stdout",
     "output_type": "stream",
     "text": [
      "Something goes wrong...\n"
     ]
    },
    {
     "name": "stderr",
     "output_type": "stream",
     "text": [
      "\r",
      "  4%|▍         | 30/800 [00:15<06:39,  1.93it/s]"
     ]
    },
    {
     "name": "stdout",
     "output_type": "stream",
     "text": [
      "Something goes wrong...\n"
     ]
    },
    {
     "name": "stderr",
     "output_type": "stream",
     "text": [
      "\r",
      "  4%|▍         | 31/800 [00:16<06:44,  1.90it/s]"
     ]
    },
    {
     "name": "stdout",
     "output_type": "stream",
     "text": [
      "Something goes wrong...\n"
     ]
    },
    {
     "name": "stderr",
     "output_type": "stream",
     "text": [
      "\r",
      "  4%|▍         | 32/800 [00:16<06:43,  1.91it/s]"
     ]
    },
    {
     "name": "stdout",
     "output_type": "stream",
     "text": [
      "Something goes wrong...\n"
     ]
    },
    {
     "name": "stderr",
     "output_type": "stream",
     "text": [
      "\r",
      "  4%|▍         | 33/800 [00:17<06:56,  1.84it/s]"
     ]
    },
    {
     "name": "stdout",
     "output_type": "stream",
     "text": [
      "Something goes wrong...\n"
     ]
    },
    {
     "name": "stderr",
     "output_type": "stream",
     "text": [
      "\r",
      "  4%|▍         | 34/800 [00:17<07:01,  1.82it/s]"
     ]
    },
    {
     "name": "stdout",
     "output_type": "stream",
     "text": [
      "Something goes wrong...\n"
     ]
    },
    {
     "name": "stderr",
     "output_type": "stream",
     "text": [
      "\r",
      "  4%|▍         | 35/800 [00:18<07:01,  1.81it/s]"
     ]
    },
    {
     "name": "stdout",
     "output_type": "stream",
     "text": [
      "Something goes wrong...\n"
     ]
    },
    {
     "name": "stderr",
     "output_type": "stream",
     "text": [
      "\r",
      "  4%|▍         | 36/800 [00:19<07:00,  1.82it/s]"
     ]
    },
    {
     "name": "stdout",
     "output_type": "stream",
     "text": [
      "Something goes wrong...\n"
     ]
    },
    {
     "name": "stderr",
     "output_type": "stream",
     "text": [
      "\r",
      "  5%|▍         | 37/800 [00:19<07:04,  1.80it/s]"
     ]
    },
    {
     "name": "stdout",
     "output_type": "stream",
     "text": [
      "Something goes wrong...\n"
     ]
    },
    {
     "name": "stderr",
     "output_type": "stream",
     "text": [
      "\r",
      "  5%|▍         | 38/800 [00:20<07:07,  1.78it/s]"
     ]
    },
    {
     "name": "stdout",
     "output_type": "stream",
     "text": [
      "Something goes wrong...\n"
     ]
    },
    {
     "name": "stderr",
     "output_type": "stream",
     "text": [
      "\r",
      "  5%|▍         | 39/800 [00:20<07:04,  1.79it/s]"
     ]
    },
    {
     "name": "stdout",
     "output_type": "stream",
     "text": [
      "Something goes wrong...\n"
     ]
    },
    {
     "name": "stderr",
     "output_type": "stream",
     "text": [
      "\r",
      "  5%|▌         | 40/800 [00:21<07:13,  1.75it/s]"
     ]
    },
    {
     "name": "stdout",
     "output_type": "stream",
     "text": [
      "Something goes wrong...\n"
     ]
    },
    {
     "name": "stderr",
     "output_type": "stream",
     "text": [
      "\r",
      "  5%|▌         | 41/800 [00:21<07:00,  1.80it/s]"
     ]
    },
    {
     "name": "stdout",
     "output_type": "stream",
     "text": [
      "Something goes wrong...\n"
     ]
    },
    {
     "name": "stderr",
     "output_type": "stream",
     "text": [
      "\r",
      "  5%|▌         | 42/800 [00:22<07:06,  1.78it/s]"
     ]
    },
    {
     "name": "stdout",
     "output_type": "stream",
     "text": [
      "Something goes wrong...\n"
     ]
    },
    {
     "name": "stderr",
     "output_type": "stream",
     "text": [
      "\r",
      "  5%|▌         | 43/800 [00:22<07:00,  1.80it/s]"
     ]
    },
    {
     "name": "stdout",
     "output_type": "stream",
     "text": [
      "Something goes wrong...\n"
     ]
    },
    {
     "name": "stderr",
     "output_type": "stream",
     "text": [
      "\r",
      "  6%|▌         | 44/800 [00:23<06:55,  1.82it/s]"
     ]
    },
    {
     "name": "stdout",
     "output_type": "stream",
     "text": [
      "Something goes wrong...\n"
     ]
    },
    {
     "name": "stderr",
     "output_type": "stream",
     "text": [
      "\r",
      "  6%|▌         | 45/800 [00:23<06:28,  1.94it/s]"
     ]
    },
    {
     "name": "stdout",
     "output_type": "stream",
     "text": [
      "Something goes wrong...\n"
     ]
    },
    {
     "name": "stderr",
     "output_type": "stream",
     "text": [
      "\r",
      "  6%|▌         | 46/800 [00:24<06:30,  1.93it/s]"
     ]
    },
    {
     "name": "stdout",
     "output_type": "stream",
     "text": [
      "Something goes wrong...\n"
     ]
    },
    {
     "name": "stderr",
     "output_type": "stream",
     "text": [
      "\r",
      "  6%|▌         | 47/800 [00:24<06:22,  1.97it/s]"
     ]
    },
    {
     "name": "stdout",
     "output_type": "stream",
     "text": [
      "Something goes wrong...\n"
     ]
    },
    {
     "name": "stderr",
     "output_type": "stream",
     "text": [
      "\r",
      "  6%|▌         | 48/800 [00:25<06:27,  1.94it/s]"
     ]
    },
    {
     "name": "stdout",
     "output_type": "stream",
     "text": [
      "Something goes wrong...\n"
     ]
    },
    {
     "name": "stderr",
     "output_type": "stream",
     "text": [
      "\r",
      "  6%|▌         | 49/800 [00:25<06:30,  1.92it/s]"
     ]
    },
    {
     "name": "stdout",
     "output_type": "stream",
     "text": [
      "Something goes wrong...\n"
     ]
    },
    {
     "name": "stderr",
     "output_type": "stream",
     "text": [
      "\r",
      "  6%|▋         | 50/800 [00:26<06:45,  1.85it/s]"
     ]
    },
    {
     "name": "stdout",
     "output_type": "stream",
     "text": [
      "Something goes wrong...\n"
     ]
    },
    {
     "name": "stderr",
     "output_type": "stream",
     "text": [
      "\r",
      "  6%|▋         | 51/800 [00:27<06:42,  1.86it/s]"
     ]
    },
    {
     "name": "stdout",
     "output_type": "stream",
     "text": [
      "Something goes wrong...\n"
     ]
    },
    {
     "name": "stderr",
     "output_type": "stream",
     "text": [
      "\r",
      "  6%|▋         | 52/800 [00:27<06:39,  1.87it/s]"
     ]
    },
    {
     "name": "stdout",
     "output_type": "stream",
     "text": [
      "Something goes wrong...\n"
     ]
    },
    {
     "name": "stderr",
     "output_type": "stream",
     "text": [
      "\r",
      "  7%|▋         | 53/800 [00:28<06:36,  1.89it/s]"
     ]
    },
    {
     "name": "stdout",
     "output_type": "stream",
     "text": [
      "Something goes wrong...\n"
     ]
    },
    {
     "name": "stderr",
     "output_type": "stream",
     "text": [
      "\r",
      "  7%|▋         | 54/800 [00:28<06:39,  1.87it/s]"
     ]
    },
    {
     "name": "stdout",
     "output_type": "stream",
     "text": [
      "Something goes wrong...\n"
     ]
    },
    {
     "name": "stderr",
     "output_type": "stream",
     "text": [
      "\r",
      "  7%|▋         | 55/800 [00:29<06:42,  1.85it/s]"
     ]
    },
    {
     "name": "stdout",
     "output_type": "stream",
     "text": [
      "Something goes wrong...\n"
     ]
    },
    {
     "name": "stderr",
     "output_type": "stream",
     "text": [
      "\r",
      "  7%|▋         | 56/800 [00:29<06:38,  1.87it/s]"
     ]
    },
    {
     "name": "stdout",
     "output_type": "stream",
     "text": [
      "Something goes wrong...\n"
     ]
    },
    {
     "name": "stderr",
     "output_type": "stream",
     "text": [
      "\r",
      "  7%|▋         | 57/800 [00:30<06:35,  1.88it/s]"
     ]
    },
    {
     "name": "stdout",
     "output_type": "stream",
     "text": [
      "Something goes wrong...\n"
     ]
    },
    {
     "name": "stderr",
     "output_type": "stream",
     "text": [
      "\r",
      "  7%|▋         | 58/800 [00:30<06:41,  1.85it/s]"
     ]
    },
    {
     "name": "stdout",
     "output_type": "stream",
     "text": [
      "Something goes wrong...\n"
     ]
    },
    {
     "name": "stderr",
     "output_type": "stream",
     "text": [
      "\r",
      "  7%|▋         | 59/800 [00:31<06:41,  1.84it/s]"
     ]
    },
    {
     "name": "stdout",
     "output_type": "stream",
     "text": [
      "Something goes wrong...\n"
     ]
    },
    {
     "name": "stderr",
     "output_type": "stream",
     "text": [
      "\r",
      "  8%|▊         | 60/800 [00:31<06:47,  1.82it/s]"
     ]
    },
    {
     "name": "stdout",
     "output_type": "stream",
     "text": [
      "Something goes wrong...\n"
     ]
    },
    {
     "name": "stderr",
     "output_type": "stream",
     "text": [
      "\r",
      "  8%|▊         | 61/800 [00:32<06:41,  1.84it/s]"
     ]
    },
    {
     "name": "stdout",
     "output_type": "stream",
     "text": [
      "Something goes wrong...\n"
     ]
    },
    {
     "name": "stderr",
     "output_type": "stream",
     "text": [
      "\r",
      "  8%|▊         | 62/800 [00:33<06:49,  1.80it/s]"
     ]
    },
    {
     "name": "stdout",
     "output_type": "stream",
     "text": [
      "Something goes wrong...\n"
     ]
    },
    {
     "name": "stderr",
     "output_type": "stream",
     "text": [
      "\r",
      "  8%|▊         | 63/800 [00:33<06:41,  1.83it/s]"
     ]
    },
    {
     "name": "stdout",
     "output_type": "stream",
     "text": [
      "Something goes wrong...\n"
     ]
    },
    {
     "name": "stderr",
     "output_type": "stream",
     "text": [
      "\r",
      "  8%|▊         | 64/800 [00:34<06:36,  1.86it/s]"
     ]
    },
    {
     "name": "stdout",
     "output_type": "stream",
     "text": [
      "Something goes wrong...\n"
     ]
    },
    {
     "name": "stderr",
     "output_type": "stream",
     "text": [
      "\r",
      "  8%|▊         | 65/800 [00:34<06:23,  1.92it/s]"
     ]
    },
    {
     "name": "stdout",
     "output_type": "stream",
     "text": [
      "Something goes wrong...\n"
     ]
    },
    {
     "name": "stderr",
     "output_type": "stream",
     "text": [
      "\r",
      "  8%|▊         | 66/800 [00:35<06:31,  1.87it/s]"
     ]
    },
    {
     "name": "stdout",
     "output_type": "stream",
     "text": [
      "Something goes wrong...\n"
     ]
    },
    {
     "name": "stderr",
     "output_type": "stream",
     "text": [
      "\r",
      "  8%|▊         | 67/800 [00:35<06:23,  1.91it/s]"
     ]
    },
    {
     "name": "stdout",
     "output_type": "stream",
     "text": [
      "Something goes wrong...\n"
     ]
    },
    {
     "name": "stderr",
     "output_type": "stream",
     "text": [
      "\r",
      "  8%|▊         | 68/800 [00:36<06:17,  1.94it/s]"
     ]
    },
    {
     "name": "stdout",
     "output_type": "stream",
     "text": [
      "Something goes wrong...\n"
     ]
    },
    {
     "name": "stderr",
     "output_type": "stream",
     "text": [
      "\r",
      "  9%|▊         | 69/800 [00:36<06:44,  1.81it/s]"
     ]
    },
    {
     "name": "stdout",
     "output_type": "stream",
     "text": [
      "Something goes wrong...\n"
     ]
    },
    {
     "name": "stderr",
     "output_type": "stream",
     "text": [
      "\r",
      "  9%|▉         | 70/800 [00:37<06:52,  1.77it/s]"
     ]
    },
    {
     "name": "stdout",
     "output_type": "stream",
     "text": [
      "Something goes wrong...\n"
     ]
    },
    {
     "name": "stderr",
     "output_type": "stream",
     "text": [
      "\r",
      "  9%|▉         | 71/800 [00:37<06:47,  1.79it/s]"
     ]
    },
    {
     "name": "stdout",
     "output_type": "stream",
     "text": [
      "Something goes wrong...\n"
     ]
    },
    {
     "name": "stderr",
     "output_type": "stream",
     "text": [
      "\r",
      "  9%|▉         | 72/800 [00:38<06:55,  1.75it/s]"
     ]
    },
    {
     "name": "stdout",
     "output_type": "stream",
     "text": [
      "Something goes wrong...\n"
     ]
    },
    {
     "name": "stderr",
     "output_type": "stream",
     "text": [
      "\r",
      "  9%|▉         | 73/800 [00:39<06:54,  1.75it/s]"
     ]
    },
    {
     "name": "stdout",
     "output_type": "stream",
     "text": [
      "Something goes wrong...\n"
     ]
    },
    {
     "name": "stderr",
     "output_type": "stream",
     "text": [
      "\r",
      "  9%|▉         | 74/800 [00:39<06:50,  1.77it/s]"
     ]
    },
    {
     "name": "stdout",
     "output_type": "stream",
     "text": [
      "Something goes wrong...\n"
     ]
    },
    {
     "name": "stderr",
     "output_type": "stream",
     "text": [
      "\r",
      "  9%|▉         | 75/800 [00:40<06:42,  1.80it/s]"
     ]
    },
    {
     "name": "stdout",
     "output_type": "stream",
     "text": [
      "Something goes wrong...\n"
     ]
    },
    {
     "name": "stderr",
     "output_type": "stream",
     "text": [
      "\r",
      " 10%|▉         | 76/800 [00:40<06:37,  1.82it/s]"
     ]
    },
    {
     "name": "stdout",
     "output_type": "stream",
     "text": [
      "Something goes wrong...\n"
     ]
    },
    {
     "name": "stderr",
     "output_type": "stream",
     "text": [
      "\r",
      " 10%|▉         | 77/800 [00:41<06:29,  1.86it/s]"
     ]
    },
    {
     "name": "stdout",
     "output_type": "stream",
     "text": [
      "Something goes wrong...\n"
     ]
    },
    {
     "name": "stderr",
     "output_type": "stream",
     "text": [
      "\r",
      " 10%|▉         | 78/800 [00:41<06:38,  1.81it/s]"
     ]
    },
    {
     "name": "stdout",
     "output_type": "stream",
     "text": [
      "Something goes wrong...\n"
     ]
    },
    {
     "name": "stderr",
     "output_type": "stream",
     "text": [
      "\r",
      " 10%|▉         | 79/800 [00:42<06:48,  1.77it/s]"
     ]
    },
    {
     "name": "stdout",
     "output_type": "stream",
     "text": [
      "Something goes wrong...\n"
     ]
    },
    {
     "name": "stderr",
     "output_type": "stream",
     "text": [
      "\r",
      " 10%|█         | 80/800 [00:42<06:40,  1.80it/s]"
     ]
    },
    {
     "name": "stdout",
     "output_type": "stream",
     "text": [
      "Something goes wrong...\n"
     ]
    },
    {
     "name": "stderr",
     "output_type": "stream",
     "text": [
      "\r",
      " 10%|█         | 81/800 [00:43<06:43,  1.78it/s]"
     ]
    },
    {
     "name": "stdout",
     "output_type": "stream",
     "text": [
      "Something goes wrong...\n"
     ]
    },
    {
     "name": "stderr",
     "output_type": "stream",
     "text": [
      "\r",
      " 10%|█         | 82/800 [00:44<06:48,  1.76it/s]"
     ]
    },
    {
     "name": "stdout",
     "output_type": "stream",
     "text": [
      "Something goes wrong...\n"
     ]
    },
    {
     "name": "stderr",
     "output_type": "stream",
     "text": [
      "\r",
      " 10%|█         | 83/800 [00:44<06:49,  1.75it/s]"
     ]
    },
    {
     "name": "stdout",
     "output_type": "stream",
     "text": [
      "Something goes wrong...\n"
     ]
    },
    {
     "name": "stderr",
     "output_type": "stream",
     "text": [
      "\r",
      " 10%|█         | 84/800 [00:45<06:47,  1.76it/s]"
     ]
    },
    {
     "name": "stdout",
     "output_type": "stream",
     "text": [
      "Something goes wrong...\n"
     ]
    },
    {
     "name": "stderr",
     "output_type": "stream",
     "text": [
      "\r",
      " 11%|█         | 85/800 [00:45<06:29,  1.83it/s]"
     ]
    },
    {
     "name": "stdout",
     "output_type": "stream",
     "text": [
      "Something goes wrong...\n"
     ]
    },
    {
     "name": "stderr",
     "output_type": "stream",
     "text": [
      "\r",
      " 11%|█         | 86/800 [00:46<06:22,  1.87it/s]"
     ]
    },
    {
     "name": "stdout",
     "output_type": "stream",
     "text": [
      "Something goes wrong...\n"
     ]
    },
    {
     "name": "stderr",
     "output_type": "stream",
     "text": [
      "\r",
      " 11%|█         | 87/800 [00:46<06:16,  1.89it/s]"
     ]
    },
    {
     "name": "stdout",
     "output_type": "stream",
     "text": [
      "Something goes wrong...\n"
     ]
    },
    {
     "name": "stderr",
     "output_type": "stream",
     "text": [
      "\r",
      " 11%|█         | 88/800 [00:47<06:20,  1.87it/s]"
     ]
    },
    {
     "name": "stdout",
     "output_type": "stream",
     "text": [
      "Something goes wrong...\n"
     ]
    },
    {
     "name": "stderr",
     "output_type": "stream",
     "text": [
      "\r",
      " 11%|█         | 89/800 [00:47<06:16,  1.89it/s]"
     ]
    },
    {
     "name": "stdout",
     "output_type": "stream",
     "text": [
      "Something goes wrong...\n"
     ]
    },
    {
     "name": "stderr",
     "output_type": "stream",
     "text": [
      "\r",
      " 11%|█▏        | 90/800 [00:48<06:09,  1.92it/s]"
     ]
    },
    {
     "name": "stdout",
     "output_type": "stream",
     "text": [
      "Something goes wrong...\n"
     ]
    },
    {
     "name": "stderr",
     "output_type": "stream",
     "text": [
      "\r",
      " 11%|█▏        | 91/800 [00:48<06:05,  1.94it/s]"
     ]
    },
    {
     "name": "stdout",
     "output_type": "stream",
     "text": [
      "Something goes wrong...\n"
     ]
    },
    {
     "name": "stderr",
     "output_type": "stream",
     "text": [
      "\r",
      " 12%|█▏        | 92/800 [00:49<05:55,  1.99it/s]"
     ]
    },
    {
     "name": "stdout",
     "output_type": "stream",
     "text": [
      "Something goes wrong...\n"
     ]
    },
    {
     "name": "stderr",
     "output_type": "stream",
     "text": [
      "\r",
      " 12%|█▏        | 93/800 [00:49<06:03,  1.94it/s]"
     ]
    },
    {
     "name": "stdout",
     "output_type": "stream",
     "text": [
      "Something goes wrong...\n"
     ]
    },
    {
     "name": "stderr",
     "output_type": "stream",
     "text": [
      "\r",
      " 12%|█▏        | 94/800 [00:50<06:14,  1.89it/s]"
     ]
    },
    {
     "name": "stdout",
     "output_type": "stream",
     "text": [
      "Something goes wrong...\n"
     ]
    },
    {
     "name": "stderr",
     "output_type": "stream",
     "text": [
      "\r",
      " 12%|█▏        | 95/800 [00:50<06:19,  1.86it/s]"
     ]
    },
    {
     "name": "stdout",
     "output_type": "stream",
     "text": [
      "Something goes wrong...\n"
     ]
    },
    {
     "name": "stderr",
     "output_type": "stream",
     "text": [
      "\r",
      " 12%|█▏        | 96/800 [00:51<06:21,  1.85it/s]"
     ]
    },
    {
     "name": "stdout",
     "output_type": "stream",
     "text": [
      "Something goes wrong...\n"
     ]
    },
    {
     "name": "stderr",
     "output_type": "stream",
     "text": [
      "\r",
      " 12%|█▏        | 97/800 [00:52<06:11,  1.89it/s]"
     ]
    },
    {
     "name": "stdout",
     "output_type": "stream",
     "text": [
      "Something goes wrong...\n"
     ]
    },
    {
     "name": "stderr",
     "output_type": "stream",
     "text": [
      "\r",
      " 12%|█▏        | 98/800 [00:52<06:23,  1.83it/s]"
     ]
    },
    {
     "name": "stdout",
     "output_type": "stream",
     "text": [
      "Something goes wrong...\n"
     ]
    },
    {
     "name": "stderr",
     "output_type": "stream",
     "text": [
      "\r",
      " 12%|█▏        | 99/800 [00:53<06:33,  1.78it/s]"
     ]
    },
    {
     "name": "stdout",
     "output_type": "stream",
     "text": [
      "Something goes wrong...\n"
     ]
    },
    {
     "name": "stderr",
     "output_type": "stream",
     "text": [
      "\r",
      " 12%|█▎        | 100/800 [00:53<06:38,  1.76it/s]"
     ]
    },
    {
     "ename": "IndexError",
     "evalue": "index 100 is out of bounds for axis 0 with size 100",
     "output_type": "error",
     "traceback": [
      "\u001b[1;31m---------------------------------------------------------------------------\u001b[0m",
      "\u001b[1;31mIndexError\u001b[0m                                Traceback (most recent call last)",
      "\u001b[1;32m<ipython-input-9-7ca00d07a3d5>\u001b[0m in \u001b[0;36m<module>\u001b[1;34m()\u001b[0m\n\u001b[0;32m     12\u001b[0m \u001b[1;32mif\u001b[0m \u001b[0mtc\u001b[0m\u001b[1;33m.\u001b[0m\u001b[0mcuda\u001b[0m\u001b[1;33m.\u001b[0m\u001b[0mis_available\u001b[0m\u001b[1;33m(\u001b[0m\u001b[1;33m)\u001b[0m\u001b[1;33m:\u001b[0m\u001b[1;33m\u001b[0m\u001b[0m\n\u001b[0;32m     13\u001b[0m     \u001b[0mprint\u001b[0m\u001b[1;33m(\u001b[0m\u001b[1;34m'cuda is available'\u001b[0m\u001b[1;33m)\u001b[0m\u001b[1;33m\u001b[0m\u001b[0m\n\u001b[1;32m---> 14\u001b[1;33m \u001b[0mmodels\u001b[0m\u001b[1;33m,\u001b[0m \u001b[0mF1_error\u001b[0m\u001b[1;33m=\u001b[0m \u001b[0mbagging_NN\u001b[0m\u001b[1;33m(\u001b[0m\u001b[0mroot_dir\u001b[0m\u001b[1;33m,\u001b[0m \u001b[0mpercentage_train_data\u001b[0m\u001b[1;33m,\u001b[0m \u001b[0mnb_model\u001b[0m\u001b[1;33m,\u001b[0m \u001b[0mw\u001b[0m\u001b[1;33m,\u001b[0m \u001b[0mh\u001b[0m\u001b[1;33m,\u001b[0m \u001b[0mlr\u001b[0m\u001b[1;33m,\u001b[0m \u001b[0mmax_epochs\u001b[0m\u001b[1;33m,\u001b[0m \u001b[0mmini_batch_size\u001b[0m\u001b[1;33m,\u001b[0m \u001b[0mdropout\u001b[0m\u001b[1;33m)\u001b[0m\u001b[1;33m\u001b[0m\u001b[0m\n\u001b[0m",
      "\u001b[1;32m<ipython-input-7-602b2d7783d9>\u001b[0m in \u001b[0;36mbagging_NN\u001b[1;34m(root_dir, percentage_train_data, nb_model, w, h, lr, max_epochs, mini_batch_size, dropout)\u001b[0m\n\u001b[0;32m     26\u001b[0m     \u001b[1;32mfor\u001b[0m \u001b[0mi\u001b[0m \u001b[1;32min\u001b[0m \u001b[0mtqdm\u001b[0m\u001b[1;33m(\u001b[0m\u001b[0mrange\u001b[0m\u001b[1;33m(\u001b[0m\u001b[1;36m800\u001b[0m\u001b[1;33m)\u001b[0m\u001b[1;33m)\u001b[0m\u001b[1;33m:\u001b[0m\u001b[1;33m\u001b[0m\u001b[0m\n\u001b[0;32m     27\u001b[0m         \u001b[1;32mif\u001b[0m \u001b[0mbinary_matrix\u001b[0m\u001b[1;33m[\u001b[0m\u001b[0mi\u001b[0m\u001b[1;33m,\u001b[0m\u001b[1;33m:\u001b[0m\u001b[1;33m]\u001b[0m\u001b[1;33m.\u001b[0m\u001b[0msum\u001b[0m\u001b[1;33m(\u001b[0m\u001b[1;33m)\u001b[0m\u001b[1;33m>\u001b[0m\u001b[1;36m0\u001b[0m\u001b[1;33m:\u001b[0m\u001b[1;33m\u001b[0m\u001b[0m\n\u001b[1;32m---> 28\u001b[1;33m             \u001b[0mtest\u001b[0m\u001b[1;33m,\u001b[0m\u001b[0mlabel\u001b[0m \u001b[1;33m=\u001b[0m \u001b[0mtotal_dataset\u001b[0m\u001b[1;33m.\u001b[0m\u001b[0m__getitem__\u001b[0m\u001b[1;33m(\u001b[0m\u001b[0mi\u001b[0m\u001b[1;33m)\u001b[0m\u001b[1;33m\u001b[0m\u001b[0m\n\u001b[0m\u001b[0;32m     29\u001b[0m             \u001b[0mind\u001b[0m\u001b[1;33m=\u001b[0m\u001b[0mnp\u001b[0m\u001b[1;33m.\u001b[0m\u001b[0mwhere\u001b[0m\u001b[1;33m(\u001b[0m\u001b[0mbinary_matrix\u001b[0m\u001b[1;33m[\u001b[0m\u001b[0mi\u001b[0m\u001b[1;33m,\u001b[0m\u001b[1;33m:\u001b[0m\u001b[1;33m]\u001b[0m\u001b[1;33m)\u001b[0m\u001b[1;33m[\u001b[0m\u001b[1;36m0\u001b[0m\u001b[1;33m]\u001b[0m\u001b[1;33m\u001b[0m\u001b[0m\n\u001b[0;32m     30\u001b[0m             \u001b[0mpredictions\u001b[0m\u001b[1;33m=\u001b[0m\u001b[0mnp\u001b[0m\u001b[1;33m.\u001b[0m\u001b[0marray\u001b[0m\u001b[1;33m(\u001b[0m\u001b[1;33m[\u001b[0m\u001b[0mmodels\u001b[0m\u001b[1;33m[\u001b[0m\u001b[0mk\u001b[0m\u001b[1;33m]\u001b[0m\u001b[1;33m(\u001b[0m\u001b[0mtest\u001b[0m\u001b[1;33m)\u001b[0m\u001b[1;33m.\u001b[0m\u001b[0mdetach\u001b[0m\u001b[1;33m(\u001b[0m\u001b[1;33m)\u001b[0m\u001b[1;33m.\u001b[0m\u001b[0mnumpy\u001b[0m\u001b[1;33m(\u001b[0m\u001b[1;33m)\u001b[0m \u001b[1;32mfor\u001b[0m \u001b[0mk\u001b[0m \u001b[1;32min\u001b[0m \u001b[0mind\u001b[0m\u001b[1;33m]\u001b[0m\u001b[1;33m)\u001b[0m\u001b[1;33m\u001b[0m\u001b[0m\n",
      "\u001b[1;32m<ipython-input-3-83d115f32854>\u001b[0m in \u001b[0;36m__getitem__\u001b[1;34m(self, index)\u001b[0m\n\u001b[0;32m     35\u001b[0m \u001b[1;33m\u001b[0m\u001b[0m\n\u001b[0;32m     36\u001b[0m     \u001b[1;32mdef\u001b[0m \u001b[0m__getitem__\u001b[0m\u001b[1;33m(\u001b[0m\u001b[0mself\u001b[0m\u001b[1;33m,\u001b[0m\u001b[0mindex\u001b[0m\u001b[1;33m)\u001b[0m\u001b[1;33m:\u001b[0m\u001b[1;33m\u001b[0m\u001b[0m\n\u001b[1;32m---> 37\u001b[1;33m         \u001b[0mind\u001b[0m \u001b[1;33m=\u001b[0m \u001b[0mself\u001b[0m\u001b[1;33m.\u001b[0m\u001b[0mbootstrap_dataset\u001b[0m\u001b[1;33m[\u001b[0m\u001b[0mindex\u001b[0m\u001b[1;33m]\u001b[0m\u001b[1;33m\u001b[0m\u001b[0m\n\u001b[0m\u001b[0;32m     38\u001b[0m         \u001b[0mimage\u001b[0m \u001b[1;33m=\u001b[0m \u001b[1;33m[\u001b[0m\u001b[0mload_image\u001b[0m\u001b[1;33m(\u001b[0m\u001b[0mself\u001b[0m\u001b[1;33m.\u001b[0m\u001b[0mimage_dir\u001b[0m \u001b[1;33m+\u001b[0m \u001b[0mself\u001b[0m\u001b[1;33m.\u001b[0m\u001b[0mfiles\u001b[0m\u001b[1;33m[\u001b[0m\u001b[0mind\u001b[0m\u001b[1;33m]\u001b[0m\u001b[1;33m)\u001b[0m\u001b[1;33m]\u001b[0m\u001b[1;33m\u001b[0m\u001b[0m\n\u001b[0;32m     39\u001b[0m         \u001b[0mgt_image\u001b[0m \u001b[1;33m=\u001b[0m \u001b[1;33m[\u001b[0m\u001b[0mload_image\u001b[0m\u001b[1;33m(\u001b[0m\u001b[0mself\u001b[0m\u001b[1;33m.\u001b[0m\u001b[0mgt_dir\u001b[0m \u001b[1;33m+\u001b[0m \u001b[0mself\u001b[0m\u001b[1;33m.\u001b[0m\u001b[0mfiles\u001b[0m\u001b[1;33m[\u001b[0m\u001b[0mind\u001b[0m\u001b[1;33m]\u001b[0m\u001b[1;33m)\u001b[0m\u001b[1;33m]\u001b[0m\u001b[1;33m\u001b[0m\u001b[0m\n",
      "\u001b[1;31mIndexError\u001b[0m: index 100 is out of bounds for axis 0 with size 100"
     ]
    }
   ],
   "source": [
    "# valerio modifica questo\n",
    "percentage_train_data=0.05\n",
    "nb_model=2\n",
    "w=16\n",
    "h=16\n",
    "lr=1e-4\n",
    "max_epochs=15\n",
    "root_dir = 'training/'\n",
    "mini_batch_size=20\n",
    "dropout=0\n",
    "np.random.seed(52)\n",
    "if tc.cuda.is_available():\n",
    "    print('cuda is available')\n",
    "models, F1_error= bagging_NN(root_dir, percentage_train_data, nb_model, w, h, lr, max_epochs, mini_batch_size, dropout)"
   ]
  },
  {
   "cell_type": "code",
   "execution_count": 29,
   "metadata": {},
   "outputs": [
    {
     "name": "stdout",
     "output_type": "stream",
     "text": [
      "0\n"
     ]
    }
   ],
   "source": [
    "print(F1_error)"
   ]
  },
  {
   "cell_type": "code",
   "execution_count": 7,
   "metadata": {},
   "outputs": [
    {
     "data": {
      "text/plain": [
       "True"
      ]
     },
     "execution_count": 7,
     "metadata": {},
     "output_type": "execute_result"
    }
   ],
   "source": [
    "tc.cuda.is_available()"
   ]
  },
  {
   "cell_type": "code",
   "execution_count": null,
   "metadata": {
    "collapsed": true
   },
   "outputs": [],
   "source": [
    "test_img = imgs[0]\n",
    "mask= gt_imgs[0]\n",
    "test_img = [img_crop(test_img, 16,16)]\n",
    "test_img = transform_subIMG_to_Tensor(test_img)\n",
    "mean=test_img.mean()\n",
    "std= test_img.std()\n",
    "test_img = (test_img-mean)/std\n",
    "result=np.zeros((test_img.size(0),))\n",
    "for model in models:\n",
    "    result += model(test_img).detach_().numpy().reshape(-1,)\n",
    "\n",
    "result = result / len(models)\n",
    "result = (result > 0.5)*1\n",
    "\n",
    "\n",
    "image = imgs[0]\n",
    "\n",
    "mask_res = label_to_img(400, 400, 16, 16, result)\n",
    "image_plot = make_img_overlay(image, mask_res)\n",
    "plt.figure(figsize=(10, 10))\n",
    "plt.imshow(image_plot)\n",
    "    "
   ]
  },
  {
   "cell_type": "code",
   "execution_count": null,
   "metadata": {
    "collapsed": true
   },
   "outputs": [],
   "source": [
    "def compute_test_error(test_dataset, test_label, nb_patches, model):\n",
    "    ''' compute the F1 error made during road segmentation. \n",
    "    Exemple: for a 16*16 patch we have that nb_patches=625'''\n",
    "    model.is_train=False\n",
    "    mean=test_dataset.mean()\n",
    "    std= test_dataset.std()\n",
    "    test_dataset = (test_dataset-mean)/std\n",
    "    test_output = model(test_dataset)\n",
    "    w = int(400/np.sqrt(nb_patches))\n",
    "    F1_error=np.zeros(int(test_dataset.size(0)/nb_patches))\n",
    "    for i in range(int(test_dataset.size(0)/nb_patches)):\n",
    "        mask = test_output.narrow(0,i*nb_patches, nb_patches)\n",
    "        mask = mask.detach().numpy()[:]>0.5\n",
    "        mask = label_to_img(400, 400, w, w, mask)\n",
    "        F1_error[i] = calcul_F1(test_label[i], mask)\n",
    "    plt.figure()\n",
    "    plt.plot(np.arange(int(test_dataset.size(0)/nb_patches))+1,F1_error)\n",
    "    plt.xlabel('image')\n",
    "    plt.ylabel('F1_error')\n",
    "    F1_mean= np.mean(F1_error)\n",
    "    return F1_mean"
   ]
  },
  {
   "cell_type": "code",
   "execution_count": null,
   "metadata": {
    "collapsed": true
   },
   "outputs": [],
   "source": [
    "def print_image_test(test_image, models):\n",
    "    ''' take a 608 * 608 image'''\n",
    "    image_original = test_image\n",
    "    test_image = img_crop(test_image,16,16)\n",
    "    test_image = transform_subIMG_to_Tensor([test_image])\n",
    "    mean=test_image.mean()\n",
    "    std= test_image.std()\n",
    "    test_image = (test_image-mean)/std\n",
    "    predictions=[]\n",
    "    for model in models:\n",
    "        model.eval()\n",
    "        predictions.append(model(test_image).detach().numpy().reshape(-1,))\n",
    "    \n",
    "    predictions = np.array(predictions).mean(0)\n",
    "    predictions = predictions > 0.5\n",
    "    # add there the postprocessing\n",
    "    \n",
    "    ###############################################\n",
    "    predictions=label_to_img(608, 608, 16, 16, predictions)\n",
    "    \n",
    "    image = make_img_overlay(image_original, predictions)\n",
    "    \n",
    "    plt.figure(figsize=(10,10))\n",
    "    plt.imshow(image)"
   ]
  },
  {
   "cell_type": "code",
   "execution_count": null,
   "metadata": {
    "collapsed": true
   },
   "outputs": [],
   "source": [
    "# Loaded a set of images\n",
    "root_dir_test = \"test_set_images/\"\n",
    "imgs_test = []\n",
    "for l in range(1,51):\n",
    "    dir_test = root_dir_test + 'test_'+str(l)+'/'\n",
    "    files_test = os.listdir(dir_test)\n",
    "    img_test = load_image(dir_test + files_test[0])\n",
    "    imgs_test.append(img_test)"
   ]
  },
  {
   "cell_type": "code",
   "execution_count": null,
   "metadata": {
    "collapsed": true
   },
   "outputs": [],
   "source": [
    "print_image_test(imgs_test[9], models)"
   ]
  },
  {
   "cell_type": "code",
   "execution_count": null,
   "metadata": {
    "collapsed": true
   },
   "outputs": [],
   "source": [
    "# Post processing"
   ]
  },
  {
   "cell_type": "code",
   "execution_count": null,
   "metadata": {
    "collapsed": true
   },
   "outputs": [],
   "source": [
    "def complete_lines(label,threshold):\n",
    "    ''' The function controls for each non-road square its neighbors. \n",
    "        If they are classified as ROAD with a certain pattern, the considered square is labeled as ROAD.\n",
    "        \n",
    "        INPUT: List of patches, Vector of label (SAME ORDER)\n",
    "        OUTPUT: New patches, New Vector of label'''\n",
    "    \n",
    "    # Create a matrix of label\n",
    "    label = np.array(label)\n",
    "    label_per_line = int(np.sqrt(label.shape))\n",
    "    matrix_label = label.reshape((label_per_line, label_per_line),order='F')\n",
    "    \n",
    "    # Column with less then 4 zeros are considered as ROAD\n",
    "    #threshold = 16\n",
    "    matrix_label[:,np.where(matrix_label.sum(axis=0)>=threshold)[0]] = 1\n",
    "  \n",
    "    \n",
    "    # Rows with less then 4 zeros are considered as ROAD\n",
    "    #threshold = 16\n",
    "    matrix_label[np.where(matrix_label.sum(axis=1)>=threshold)[0],:] = 1\n",
    "  \n",
    "    # Create the list\n",
    "    list_label = (matrix_label.T).tolist()\n",
    "    # Flatten the lists\n",
    "    label = [y for x in list_label for y in x]\n",
    "    return label"
   ]
  },
  {
   "cell_type": "code",
   "execution_count": null,
   "metadata": {
    "collapsed": true
   },
   "outputs": [],
   "source": [
    "new_label = complete_lines(result,16)\n",
    "\n",
    "# DISPLAY THE IMAGE\n",
    "mask_res = label_to_img(400, 400, 16, 16, new_label)\n",
    "image_plot = make_img_overlay(image, mask_res)\n",
    "plt.figure(figsize=(10, 10))\n",
    "plt.imshow(image_plot)"
   ]
  },
  {
   "cell_type": "code",
   "execution_count": null,
   "metadata": {
    "collapsed": true
   },
   "outputs": [],
   "source": [
    "def remove_isolated_connected_component(label,size_min):\n",
    "    \n",
    "    # Create a matrix of label\n",
    "    label = np.array(label)\n",
    "    label_per_line = int(np.sqrt(label.shape))\n",
    "    matrix_label = label.reshape((label_per_line, label_per_line),order='F')\n",
    "    \n",
    "    # now identify the objects and remove those above a threshold\n",
    "    Zlabeled,Nlabels = ndimage.measurements.label(matrix_label)\n",
    "    label_size = [(Zlabeled == label).sum() for label in range(Nlabels + 1)]\n",
    "    \n",
    "    # now remove the labels\n",
    "    for label,size in enumerate(label_size):\n",
    "        if size < size_min:\n",
    "            matrix_label[Zlabeled == label] = 0\n",
    "    \n",
    "    # Create the list\n",
    "    list_label = (matrix_label.T).tolist()\n",
    "    # Flatten the lists\n",
    "    label = [y for x in list_label for y in x]\n",
    "    \n",
    "    return label\n"
   ]
  },
  {
   "cell_type": "code",
   "execution_count": null,
   "metadata": {
    "collapsed": true
   },
   "outputs": [],
   "source": [
    "new_label2 = remove_isolated_connected_component(new_label,9)\n",
    "\n",
    "# DISPLAY THE IMAGE\n",
    "mask_res = label_to_img(400, 400, 16, 16, new_label2)\n",
    "image_plot = make_img_overlay(image, mask_res)\n",
    "plt.figure(figsize=(10, 10))\n",
    "plt.imshow(image_plot)"
   ]
  },
  {
   "cell_type": "code",
   "execution_count": null,
   "metadata": {
    "collapsed": true
   },
   "outputs": [],
   "source": [
    "def complete_lines_almostfull(label):\n",
    "    ''' The function controls for each non-road square its neighbors. \n",
    "        If they are classified as ROAD with a certain pattern, the considered square is labeled as ROAD.\n",
    "        \n",
    "        INPUT: List of labels\n",
    "        OUTPUT: New list of labels'''\n",
    "    \n",
    "    max_zeros = 3\n",
    "    \n",
    "    # Create a matrix of label\n",
    "    label = np.array(label)\n",
    "    label_per_line = int(np.sqrt(label.shape))\n",
    "    matrix_label = label.reshape((label_per_line, label_per_line),order='F')\n",
    "    \n",
    "    # Fix columns\n",
    "    rows,columns = matrix_label.shape\n",
    "    for column in range(columns):\n",
    "        count = 0\n",
    "        start = 0\n",
    "        end = 0\n",
    "        for row in range(rows):\n",
    "            if (matrix_label[row,column] == 1) and (start ==0):\n",
    "                start = 1\n",
    "            elif (matrix_label[row,column] == 1) and (start ==1) and (count>0):\n",
    "                end = 1\n",
    "            elif (matrix_label[row,column] == 0) and (start ==1) and (end==0):\n",
    "                count = count + 1\n",
    "            \n",
    "            if end ==1:\n",
    "                if count < max_zeros:\n",
    "                    matrix_label[row-count:row,column] = 1\n",
    "                start = 1\n",
    "                end = 0\n",
    "                count = 0\n",
    "    \n",
    "    # Fix rows\n",
    "    for row in range(rows):\n",
    "        count = 0\n",
    "        start = 0\n",
    "        end = 0\n",
    "        for column in range(columns):\n",
    "            if (matrix_label[row,column] == 1) and (start ==0):\n",
    "                start = 1\n",
    "            elif (matrix_label[row,column] == 1) and (start ==1) and (count>0):\n",
    "                end = 1\n",
    "            elif (matrix_label[row,column] == 0) and (start ==1) and (end==0):\n",
    "                count = count + 1\n",
    "            \n",
    "            if end ==1:\n",
    "                if count < max_zeros:\n",
    "                    matrix_label[row,column-count:column] = 1\n",
    "                start = 1\n",
    "                end = 0\n",
    "                count = 0\n",
    "    \n",
    "    \n",
    "    # Create the list\n",
    "    list_label = (matrix_label.T).tolist()\n",
    "    # Flatten the lists\n",
    "    label = [y for x in list_label for y in x]\n",
    "    \n",
    "    return label"
   ]
  },
  {
   "cell_type": "code",
   "execution_count": null,
   "metadata": {
    "collapsed": true
   },
   "outputs": [],
   "source": [
    "#new_label3 = complete_lines_almostfull(new_label2)\n",
    "\n",
    "# DISPLAY THE IMAGE\n",
    "#mask_res = label_to_img(400, 400, 16, 16, new_label3)\n",
    "#image_plot = make_img_overlay(image, mask_res)\n",
    "#plt.figure(figsize=(10, 10))\n",
    "#plt.imshow(image_plot)"
   ]
  },
  {
   "cell_type": "code",
   "execution_count": null,
   "metadata": {
    "collapsed": true
   },
   "outputs": [],
   "source": [
    "def clean_garbage_vert(label,max_distance):\n",
    "    \n",
    "    # Create a matrix of label\n",
    "    label = np.array(label)\n",
    "    label_per_line = int(np.sqrt(label.shape))\n",
    "    matrix_label = label.reshape((label_per_line, label_per_line),order='F')\n",
    "    \n",
    "    # Column with all one values\n",
    "    full_columns = np.where(matrix_label.sum(axis=0) == 38)[0]\n",
    "    for column in full_columns:   \n",
    "        if (column < max_distance) and (matrix_label[:,column+1].sum(axis=0) < 38):\n",
    "            count = matrix_label[:,column+1:column+max_distance+1].sum(axis=1)\n",
    "            for k in range(count.shape[0]):\n",
    "                if count[k] < max_distance:\n",
    "                    matrix_label[k,column+1:column+max_distance] = 0\n",
    "        \n",
    "        elif (column > 38 - max_distance) and (matrix_label[:,column-1].sum(axis=0) < 38):\n",
    "            count = matrix_label[:,column-max_distance:column].sum(axis=1)\n",
    "            for k in range(count.shape[0]):\n",
    "                if count[k] < max_distance:\n",
    "                    matrix_label[k,column-max_distance:column] = 0\n",
    "        \n",
    "        elif (column >= max_distance) and (column <= 38 - max_distance):\n",
    "            if matrix_label[:,column+1].sum(axis=0) < 38:\n",
    "                count = matrix_label[:,column+1:column+max_distance+1].sum(axis=1)\n",
    "                for k in range(count.shape[0]):\n",
    "                    if count[k] < max_distance:\n",
    "                        matrix_label[k,column+1:column+max_distance] = 0\n",
    "        \n",
    "            if matrix_label[:,column-1].sum(axis=0) < 38:            \n",
    "                count = matrix_label[:,column-max_distance:column].sum(axis=1)\n",
    "                for k in range(count.shape[0]):\n",
    "                    if count[k] < max_distance:\n",
    "                        matrix_label[k,column-max_distance:column] = 0\n",
    "        \n",
    "    # Rows with less then 4 zeros are considered as ROAD\n",
    "    #threshold = 16\n",
    "    #matrix_label[np.where(matrix_label.sum(axis=1)>=threshold)[0],:] = 1\n",
    "  \n",
    "    # Create the list\n",
    "    list_label = (matrix_label.T).tolist()\n",
    "    # Flatten the lists\n",
    "    label = [y for x in list_label for y in x]\n",
    "    return label    "
   ]
  },
  {
   "cell_type": "code",
   "execution_count": null,
   "metadata": {
    "collapsed": true
   },
   "outputs": [],
   "source": [
    "new_label4 = clean_garbage_vert(new_label2,3)\n",
    "\n",
    "# DISPLAY THE IMAGE\n",
    "mask_res = label_to_img(400, 400, 16, 16, new_label4)\n",
    "image_plot = make_img_overlay(image, mask_res)\n",
    "plt.figure(figsize=(10, 10))\n",
    "plt.imshow(image_plot)"
   ]
  },
  {
   "cell_type": "code",
   "execution_count": null,
   "metadata": {
    "collapsed": true
   },
   "outputs": [],
   "source": [
    "def clean_garbage_hor(label,max_distance):\n",
    "    \n",
    "    # Create a matrix of label\n",
    "    label = np.array(label)\n",
    "    label_per_line = int(np.sqrt(label.shape))\n",
    "    matrix_label = label.reshape((label_per_line, label_per_line),order='F')\n",
    "    \n",
    "    # Column with all one values\n",
    "    full_rows = np.where(matrix_label.sum(axis=1) == 38)[0]\n",
    "    for row in full_rows:   \n",
    "        if (row < max_distance) and (matrix_label[row+1,:].sum() < 38):\n",
    "            count = matrix_label[row+1:row+max_distance+1,:].sum(axis=0)\n",
    "            for k in range(count.shape[0]):\n",
    "                if count[k] < max_distance:\n",
    "                    matrix_label[row+1:row+max_distance,k] = 0\n",
    "        \n",
    "        elif (row > 38 - max_distance) and (matrix_label[row-1,:].sum() < 38):\n",
    "            count = matrix_label[row-max_distance:row,:].sum(axis=0)\n",
    "            for k in range(count.shape[0]):\n",
    "                if count[k] < max_distance:\n",
    "                    matrix_label[row-max_distance:row,k] = 0\n",
    "        \n",
    "        elif (row >= max_distance) and (row <= 38 - max_distance):\n",
    "            if matrix_label[row+1,:].sum() < 38:\n",
    "                count = matrix_label[row+1:row+max_distance+1,:].sum(axis=0)\n",
    "                for k in range(count.shape[0]):\n",
    "                    if count[k] < max_distance:\n",
    "                        matrix_label[row+1:row+max_distance,k] = 0\n",
    "        \n",
    "            if matrix_label[row-1,:].sum() < 38:            \n",
    "                count = matrix_label[row-max_distance:row,:].sum(axis=0)\n",
    "                for k in range(count.shape[0]):\n",
    "                    if count[k] < max_distance:\n",
    "                        matrix_label[row-max_distance:row,k] = 0\n",
    "        \n",
    "    # Rows with less then 4 zeros are considered as ROAD\n",
    "    #threshold = 16\n",
    "    #matrix_label[np.where(matrix_label.sum(axis=1)>=threshold)[0],:] = 1\n",
    "  \n",
    "    # Create the list\n",
    "    list_label = (matrix_label.T).tolist()\n",
    "    # Flatten the lists\n",
    "    label = [y for x in list_label for y in x]\n",
    "    return label "
   ]
  },
  {
   "cell_type": "code",
   "execution_count": null,
   "metadata": {
    "collapsed": true
   },
   "outputs": [],
   "source": [
    "new_label5 = clean_garbage_hor(new_label4,3)\n",
    "\n",
    "# DISPLAY THE IMAGE\n",
    "mask_res = label_to_img(400, 400, 16, 16, new_label5)\n",
    "image_plot = make_img_overlay(image, mask_res)\n",
    "plt.figure(figsize=(10, 10))\n",
    "plt.imshow(image_plot)"
   ]
  },
  {
   "cell_type": "code",
   "execution_count": null,
   "metadata": {
    "collapsed": true
   },
   "outputs": [],
   "source": [
    "# Create mask\n",
    "prevision = label_to_img(400, 400, 16, 16, new_label5)\n",
    "F1=calcul_F1(mask, prevision)"
   ]
  },
  {
   "cell_type": "code",
   "execution_count": null,
   "metadata": {
    "collapsed": true
   },
   "outputs": [],
   "source": [
    "print(F1)"
   ]
  },
  {
   "cell_type": "markdown",
   "metadata": {},
   "source": [
    "# Valerio fermati qui"
   ]
  },
  {
   "cell_type": "code",
   "execution_count": null,
   "metadata": {
    "collapsed": true
   },
   "outputs": [],
   "source": [
    "def post_processing(label,threshold,size_min,verbarg,horbarg):\n",
    "    label = complete_lines(label,threshold)\n",
    "    label = remove_isolated_connected_component(label,size_min)\n",
    "    label = clean_garbage_vert(label,verbarg)\n",
    "    label = clean_garbage_hor(label,horbarg)\n",
    "    label = remove_isolated_connected_component(label,size_min)\n",
    "    return label"
   ]
  },
  {
   "cell_type": "code",
   "execution_count": null,
   "metadata": {
    "collapsed": true
   },
   "outputs": [],
   "source": [
    "def create_submission(test_data, models, w, h, name_file, prediction_training_dir, normalize=True):\n",
    "    ''' the function takes as input the test data and the models used for prediction. \n",
    "    If a list of model is given, the prediction will be done with majority vote. \n",
    "    \n",
    "    The function is written explicitly for prediction using SimpleNet model.\n",
    "    \n",
    "    test_data: list of images.\n",
    "    \n",
    "    models: list of models or single model\n",
    "    \n",
    "    w, h: width and high of the patches'''\n",
    "    \n",
    "    # from list to Tensor\n",
    "    w_im, h_im,_ = test_data[0].shape\n",
    "    test_data = [img_crop(test_data[k], w, h) for k in range(len(test_data))]\n",
    "    \n",
    "    test_data = transform_subIMG_to_Tensor(test_data)\n",
    "    \n",
    "    if normalize:\n",
    "        \n",
    "        test_data = (test_data-test_data.mean())/test_data.std()\n",
    "    \n",
    "    try :\n",
    "        nb_models = len(models)\n",
    "        prediction = [] \n",
    "        for i in range(nb_models):\n",
    "            models[i].eval()\n",
    "            prediction.append((models[i](test_data)).detach().numpy())\n",
    "            \n",
    "        prediction = np.array(prediction)\n",
    "        prediction = (prediction.sum(0)/nb_models > 0.5)*1\n",
    "    \n",
    "    except:\n",
    "        \n",
    "        prediction = models(test_data).detach().numpy()\n",
    "        \n",
    "        prediction = 1*(prediction > 0.5)\n",
    "     \n",
    "    prediction = prediction.reshape(-1,)\n",
    "    \n",
    "    nb_patches = int(w_im*h_im/(w*h))\n",
    "    nb_images =int(prediction.shape[0]/nb_patches)\n",
    "    list_of_mask = [prediction[i*nb_patches:(i+1)*nb_patches ] for i in range(nb_images)]\n",
    "    for k in range(len(list_of_mask)):\n",
    "        list_of_mask[k] = post_processing(list_of_mask[k],32,9,3,3)\n",
    "    # from patch to image\n",
    "    list_of_masks=[label_to_img(w_im, h_im, w, h, list_of_mask[k]) for k in range(nb_images)]\n",
    "    list_of_string_names = []\n",
    "    for i,gt_image in enumerate(list_of_masks):\n",
    "        Image.fromarray(gt_image).save(prediction_training_dir + \"prediction_\" + str(i) + \".png\")\n",
    "        list_of_string_names.append(\"prediction_\" + str(i) + \".png\")\n",
    "    # create file submission\n",
    "    masks_to_submission(name_file, *list_of_string_names)"
   ]
  },
  {
   "cell_type": "code",
   "execution_count": null,
   "metadata": {
    "collapsed": true
   },
   "outputs": [],
   "source": [
    "Image.fromarray(pimg).save(prediction_training_dir + \"prediction_\" + str(i) + \".png\")\n",
    "oimg = get_prediction_with_overlay(train_data_filename, i)\n",
    "oimg.save(prediction_training_dir + \"overlay_\" + str(i) + \".png\") "
   ]
  },
  {
   "cell_type": "code",
   "execution_count": null,
   "metadata": {
    "collapsed": true
   },
   "outputs": [],
   "source": [
    "import re\n",
    "\n",
    "foreground_threshold = 0.25 # percentage of pixels > 1 required to assign a foreground label to a patch\n",
    "\n",
    "# assign a label to a patch\n",
    "def patch_to_label(patch):\n",
    "    df = np.mean(patch)\n",
    "    if df > foreground_threshold:\n",
    "        return 1\n",
    "    else:\n",
    "        return 0\n",
    "\n",
    "def mask_to_submission_strings(image_filename):\n",
    "    \"\"\"Reads a single image and outputs the strings that should go into the submission file\"\"\"\n",
    "    img_number = int(re.search(r\"\\d+\", image_filename).group(0))\n",
    "    im = mpimg.imread(image_filename)\n",
    "    patch_size = 16\n",
    "    for j in range(0, im.shape[1], patch_size):\n",
    "        for i in range(0, im.shape[0], patch_size):\n",
    "            patch = im[i:i + patch_size, j:j + patch_size]\n",
    "            label = patch_to_label(patch)\n",
    "            yield(\"{:03d}_{}_{},{}\".format(img_number, j, i, label))\n",
    "\n",
    "\n",
    "def masks_to_submission(submission_filename, *image_filenames):\n",
    "    \"\"\"Converts images into a submission file\"\"\"\n",
    "    with open(submission_filename, 'w') as f:\n",
    "        f.write('id,prediction\\n')\n",
    "        for fn in image_filenames[0:]:\n",
    "            f.writelines('{}\\n'.format(s) for s in mask_to_submission_strings(fn))\n",
    "\n",
    "\n",
    "if __name__ == '__main__':\n",
    "    submission_filename = 'dummy_submission.csv'\n",
    "    image_filenames = []\n",
    "    for i in range(1, 51):\n",
    "        image_filename = 'training/groundtruth/satImage_' + '%.3d' % i + '.png'\n",
    "        image_filenames.append(image_filename)\n",
    "    masks_to_submission(submission_filename, *image_filenames)\n"
   ]
  },
  {
   "cell_type": "code",
   "execution_count": null,
   "metadata": {
    "collapsed": true
   },
   "outputs": [],
   "source": [
    "# Loaded a set of images\n",
    "root_dir_test = \"test_set_images/\"\n",
    "imgs_test = []\n",
    "for l in range(1,51):\n",
    "    dir_test = root_dir_test + 'test_'+str(l)+'/'\n",
    "    files_test = os.listdir(dir_test)\n",
    "    img_test = load_image(dir_test + files_test[0])\n",
    "    imgs_test.append(img_test)"
   ]
  },
  {
   "cell_type": "code",
   "execution_count": null,
   "metadata": {
    "collapsed": true
   },
   "outputs": [],
   "source": [
    "list_of_masks = create_submission(imgs_test, models, 16, 16, 'Submission_first', normalize=True)"
   ]
  },
  {
   "cell_type": "code",
   "execution_count": null,
   "metadata": {
    "collapsed": true
   },
   "outputs": [],
   "source": [
    "list_of_masks[0].dtype"
   ]
  },
  {
   "cell_type": "code",
   "execution_count": null,
   "metadata": {
    "collapsed": true
   },
   "outputs": [],
   "source": [
    "for k in range(len(list_of_masks)):\n",
    "    name = 'image_' + str(k)\n",
    "    my_df = pd.DataFrame(list_of_masks[k])\n",
    "    my_df.to_csv(name+'.csv')"
   ]
  },
  {
   "cell_type": "code",
   "execution_count": null,
   "metadata": {
    "collapsed": true
   },
   "outputs": [],
   "source": []
  },
  {
   "cell_type": "code",
   "execution_count": null,
   "metadata": {
    "collapsed": true
   },
   "outputs": [],
   "source": []
  },
  {
   "cell_type": "code",
   "execution_count": null,
   "metadata": {
    "collapsed": true
   },
   "outputs": [],
   "source": []
  },
  {
   "cell_type": "markdown",
   "metadata": {},
   "source": [
    "## PER DIEGO: ASSICURATI DI AVERE GLI EXCEL NELLA STESSA FOLDER DELLA CARTELLLA"
   ]
  },
  {
   "cell_type": "markdown",
   "metadata": {},
   "source": [
    "## Valerio caro, LEVA VIA STA ROBACCIA"
   ]
  },
  {
   "cell_type": "code",
   "execution_count": null,
   "metadata": {
    "collapsed": true
   },
   "outputs": [],
   "source": [
    "import pandas as pd\n",
    "result=[]\n",
    "for k in range(50):\n",
    "    df = pd.read_csv('image_'+str(k)+'.csv').iloc[:,1:]\n",
    "    matrix = df.values\n",
    "    result.append(matrix)\n"
   ]
  },
  {
   "cell_type": "markdown",
   "metadata": {},
   "source": [
    "# RESULT: LISTA DI MATRICI 608 * 608"
   ]
  },
  {
   "cell_type": "code",
   "execution_count": null,
   "metadata": {
    "collapsed": true
   },
   "outputs": [],
   "source": [
    "result[0].shape"
   ]
  },
  {
   "cell_type": "code",
   "execution_count": null,
   "metadata": {
    "collapsed": true
   },
   "outputs": [],
   "source": [
    "import pandas as pd\n",
    "df = pd.read_csv('image_'+str(0)+'.csv').iloc[:,1:]"
   ]
  },
  {
   "cell_type": "code",
   "execution_count": null,
   "metadata": {
    "collapsed": true
   },
   "outputs": [],
   "source": [
    "df"
   ]
  },
  {
   "cell_type": "code",
   "execution_count": null,
   "metadata": {
    "collapsed": true
   },
   "outputs": [],
   "source": [
    "matrix = df.values\n",
    "matrix"
   ]
  },
  {
   "cell_type": "code",
   "execution_count": null,
   "metadata": {
    "collapsed": true
   },
   "outputs": [],
   "source": [
    "import pandas as pd\n",
    "my_df = pd.DataFrame(list_of_masks[0])"
   ]
  },
  {
   "cell_type": "code",
   "execution_count": null,
   "metadata": {
    "collapsed": true
   },
   "outputs": [],
   "source": [
    "my_df"
   ]
  },
  {
   "cell_type": "markdown",
   "metadata": {
    "collapsed": true
   },
   "source": []
  },
  {
   "cell_type": "code",
   "execution_count": null,
   "metadata": {
    "collapsed": true
   },
   "outputs": [],
   "source": []
  },
  {
   "cell_type": "code",
   "execution_count": null,
   "metadata": {
    "collapsed": true
   },
   "outputs": [],
   "source": []
  },
  {
   "cell_type": "code",
   "execution_count": null,
   "metadata": {
    "collapsed": true
   },
   "outputs": [],
   "source": []
  },
  {
   "cell_type": "code",
   "execution_count": null,
   "metadata": {
    "collapsed": true
   },
   "outputs": [],
   "source": []
  },
  {
   "cell_type": "code",
   "execution_count": null,
   "metadata": {
    "collapsed": true
   },
   "outputs": [],
   "source": [
    "n=90*3\n",
    "N=len(imgs)\n",
    "train_imgs=imgs[0:n]\n",
    "train_mask=gt_imgs[0:n]\n",
    "test_imgs=imgs[n:N]\n",
    "test_mask = gt_imgs[n:N]\n"
   ]
  },
  {
   "cell_type": "code",
   "execution_count": null,
   "metadata": {
    "collapsed": true
   },
   "outputs": [],
   "source": [
    "temp=concatenate_images(train_imgs[3], train_mask[3])\n",
    "plt.figure(figsize=(10, 10))\n",
    "plt.imshow(temp)"
   ]
  },
  {
   "cell_type": "code",
   "execution_count": null,
   "metadata": {
    "collapsed": true
   },
   "outputs": [],
   "source": [
    "? tc.nn.Dropout"
   ]
  },
  {
   "cell_type": "code",
   "execution_count": null,
   "metadata": {
    "collapsed": true
   },
   "outputs": [],
   "source": [
    "print(len(train_mask))"
   ]
  },
  {
   "cell_type": "code",
   "execution_count": null,
   "metadata": {
    "collapsed": true
   },
   "outputs": [],
   "source": [
    "print(len(test_imgs),N-n)"
   ]
  },
  {
   "cell_type": "code",
   "execution_count": null,
   "metadata": {
    "collapsed": true
   },
   "outputs": [],
   "source": [
    "# prepare input data \n",
    "w=16\n",
    "h=16\n",
    "train_sub_images=[img_crop(train_imgs[i], w, h) for i in range(n)]\n",
    "train_mask_label=[img_crop(train_mask[i],w,h) for i in range(n)]\n",
    "train_mask_label=from_mask_to_vector(train_mask_label,0.3)\n",
    "test_sub_images=[img_crop(test_imgs[i], w, h) for i in range(N-n)]\n",
    "#test_mask_label=[img_crop(train_mask[n+i],w,h) for i in range(n)]\n",
    "#test_mask_label=from_mask_to_vector(test_mask_label)\n"
   ]
  },
  {
   "cell_type": "code",
   "execution_count": null,
   "metadata": {
    "collapsed": true
   },
   "outputs": [],
   "source": [
    "print((1*train_mask_label).sum()/len(train_mask_label))"
   ]
  },
  {
   "cell_type": "code",
   "execution_count": null,
   "metadata": {
    "collapsed": true
   },
   "outputs": [],
   "source": [
    "print(len(train_sub_images[0]))"
   ]
  },
  {
   "cell_type": "code",
   "execution_count": null,
   "metadata": {
    "collapsed": true
   },
   "outputs": [],
   "source": [
    "train_sub_images = transform_subIMG_to_Tensor(train_sub_images)\n",
    "test_sub_images = transform_subIMG_to_Tensor(test_sub_images)"
   ]
  },
  {
   "cell_type": "code",
   "execution_count": null,
   "metadata": {
    "collapsed": true,
    "scrolled": false
   },
   "outputs": [],
   "source": [
    "# normalize data\n",
    "mean = train_sub_images.mean()\n",
    "std = train_sub_images.std()\n",
    "train_sub_images = (train_sub_images-mean)/std\n",
    "train_sub_images, train_mask_label = reduce_dataset(train_sub_images,train_mask_label)\n",
    "#print(train_sub_images[-1]-train_sub_images[-2])\n",
    "for l in range(n):\n",
    "    new_indices= np.random.permutation(len(train_mask_label))\n",
    "    train_sub_images=train_sub_images[new_indices]\n",
    "    train_mask_label=train_mask_label[new_indices]\n",
    "#print(train_sub_images[0]-train_sub_images[1])\n",
    "#train_sub_images.requires_grad_(True)"
   ]
  },
  {
   "cell_type": "code",
   "execution_count": null,
   "metadata": {
    "collapsed": true
   },
   "outputs": [],
   "source": [
    " ? tc.Tensor.narrow"
   ]
  },
  {
   "cell_type": "code",
   "execution_count": null,
   "metadata": {
    "collapsed": true
   },
   "outputs": [],
   "source": [
    "print(train_mask_label.sum()/len(train_mask_label))"
   ]
  },
  {
   "cell_type": "code",
   "execution_count": null,
   "metadata": {
    "collapsed": true
   },
   "outputs": [],
   "source": [
    "model = SimpleNet(0)\n",
    "lr=1e-4\n",
    "max_epochs=15\n",
    "mini_batch_size=1\n",
    "\n",
    "train_model_Adam( model, train_sub_images, train_mask_label, max_epochs, lr, mini_batch_size)"
   ]
  },
  {
   "cell_type": "code",
   "execution_count": null,
   "metadata": {
    "collapsed": true
   },
   "outputs": [],
   "source": [
    "print(tc.__version__)"
   ]
  },
  {
   "cell_type": "code",
   "execution_count": null,
   "metadata": {
    "collapsed": true
   },
   "outputs": [],
   "source": [
    "? tc.mean"
   ]
  },
  {
   "cell_type": "code",
   "execution_count": null,
   "metadata": {
    "collapsed": true
   },
   "outputs": [],
   "source": [
    "N1=625"
   ]
  },
  {
   "cell_type": "code",
   "execution_count": null,
   "metadata": {
    "collapsed": true
   },
   "outputs": [],
   "source": [
    "# print the result on a single image\n",
    "#N1=int(train_sub_images.size(0)/n)\n",
    "image_test= test_sub_images.narrow(0,43*N1,N1)\n",
    "image_test=(image_test-mean)/std\n",
    "mask_array=model(image_test)\n",
    "#print(mask_array.max())\n",
    "mask_list=mask_array[:]>0.5\n",
    "mask_test = label_to_img(400, 400, 16, 16, mask_list)"
   ]
  },
  {
   "cell_type": "code",
   "execution_count": null,
   "metadata": {
    "collapsed": true
   },
   "outputs": [],
   "source": [
    "# compute F1 score\n",
    "mask=gt_imgs[n]\n",
    "#print(mask.sum())\n",
    "print(calcul_F1(mask, mask_test))"
   ]
  },
  {
   "cell_type": "code",
   "execution_count": null,
   "metadata": {
    "collapsed": true
   },
   "outputs": [],
   "source": [
    "# overlap images\n",
    "\n",
    "print_img = make_img_overlay(imgs[n+43], mask_test)\n",
    "#print_img = make_img_overlay(imgs[n+43], gt_imgs[n+43])\n",
    "plt.figure(figsize=(10, 10))\n",
    "plt.imshow(print_img)"
   ]
  },
  {
   "cell_type": "code",
   "execution_count": null,
   "metadata": {
    "collapsed": true
   },
   "outputs": [],
   "source": [
    "def compute_test_error(test_dataset, test_label, nb_patches, model):\n",
    "    ''' compute the F1 error made during road segmentation. \n",
    "    Exemple: for a 16*16 patch we have that nb_patches=625'''\n",
    "    model.is_train=False\n",
    "    mean=test_dataset.mean()\n",
    "    std= test_dataset.std()\n",
    "    test_dataset = (test_dataset-mean)/std\n",
    "    test_output = model(test_dataset)\n",
    "    w = int(400/np.sqrt(nb_patches))\n",
    "    F1_error=np.zeros(int(test_dataset.size(0)/nb_patches))\n",
    "    for i in range(int(test_dataset.size(0)/nb_patches)):\n",
    "        mask = test_output.narrow(0,i*nb_patches, nb_patches)\n",
    "        mask = mask.detach().numpy()[:]>0.5\n",
    "        mask = label_to_img(400, 400, w, w, mask)\n",
    "        F1_error[i] = calcul_F1(test_label[i], mask)\n",
    "    plt.figure()\n",
    "    plt.plot(np.arange(int(test_dataset.size(0)/nb_patches))+1,F1_error)\n",
    "    plt.xlabel('image')\n",
    "    plt.ylabel('F1_error')\n",
    "    F1_mean= np.mean(F1_error)\n",
    "    return F1_mean\n",
    "    "
   ]
  },
  {
   "cell_type": "code",
   "execution_count": null,
   "metadata": {
    "collapsed": true
   },
   "outputs": [],
   "source": [
    "F1=compute_test_error(test_sub_images, test_mask, 625, model)"
   ]
  },
  {
   "cell_type": "code",
   "execution_count": null,
   "metadata": {
    "collapsed": true
   },
   "outputs": [],
   "source": [
    "print(F1)"
   ]
  },
  {
   "cell_type": "code",
   "execution_count": null,
   "metadata": {
    "collapsed": true
   },
   "outputs": [],
   "source": []
  }
 ],
 "metadata": {
  "kernelspec": {
   "display_name": "Python 3",
   "language": "python",
   "name": "python3"
  },
  "language_info": {
   "codemirror_mode": {
    "name": "ipython",
    "version": 3
   },
   "file_extension": ".py",
   "mimetype": "text/x-python",
   "name": "python",
   "nbconvert_exporter": "python",
   "pygments_lexer": "ipython3",
   "version": "3.6.5"
  }
 },
 "nbformat": 4,
 "nbformat_minor": 2
}
