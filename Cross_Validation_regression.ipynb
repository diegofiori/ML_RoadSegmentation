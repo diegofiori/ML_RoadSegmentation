{
 "cells": [
  {
   "cell_type": "code",
   "execution_count": 17,
   "metadata": {},
   "outputs": [],
   "source": [
    "import matplotlib.image as mpimg\n",
    "import numpy as np\n",
    "import matplotlib.pyplot as plt\n",
    "import os,sys\n",
    "from scipy import ndimage\n",
    "from PIL import Image\n",
    "from helpers_regression import *\n",
    "from random import randint"
   ]
  },
  {
   "cell_type": "code",
   "execution_count": null,
   "metadata": {
    "scrolled": true
   },
   "outputs": [],
   "source": [
    "# Settings\n",
    "foreground_threshold = 0.25 # percentage of pixels > 1 required to assign a foreground label to a patch\n",
    "patch_size = 16 # each patch is 16*16 pixels\n",
    "deg=2 # Take two degree polynomials and the interactions (ex. x1,x2,x1^2,x2^2,x1*x2)\n",
    "seed = 1 # For reproducibility\n",
    "np.random.seed(seed)\n",
    "\n",
    "# Retrieve training set\n",
    "root_dir = \"training/\"\n",
    "image_dir = root_dir + \"images/\"\n",
    "gt_dir = root_dir + \"groundtruth/\"\n",
    "files = os.listdir(image_dir)\n",
    "\n",
    "n=np.random.randint(0, len(files), size=int(2*len(files)/3))\n",
    "k_fold=2 #number of folds in the k-fold cross-validation\n",
    "\n",
    "ims = [load_image(image_dir + files[i]) for i in n]\n",
    "gt_ims = [load_image(gt_dir + files[i]) for i in n]\n",
    "\n",
    "trains,tests = obtain_splits(k_fold,ims)\n",
    "ims,gt_ims = preprocessed(ims,gt_ims,patch_size,deg)   \n",
    "\n"
   ]
  },
  {
   "cell_type": "code",
   "execution_count": null,
   "metadata": {},
   "outputs": [],
   "source": [
    "# Select parameter values\n",
    "lambdas=np.logspace(-10,-9,1)\n",
    "thresh=np.linspace(0.2,0.3,6)\n",
    "shape=(lambdas.shape[0],thresh.shape[0])\n",
    "\n",
    "# To store the results\n",
    "mean_f1=np.zeros(shape)\n",
    "\n",
    "# Return best_values\n",
    "best_lambda_ridge,best_thresh_ridge = cross_validation_ridge(lambdas,thresh,k_fold,trains,tests,ims,gt_ims)"
   ]
  },
  {
   "cell_type": "code",
   "execution_count": null,
   "metadata": {},
   "outputs": [],
   "source": [
    "# Select parameter values\n",
    "lambdas=np.logspace(0,8,15)\n",
    "\n",
    "# To store the results\n",
    "mean_f1=np.zeros(lambdas.size)\n",
    "\n",
    "# Return best_values\n",
    "best_lambda_logistic = cross_validation_logistic(lambdas,k_fold,trains,tests,ims,gt_ims)"
   ]
  }
 ],
 "metadata": {
  "kernelspec": {
   "display_name": "Python 3",
   "language": "python",
   "name": "python3"
  },
  "language_info": {
   "codemirror_mode": {
    "name": "ipython",
    "version": 3
   },
   "file_extension": ".py",
   "mimetype": "text/x-python",
   "name": "python",
   "nbconvert_exporter": "python",
   "pygments_lexer": "ipython3",
   "version": "3.6.5"
  }
 },
 "nbformat": 4,
 "nbformat_minor": 2
}
