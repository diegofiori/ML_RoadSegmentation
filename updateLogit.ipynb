{
 "cells": [
  {
   "cell_type": "code",
   "execution_count": 1,
   "metadata": {},
   "outputs": [],
   "source": [
    "import matplotlib.image as mpimg\n",
    "import numpy as np\n",
    "import matplotlib.pyplot as plt\n",
    "import os,sys\n",
    "from scipy import ndimage\n",
    "from PIL import Image\n",
    "from sklearn.cluster import KMeans\n",
    "from sklearn import linear_model\n",
    "from sklearn import svm\n",
    "from sklearn import preprocessing as prp\n",
    "from helpers_img_my import *\n",
    "from Post_processing import *\n",
    "#from helpers_img import *\n",
    "from sklearn import model_selection as modsel\n",
    "from preprocessing_my import *"
   ]
  },
  {
   "cell_type": "code",
   "execution_count": 2,
   "metadata": {},
   "outputs": [],
   "source": [
    "def post_processing(label,threshold,size_min,verbarg,horbarg,size_image):\n",
    "    label = complete_lines(label,threshold)\n",
    "    label = remove_isolated_connected_component(label,size_min)\n",
    "    label = clean_garbage_vert(label,verbarg,size_image)\n",
    "    label = clean_garbage_hor(label,horbarg,size_image)\n",
    "    label = remove_isolated_connected_component(label,size_min)\n",
    "    #label = complete_semilines(label,0.85, size_image)\n",
    "    return label"
   ]
  },
  {
   "cell_type": "code",
   "execution_count": null,
   "metadata": {},
   "outputs": [
    {
     "name": "stdout",
     "output_type": "stream",
     "text": [
      "[array([ 0,  1,  4,  5,  6,  7,  8,  9, 10, 11, 12, 14, 15, 16, 18, 20, 25,\n",
      "       28, 30, 33, 34, 37, 43, 44, 47]), array([ 2,  3, 13, 17, 19, 21, 22, 23, 24, 26, 27, 29, 31, 32, 35, 36, 38,\n",
      "       39, 40, 41, 42, 45, 46, 48, 49])]\n",
      "[array([ 2,  3, 13, 17, 19, 21, 22, 23, 24, 26, 27, 29, 31, 32, 35, 36, 38,\n",
      "       39, 40, 41, 42, 45, 46, 48, 49]), array([ 0,  1,  4,  5,  6,  7,  8,  9, 10, 11, 12, 14, 15, 16, 18, 20, 25,\n",
      "       28, 30, 33, 34, 37, 43, 44, 47])]\n"
     ]
    }
   ],
   "source": [
    "# Settings\n",
    "foreground_threshold = 0.25 # percentage of pixels > 1 required to assign a foreground label to a patch\n",
    "patch_size = 16 # each patch is 16*16 pixels\n",
    "deg=2\n",
    "\n",
    "root_dir = \"training/\"\n",
    "image_dir = root_dir + \"images/\"\n",
    "gt_dir = root_dir + \"groundtruth/\"\n",
    "files = os.listdir(image_dir)\n",
    "\n",
    "n=int(len(files)/2)\n",
    "k_fold=2 #number of folds in the k-fold cross-validation\n",
    "\n",
    "ims = [load_image(image_dir + files[i]) for i in range(n)]\n",
    "gt_ims = [load_image(gt_dir + files[i]) for i in range(n)]\n",
    "\n",
    "seed = 1\n",
    "np.random.seed(seed)\n",
    "\n",
    "kf=modsel.KFold(n_splits=k_fold,shuffle=True)\n",
    "kf.get_n_splits(ims)\n",
    "splits=kf.split(ims)\n",
    "lambdas=np.logspace(0,8,15) # 1/lambda\n",
    "\n",
    "mean_f1=np.zeros(lambdas.size)\n",
    "\n",
    "trains=[]\n",
    "tests=[]\n",
    "for (train_id,test_id) in splits:\n",
    "    trains.append(train_id)\n",
    "    tests.append(test_id)\n",
    "    \n",
    "print(trains)\n",
    "print(tests)\n",
    "\n",
    "ims=[add_features(ims[i]) for i in range(len(ims))]\n",
    "ims,gt_ims = rotation(ims,gt_ims)\n",
    "ims,gt_ims = flip(ims,gt_ims)\n",
    "print(len(ims))\n",
    "\n",
    "ims = [img_crop(ims[i], patch_size, patch_size) for i in range(len(ims))]\n",
    "gt_ims = [img_crop(gt_ims[i], patch_size, patch_size) for i in range(len(gt_ims))]\n",
    "\n",
    "ims = np.asarray([ims[i][j] \n",
    "                    for i in range(len(ims)) \n",
    "                    for j in range(len(ims[i]))])\n",
    "\n",
    "gt_ims = np.asarray([gt_ims[i][j] \n",
    "                    for i in range(len(gt_ims)) \n",
    "                    for j in range(len(gt_ims[i]))])\n",
    "\n",
    "ims=[extract_features(ims[i]) for i in range(len(ims))]\n",
    "ims = np.asarray([poly_features(ims[i],deg) for i in range(len(ims))])\n",
    "gt_ims = np.asarray([value_to_class(np.mean(gt_ims[i])) for i in range(len(gt_ims))])\n",
    "\n",
    "for id_lam,lam in enumerate(lambdas):\n",
    "    print('lambda: '+str(id_lam))\n",
    "    nb_f1_te = np.zeros(k_fold)\n",
    "    for train,test in zip(trains,tests):\n",
    "        print('here')\n",
    "        im_tr = np.zeros((len(train)*625*8,325))\n",
    "        gt_tr = np.zeros((len(train)*625*8))\n",
    "        inter = 0\n",
    "        for idx in train:\n",
    "            temps = [ims[625*idx + (625*n)*k: 625*(idx+1) + (625*n)*k] for k in np.arange(0,8)]\n",
    "            gt_temps = [gt_ims[625*idx + (625*n)*k :625*(idx+1) + (625*n)*k] for k in np.arange(0,8)]\n",
    "            for (temp,gt_temp) in zip(temps,gt_temps):\n",
    "                im_tr[625*inter:625*(inter+1),:]= temp\n",
    "                gt_tr[625*inter:625*(inter+1)]=gt_temp\n",
    "                inter = inter + 1\n",
    "            \n",
    "        im_te = np.zeros((len(train)*625,325))\n",
    "        gt_te = np.zeros((len(train)*625))\n",
    "        inter = 0\n",
    "        for idx in test:\n",
    "            im_te[625*inter:625*(inter+1),:] = ims[625*idx : 625*(idx+1)]\n",
    "            gt_te[625*inter:625*(inter+1)] = gt_ims[625*idx : 625*(idx+1)]\n",
    "            inter = inter + 1\n",
    "        \n",
    "        logreg = linear_model.LogisticRegression(C=lam, class_weight=\"balanced\")\n",
    "        logreg.fit(im_tr, gt_tr)\n",
    "\n",
    "        Z_te = logreg.predict(im_te)\n",
    "\n",
    "        Z_pp=[]\n",
    "        for i in range(len(gt_te)):\n",
    "            Z_pp = Z_pp + post_processing(Z_te[i*625:(i+1)*625],18,9,3,3,25)\n",
    "            \n",
    "        nb_f1_te[ind]=compute_F1(gt_te, Z_pp)\n",
    "        print(nb_f1_te[ind])\n",
    "        \n",
    "    mean_f1[id_lam]=nb_f1_te.mean()\n",
    "    \n",
    "\n",
    "best_lambda=lambdas[np.argmax(mean_f1)]"
   ]
  },
  {
   "cell_type": "code",
   "execution_count": null,
   "metadata": {},
   "outputs": [],
   "source": [
    "a=np.arange(1,8)\n",
    "print(a)"
   ]
  },
  {
   "cell_type": "code",
   "execution_count": null,
   "metadata": {
    "collapsed": true
   },
   "outputs": [],
   "source": []
  }
 ],
 "metadata": {
  "kernelspec": {
   "display_name": "Python 3",
   "language": "python",
   "name": "python3"
  },
  "language_info": {
   "codemirror_mode": {
    "name": "ipython",
    "version": 3
   },
   "file_extension": ".py",
   "mimetype": "text/x-python",
   "name": "python",
   "nbconvert_exporter": "python",
   "pygments_lexer": "ipython3",
   "version": "3.6.5"
  }
 },
 "nbformat": 4,
 "nbformat_minor": 2
}
