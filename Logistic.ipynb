{
 "cells": [
  {
   "cell_type": "code",
   "execution_count": 1,
   "metadata": {},
   "outputs": [],
   "source": [
    "import matplotlib.image as mpimg\n",
    "import numpy as np\n",
    "import matplotlib.pyplot as plt\n",
    "import os,sys\n",
    "from scipy import ndimage\n",
    "from PIL import Image\n",
    "from sklearn.cluster import KMeans\n",
    "from sklearn import linear_model\n",
    "from sklearn import svm\n",
    "from sklearn import preprocessing as prp\n",
    "from helpers_img import *\n",
    "from Post_processing import *\n",
    "from helpers_img import *\n",
    "from helpers_regression import *"
   ]
  },
  {
   "cell_type": "code",
   "execution_count": null,
   "metadata": {},
   "outputs": [],
   "source": [
    "''' Find a result from logistic regression after cross validation'''"
   ]
  },
  {
   "cell_type": "code",
   "execution_count": null,
   "metadata": {},
   "outputs": [],
   "source": [
    "# Settings\n",
    "foreground_threshold = 0.25 # percentage of pixels > 1 required to assign a foreground label to a patch\n",
    "patch_size = 16 # each patch is 16*16 pixels\n",
    "deg=3"
   ]
  },
  {
   "cell_type": "code",
   "execution_count": null,
   "metadata": {},
   "outputs": [],
   "source": [
    "#\n",
    "# TRAINING SET\n",
    "#\n",
    "\n",
    "root_dir = \"training/\"\n",
    "image_dir = root_dir + \"images/\"\n",
    "files = os.listdir(image_dir)\n",
    "n = min(75, len(files))\n",
    "imgs = [load_image(image_dir + files[i]) for i in range(n)]\n",
    "gt_dir = root_dir + \"groundtruth/\"\n",
    "gt_imgs = [load_image(gt_dir + files[i]) for i in range(n)]\n",
    "\n",
    "# Preprocess the image\n",
    "X,Y = preprocessed(imgs,gt_imgs,patch_size,deg):\n",
    "\n",
    "lambdas = np.logspace(0,8,15)\n",
    "\n",
    "# Retrieve the best lambda obtained with cross validation\n",
    "lam = lambdas[12]\n",
    "\n",
    "# Fit the model and predict\n",
    "logreg = linear_model.LogisticRegression(C=lam, class_weight=\"balanced\")\n",
    "logreg.fit(X, Y)\n",
    "Z=logreg.predict(X)\n",
    "print('F1_score on the training set= ' + str(compute_F1(Y, Z)))"
   ]
  },
  {
   "cell_type": "code",
   "execution_count": null,
   "metadata": {},
   "outputs": [],
   "source": [
    "#\n",
    "# TEST SET\n",
    "#\n",
    "\n",
    "root = \"training/\"\n",
    "image_dir = root + \"images/\"\n",
    "files = os.listdir(image_dir)\n",
    "imgs_te = [load_image(image_dir + files[i]) for i in np.arange(n+1,len(files))]\n",
    "gt_dir = root_dir + \"groundtruth/\"\n",
    "gt_imgs_te = [load_image(gt_dir + files[i]) for i in np.arange(n+1,len(files))]\n",
    "\n",
    "# Add features\n",
    "imgs_te_aug=[add_features(imgs_te[i]) for i in range(len(imgs_te))]\n",
    "\n",
    "# Work on patches\n",
    "img_patches_te = [img_crop(imgs_te_aug[i], patch_size, patch_size) for i in range(len(imgs_te_aug))]\n",
    "gt_patches_te = [img_crop(gt_imgs_te[i], patch_size, patch_size) for i in range(len(gt_imgs_te))]\n",
    "img_patches_te = np.asarray([img_patches_te[i][j] \n",
    "                             for i in range(len(img_patches_te)) \n",
    "                             for j in range(len(img_patches_te[i]))])\n",
    "gt_patches_te =  np.asarray([gt_patches_te[i][j] \n",
    "                             for i in range(len(gt_patches_te)) \n",
    "                             for j in range(len(gt_patches_te[i]))])\n",
    "\n",
    "\n",
    "# Obtain regressors\n",
    "deg=3\n",
    "img_patches_te=[extract_features(img_patches_te[i]) for i in range(len(img_patches_te))]\n",
    "X_te = np.asarray([poly_features(img_patches_te[i],deg) for i in range(len(img_patches_te))])\n",
    "Y_te = np.asarray([value_to_class(np.mean(gt_patches_te[i])) for i in range(len(gt_patches_te))])\n",
    "\n",
    "# Predict\n",
    "Z_te = logreg.predict(X_te)\n",
    "print('F1_score on the test set before post-processing= ' + str(compute_F1(Y_te, Z_te)))\n",
    "\n",
    "# Post-processing\n",
    "Z_pp=[]\n",
    "for i in range(len(gt_patches_te)):\n",
    "    Z_pp = Z_pp + post_processing(Z_te[i*625:(i+1)*625],18,9,3,3)\n",
    "\n",
    "print('F1_score after post-processing= ' + str(compute_F1(Y_te, Z_pp)))"
   ]
  }
 ],
 "metadata": {
  "kernelspec": {
   "display_name": "Python 3",
   "language": "python",
   "name": "python3"
  },
  "language_info": {
   "codemirror_mode": {
    "name": "ipython",
    "version": 3
   },
   "file_extension": ".py",
   "mimetype": "text/x-python",
   "name": "python",
   "nbconvert_exporter": "python",
   "pygments_lexer": "ipython3",
   "version": "3.6.5"
  }
 },
 "nbformat": 4,
 "nbformat_minor": 2
}
