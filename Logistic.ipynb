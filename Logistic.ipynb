{
 "cells": [
  {
   "cell_type": "code",
   "execution_count": null,
   "metadata": {
    "collapsed": true
   },
   "outputs": [],
   "source": [
    "%matplotlib inline\n",
    "import matplotlib.image as mpimg\n",
    "import numpy as np\n",
    "import matplotlib.pyplot as plt\n",
    "import os,sys\n",
    "from scipy import ndimage\n",
    "from PIL import Image\n",
    "from sklearn.cluster import KMeans\n",
    "from sklearn import linear_model\n",
    "from sklearn import svm\n",
    "import cv2"
   ]
  },
  {
   "cell_type": "code",
   "execution_count": null,
   "metadata": {
    "collapsed": true
   },
   "outputs": [],
   "source": [
    "# Helper functions\n",
    "def load_image(infilename):\n",
    "    data = mpimg.imread(infilename)\n",
    "    return data\n",
    "\n",
    "def img_float_to_uint8(img):\n",
    "    rimg = img - np.min(img)\n",
    "    rimg = (rimg / np.max(rimg) * 255).round().astype(np.uint8)\n",
    "    return rimg\n",
    "\n",
    "# Concatenate an image and its groundtruth\n",
    "def concatenate_images(img, gt_img):\n",
    "    nChannels = len(gt_img.shape)\n",
    "    w = gt_img.shape[0]\n",
    "    h = gt_img.shape[1]\n",
    "    if nChannels == 3:\n",
    "        cimg = np.concatenate((img, gt_img), axis=1)\n",
    "    else:\n",
    "        gt_img_3c = np.zeros((w, h, 3), dtype=np.uint8)\n",
    "        gt_img8 = img_float_to_uint8(gt_img)          \n",
    "        gt_img_3c[:,:,0] = gt_img8\n",
    "        gt_img_3c[:,:,1] = gt_img8\n",
    "        gt_img_3c[:,:,2] = gt_img8\n",
    "        img8 = img_float_to_uint8(img)\n",
    "        cimg = np.concatenate((img8, gt_img_3c), axis=1)\n",
    "    return cimg\n",
    "\n",
    "def img_crop(im, w, h):\n",
    "    list_patches = []\n",
    "    imgwidth = im.shape[0]\n",
    "    imgheight = im.shape[1]\n",
    "    is_2d = len(im.shape) < 3\n",
    "    for i in range(0,imgheight,h):\n",
    "        for j in range(0,imgwidth,w):\n",
    "            if is_2d:\n",
    "                im_patch = im[j:j+w, i:i+h]\n",
    "            else:\n",
    "                im_patch = im[j:j+w, i:i+h, :]\n",
    "            list_patches.append(im_patch)\n",
    "    return list_patches\n",
    "\n",
    "def value_to_class(v):\n",
    "    df = np.sum(v)\n",
    "    if df > foreground_threshold:\n",
    "        return 1\n",
    "    else:\n",
    "        return 0"
   ]
  },
  {
   "cell_type": "code",
   "execution_count": null,
   "metadata": {
    "collapsed": true
   },
   "outputs": [],
   "source": [
    "def rotation(orig, gts):\n",
    "    ks=[90,180,270]\n",
    "    rotated=[ndimage.rotate(img,k) for img in orig for k in ks]\n",
    "    gt_rotated=[ndimage.rotate(gt_img,k) for gt_img in gts for k in ks]\n",
    "    orig=orig+rotated\n",
    "    gts=gts+gt_rotated\n",
    "    print(len(orig))\n",
    "    print(len(gts))\n",
    "    return orig,gts\n",
    "\n",
    "def add_gray_dimension(img):\n",
    "    out=np.dot(img[...,:3], [0.299, 0.587, 0.114])\n",
    "    shape_one=[out.shape[0], out.shape[1], 1]\n",
    "    out = np.reshape(out, shape_one)\n",
    "    return out\n",
    "\n",
    "def add_laplacian(img):\n",
    "    laplbew=ndimage.filters.laplace(add_gray_dimension(img))\n",
    "    lapl=ndimage.filters.laplace(img)\n",
    "    return laplbew,lapl\n",
    "\n",
    "def add_sobel(img):\n",
    "    sx = ndimage.sobel(img, axis=0, mode='constant')\n",
    "    sy = ndimage.sobel(img, axis=1, mode='constant')\n",
    "    sob = np.hypot(sx, sy)\n",
    "    return sob\n",
    "\n",
    "def add_segment(im):\n",
    "    n = 10\n",
    "    l = 256\n",
    "    im = ndimage.gaussian_filter(im, sigma=l/(4.*n))\n",
    "    mask = (im > im.mean()).astype(np.float)\n",
    "    mask += 0.1 * im\n",
    "    img = mask + 0.2*np.random.randn(*mask.shape)\n",
    "    hist, bin_edges = np.histogram(img, bins=60)\n",
    "    bin_centers = 0.5*(bin_edges[:-1] + bin_edges[1:])\n",
    "    binary_img = img > 0.5\n",
    "    open_img = ndimage.binary_opening(binary_img)\n",
    "    # Remove small black hole\n",
    "    close_img = ndimage.binary_closing(open_img)\n",
    "    close_img=add_gray_dimension(close_img)\n",
    "    return close_img"
   ]
  },
  {
   "cell_type": "code",
   "execution_count": null,
   "metadata": {
    "collapsed": true
   },
   "outputs": [],
   "source": [
    "def extract_features(img):\n",
    "    gray_img = add_gray_dimension(img)\n",
    "    sob = add_sobel(img)\n",
    "    lapbew,lap=add_laplacian(img)\n",
    "    seg=add_segment(img)\n",
    "    img = np.concatenate((img, gray_img), axis = 2)\n",
    "    img = np.concatenate((img, sob), axis = 2)\n",
    "    img = np.concatenate((img, lapbew), axis = 2)\n",
    "    img = np.concatenate((img, lap), axis = 2)    \n",
    "    img = np.concatenate((img, seg), axis = 2)\n",
    "    \n",
    "    feat_m = np.mean(img, axis=(0,1))\n",
    "    feat_v = np.var(img, axis=(0,1))\n",
    "    feat = np.append(feat_m, feat_v)\n",
    "    return feat"
   ]
  },
  {
   "cell_type": "code",
   "execution_count": null,
   "metadata": {
    "collapsed": true
   },
   "outputs": [],
   "source": [
    "# Obtain train set\n",
    "# Loaded a set of images\n",
    "foreground_threshold = 0.25 # percentage of pixels > 1 required to assign a foreground label to a patch\n",
    "root_dir = \"training/\"\n",
    "image_dir = root_dir + \"images/\"\n",
    "files = os.listdir(image_dir)\n",
    "n = min(75, len(files)) # Load maximum 20 images\n",
    "imgs = [load_image(image_dir + files[i]) for i in range(n)]\n",
    "gt_dir = root_dir + \"groundtruth/\"\n",
    "gt_imgs = [load_image(gt_dir + files[i]) for i in range(n)]\n",
    "imgs,gt_imgs = rotation(imgs,gt_imgs)\n",
    "\n",
    "patch_size = 16 # each patch is 16*16 pixels\n",
    "img_patches = [img_crop(imgs[i], patch_size, patch_size) for i in range(len(imgs))]\n",
    "gt_patches = [img_crop(gt_imgs[i], patch_size, patch_size) for i in range(len(gt_imgs))]\n",
    "img_patches = np.asarray([img_patches[i][j] \n",
    "                          for i in range(len(img_patches)) \n",
    "                          for j in range(len(img_patches[i]))])\n",
    "gt_patches =  np.asarray([gt_patches[i][j] \n",
    "                          for i in range(len(gt_patches)) \n",
    "                          for j in range(len(gt_patches[i]))])\n",
    "\n",
    "X = np.asarray([ extract_features(img_patches[i]) for i in range(len(img_patches))])\n",
    "Y = np.asarray([value_to_class(np.mean(gt_patches[i])) for i in range(len(gt_patches))])"
   ]
  },
  {
   "cell_type": "code",
   "execution_count": null,
   "metadata": {
    "collapsed": true
   },
   "outputs": [],
   "source": [
    "logreg = linear_model.LogisticRegression(C=1e5, class_weight=\"balanced\")\n",
    "logreg.fit(X, Y)\n",
    "Z=logreg.predict(X)\n",
    "print('F1_score = ' + str(f1_score(Y, Z)))"
   ]
  },
  {
   "cell_type": "code",
   "execution_count": null,
   "metadata": {
    "collapsed": true
   },
   "outputs": [],
   "source": [
    "clf = svm.SVC(gamma='auto')\n",
    "clf.fit(X,Y)\n",
    "Z=clf.predict(X)\n",
    "print('F1_score = ' + str(f1_score(Y, Z)))"
   ]
  },
  {
   "cell_type": "code",
   "execution_count": null,
   "metadata": {
    "collapsed": true
   },
   "outputs": [],
   "source": [
    "# Obtain test set\n",
    "root = \"training/\"\n",
    "image_dir = root + \"images/\"\n",
    "files = os.listdir(image_dir)\n",
    "imgs_te = [load_image(image_dir + files[i]) for i in np.arange(n+1,len(files))]\n",
    "gt_dir = root_dir + \"groundtruth/\"\n",
    "gt_imgs_te = [load_image(gt_dir + files[i]) for i in np.arange(n+1,len(files))]\n",
    "\n",
    "img_patches_te = [img_crop(imgs_te[i], patch_size, patch_size) for i in range(len(imgs_te))]\n",
    "gt_patches_te = [img_crop(gt_imgs_te[i], patch_size, patch_size) for i in range(len(gt_imgs_te))]\n",
    "img_patches_te = np.asarray([img_patches_te[i][j] \n",
    "                             for i in range(len(img_patches_te)) \n",
    "                             for j in range(len(img_patches_te[i]))])\n",
    "gt_patches_te =  np.asarray([gt_patches_te[i][j] \n",
    "                             for i in range(len(gt_patches_te)) \n",
    "                             for j in range(len(gt_patches_te[i]))])\n",
    "X_te = np.asarray([extract_features(img_patches_te[i]) for i in range(len(img_patches_te))])\n",
    "Y_te = np.asarray([value_to_class(np.mean(gt_patches_te[i])) for i in range(len(gt_patches_te))])\n",
    "\n",
    "Z_te = logreg.predict(X_te)\n",
    "print('F1_score = ' + str(f1_score(Y, Z_te)))\n",
    "\n",
    "Z_te = clf.predict(X_te)\n",
    "print('F1_score = ' + str(f1_score(Y, Z_te)))"
   ]
  }
 ],
 "metadata": {
  "kernelspec": {
   "display_name": "Python 3",
   "language": "python",
   "name": "python3"
  },
  "language_info": {
   "codemirror_mode": {
    "name": "ipython",
    "version": 3
   },
   "file_extension": ".py",
   "mimetype": "text/x-python",
   "name": "python",
   "nbconvert_exporter": "python",
   "pygments_lexer": "ipython3",
   "version": "3.6.1"
  }
 },
 "nbformat": 4,
 "nbformat_minor": 2
}
