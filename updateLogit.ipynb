{
 "cells": [
  {
   "cell_type": "code",
   "execution_count": 7,
   "metadata": {
    "collapsed": true
   },
   "outputs": [],
   "source": [
    "import matplotlib.image as mpimg\n",
    "import numpy as np\n",
    "import matplotlib.pyplot as plt\n",
    "import os,sys\n",
    "from scipy import ndimage\n",
    "from PIL import Image\n",
    "from sklearn.cluster import KMeans\n",
    "from sklearn import linear_model\n",
    "from sklearn import svm\n",
    "from sklearn import preprocessing as prp\n",
    "from helpers_img_my import *\n",
    "from Post_processing import *\n",
    "#from helpers_img import *\n",
    "from sklearn import model_selection as modsel\n",
    "from preprocessing_my import *"
   ]
  },
  {
   "cell_type": "code",
   "execution_count": null,
   "metadata": {},
   "outputs": [
    {
     "name": "stdout",
     "output_type": "stream",
     "text": [
      "32\n",
      "lambda: 0\n",
      "[0 2]\n"
     ]
    }
   ],
   "source": [
    "# Settings\n",
    "foreground_threshold = 0.25 # percentage of pixels > 1 required to assign a foreground label to a patch\n",
    "patch_size = 16 # each patch is 16*16 pixels\n",
    "deg=3\n",
    "\n",
    "root_dir = \"training/\"\n",
    "image_dir = root_dir + \"images/\"\n",
    "gt_dir = root_dir + \"groundtruth/\"\n",
    "files = os.listdir(image_dir)\n",
    "\n",
    "#n=len(files)\n",
    "n=4\n",
    "k_fold=2 #number of folds in the k-fold cross-validation\n",
    "\n",
    "ims = [load_image(image_dir + files[i]) for i in range(n)]\n",
    "gt_ims = [load_image(gt_dir + files[i]) for i in range(n)]\n",
    "\n",
    "seed = 1\n",
    "np.random.seed(seed)\n",
    "\n",
    "kf=modsel.KFold(n_splits=k_fold,shuffle=True)\n",
    "kf.get_n_splits(ims)\n",
    "lambdas=np.logspace(0,8,15) # 1/lambda\n",
    "\n",
    "mean_f1=np.zeros(lambdas.size)\n",
    "\n",
    "ims=[add_features(ims[i]) for i in range(len(ims))]\n",
    "imgs,gt_imgs = rotation(ims,gt_ims)\n",
    "imgs,gt_imgs = flip(imgs,gt_imgs)\n",
    "print(len(imgs))\n",
    "\n",
    "for id_lam,lam in enumerate(lambdas):\n",
    "    print('lambda: '+str(id_lam))\n",
    "    nb_f1_te = np.zeros(k_fold)\n",
    "    for ind,[train_id,test_id] in enumerate(kf.split(ims)):\n",
    "        print(train_id)\n",
    "        im_tr=[imgs[idx+n*k] for idx in train_id for k in np.arange(0,8)]\n",
    "        im_te=[imgs[idx] for idx in test_id]\n",
    "        gt_tr=[gt_imgs[idx+n*k] for idx in train_id for k in np.arange(0,8)]\n",
    "        gt_te=[gt_imgs[idx] for idx in test_id]\n",
    "        \n",
    "        img_patches_tr = [img_crop(im_tr[i], patch_size, patch_size) for i in range(len(im_tr))]\n",
    "        img_patches_te = [img_crop(im_te[i], patch_size, patch_size) for i in range(len(im_te))]\n",
    "        gt_patches_tr = [img_crop(gt_tr[i], patch_size, patch_size) for i in range(len(gt_tr))]\n",
    "        gt_patches_te = [img_crop(gt_te[i], patch_size, patch_size) for i in range(len(gt_te))]\n",
    "        \n",
    "        im_patches_tr = np.asarray([img_patches_tr[i][j] \n",
    "                          for i in range(len(img_patches_tr)) \n",
    "                          for j in range(len(img_patches_tr[i]))])\n",
    "        im_patches_te = np.asarray([img_patches_te[i][j] \n",
    "                          for i in range(len(img_patches_te)) \n",
    "                          for j in range(len(img_patches_te[i]))])\n",
    "        gt_patches_tr =  np.asarray([gt_patches_tr[i][j] \n",
    "                          for i in range(len(gt_patches_tr)) \n",
    "                          for j in range(len(gt_patches_tr[i]))])\n",
    "        gt_patches_te =  np.asarray([gt_patches_te[i][j] \n",
    "                          for i in range(len(gt_patches_te)) \n",
    "                          for j in range(len(gt_patches_te[i]))])\n",
    "        \n",
    "        im_patches_tr=[extract_features(im_patches_tr[i]) for i in range(len(im_patches_tr))]\n",
    "        im_patches_te=[extract_features(im_patches_te[i]) for i in range(len(im_patches_te))]\n",
    "\n",
    "        X_tr = np.asarray([poly_features(im_patches_tr[i],deg) for i in range(len(im_patches_tr))])\n",
    "        Y_tr = np.asarray([value_to_class(np.mean(gt_patches_tr[i])) for i in range(len(gt_patches_tr))])\n",
    "        \n",
    "        X_te = np.asarray([poly_features(im_patches_te[i],deg) for i in range(len(im_patches_te))])\n",
    "        Y_te = np.asarray([value_to_class(np.mean(gt_patches_te[i])) for i in range(len(gt_patches_te))])\n",
    "        \n",
    "        logreg = linear_model.LogisticRegression(C=lam, class_weight=\"balanced\")\n",
    "        logreg.fit(X_tr, Y_tr)\n",
    "\n",
    "        Z_te = logreg.predict(X_te)\n",
    "\n",
    "        Z_pp=[]\n",
    "        for i in range(len(gt_patches_te)):\n",
    "            Z_pp = Z_pp + post_processing(Z_te[i*625:(i+1)*625],18,9,3,3,25)\n",
    "            \n",
    "        nb_f1_te[ind]=compute_F1(Y_te, Z_pp)\n",
    "        print(nb_f1_te[ind])\n",
    "        \n",
    "    mean_f1[id_lam]=nb_f1_te.mean()\n",
    "    \n",
    "\n",
    "best_lambda=lambdas[np.argmax(mean_f1)]"
   ]
  },
  {
   "cell_type": "code",
   "execution_count": 6,
   "metadata": {},
   "outputs": [
    {
     "name": "stdout",
     "output_type": "stream",
     "text": [
      "[1 2 3 4 5 6 7]\n"
     ]
    }
   ],
   "source": [
    "a=np.arange(1,8)\n",
    "print(a)"
   ]
  },
  {
   "cell_type": "code",
   "execution_count": null,
   "metadata": {
    "collapsed": true
   },
   "outputs": [],
   "source": []
  }
 ],
 "metadata": {
  "kernelspec": {
   "display_name": "Python 3",
   "language": "python",
   "name": "python3"
  },
  "language_info": {
   "codemirror_mode": {
    "name": "ipython",
    "version": 3
   },
   "file_extension": ".py",
   "mimetype": "text/x-python",
   "name": "python",
   "nbconvert_exporter": "python",
   "pygments_lexer": "ipython3",
   "version": "3.6.1"
  }
 },
 "nbformat": 4,
 "nbformat_minor": 2
}
