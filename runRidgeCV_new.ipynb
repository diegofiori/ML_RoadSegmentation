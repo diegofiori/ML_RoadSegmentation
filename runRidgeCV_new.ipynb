{
 "cells": [
  {
   "cell_type": "code",
   "execution_count": 1,
   "metadata": {
    "collapsed": true
   },
   "outputs": [],
   "source": [
    "import matplotlib.image as mpimg\n",
    "import numpy as np\n",
    "import matplotlib.pyplot as plt\n",
    "import os,sys\n",
    "from scipy import ndimage\n",
    "from PIL import Image\n",
    "from sklearn.cluster import KMeans\n",
    "from sklearn import linear_model\n",
    "from sklearn import svm\n",
    "from sklearn import preprocessing as prp\n",
    "from helpers_img_my import *\n",
    "from Post_processing import *\n",
    "#from helpers_img import *\n",
    "from sklearn import model_selection as modsel\n",
    "from preprocessing_my import *"
   ]
  },
  {
   "cell_type": "code",
   "execution_count": 49,
   "metadata": {
    "collapsed": true
   },
   "outputs": [],
   "source": [
    "def post_processing(label,threshold,size_min,verbarg,horbarg,size_image):\n",
    "    label = complete_lines(label,threshold)\n",
    "    label = remove_isolated_connected_component(label,size_min)\n",
    "    label = clean_garbage_vert(label,verbarg,size_image)\n",
    "    label = clean_garbage_hor(label,horbarg,size_image)\n",
    "    label = remove_isolated_connected_component(label,size_min)\n",
    "    #label = complete_semilines(label,0.85, size_image)\n",
    "    return label"
   ]
  },
  {
   "cell_type": "code",
   "execution_count": null,
   "metadata": {},
   "outputs": [],
   "source": [
    "# Settings\n",
    "foreground_threshold = 0.25 # percentage of pixels > 1 required to assign a foreground label to a patch\n",
    "patch_size = 16 # each patch is 16*16 pixels\n",
    "deg=2\n",
    "\n",
    "root_dir = \"training/\"\n",
    "image_dir = root_dir + \"images/\"\n",
    "gt_dir = root_dir + \"groundtruth/\"\n",
    "files = os.listdir(image_dir)\n",
    "\n",
    "#n=len(files)\n",
    "n=4\n",
    "k_fold=2 #number of folds in the k-fold cross-validation\n",
    "\n",
    "imgs = [load_image(image_dir + files[i]) for i in range(n)]\n",
    "gt_imgs = [load_image(gt_dir + files[i]) for i in range(n)]\n",
    "\n",
    "seed = 1\n",
    "np.random.seed(seed)\n",
    "\n",
    "kf=modsel.KFold(n_splits=k_fold,shuffle=True)\n",
    "kf.get_n_splits(imgs)\n",
    "lambdas=np.logspace(-8,-5,3) # 1/lambda\n",
    "thresh=np.linspace(0.35,0.55,3)\n",
    "shape=(lambdas.shape[0],thresh.shape[0])\n",
    "mean_f1=np.zeros(shape)\n",
    "\n",
    "for id_lam,lam in enumerate(lambdas):\n",
    "    for id_t,t in enumerate(thresh):\n",
    "        nb_f1_te = np.zeros(k_fold)\n",
    "        for ind,[train_id,test_id] in enumerate(kf.split(imgs)):\n",
    "            im_tr=[imgs[idx] for idx in train_id]\n",
    "            im_te=[imgs[idx] for idx in test_id]\n",
    "            gt_tr=[gt_imgs[idx] for idx in train_id]\n",
    "            gt_te=[gt_imgs[idx] for idx in test_id]\n",
    "\n",
    "            im_tr,gt_tr = rotation(im_tr,gt_tr)\n",
    "            im_tr,gt_tr = flip(im_tr,gt_tr)\n",
    "            im_tr=[add_features(im_tr[i]) for i in range(len(im_tr))]\n",
    "            im_te=[add_features(im_te[i]) for i in range(len(im_te))]\n",
    "\n",
    "\n",
    "            im_tr = [img_crop(im_tr[i], patch_size, patch_size) for i in range(len(im_tr))]\n",
    "            im_te = [img_crop(im_te[i], patch_size, patch_size) for i in range(len(im_te))]\n",
    "            gt_tr = [img_crop(gt_tr[i], patch_size, patch_size) for i in range(len(gt_tr))]\n",
    "            gt_te = [img_crop(gt_te[i], patch_size, patch_size) for i in range(len(gt_te))]\n",
    "\n",
    "            im_tr = np.asarray([im_tr[i][j] \n",
    "                              for i in range(len(im_tr)) \n",
    "                              for j in range(len(im_tr[i]))])\n",
    "            im_te = np.asarray([im_te[i][j] \n",
    "                              for i in range(len(im_te)) \n",
    "                              for j in range(len(im_te[i]))])\n",
    "            gt_tr =  np.asarray([gt_tr[i][j] \n",
    "                              for i in range(len(gt_tr)) \n",
    "                              for j in range(len(gt_tr[i]))])\n",
    "            gt_te =  np.asarray([gt_te[i][j] \n",
    "                              for i in range(len(gt_te)) \n",
    "                              for j in range(len(gt_te[i]))])\n",
    "\n",
    "            im_patches_tr=[extract_features(im_patches_tr[i]) for i in range(len(im_tr))]\n",
    "            im_patches_te=[extract_features(im_patches_te[i]) for i in range(len(im_te))]\n",
    "\n",
    "            im_tr = np.asarray([poly_features(im_tr[i],deg) for i in range(len(im_tr))])\n",
    "            gt_tr = np.asarray([value_to_class(np.mean(gt_tr[i])) for i in range(len(gt_tr))])\n",
    "\n",
    "            im_te = np.asarray([poly_features(im_te[i],deg) for i in range(len(im_te))])\n",
    "            gt_te = np.asarray([value_to_class(np.mean(gt_te[i])) for i in range(len(gt_te))])\n",
    "\n",
    "            ridgereg = linear_model.Ridge(alpha=lam, normalize=True)\n",
    "            ridgereg.fit(im_tr, gt_tr)\n",
    "\n",
    "            Z_te = ridgereg.predict(im_te)\n",
    "            Z_te=1*(Z_te>t)\n",
    "\n",
    "            Z_pp=[]\n",
    "            for i in range(len(gt_te)):\n",
    "                Z_pp = Z_pp + post_processing(Z_te[i*625:(i+1)*625],18,9,3,3,25)\n",
    "\n",
    "            nb_f1_te[ind]=compute_F1(gt_te, Z_pp)\n",
    "        \n",
    "        mean_f1[id_lam,id_t]=nb_f1_te.mean()\n",
    "    \n",
    "best=np.max(mean_f1)\n",
    "ids=np.where(mean_f1==best)\n",
    "best_lambda=lambdas[ids[0][0]]\n",
    "best_thresh=thresh[ids[1][0]]"
   ]
  },
  {
   "cell_type": "code",
   "execution_count": 47,
   "metadata": {},
   "outputs": [
    {
     "data": {
      "text/plain": [
       "0.71569148434997265"
      ]
     },
     "execution_count": 47,
     "metadata": {},
     "output_type": "execute_result"
    }
   ],
   "source": [
    "best"
   ]
  },
  {
   "cell_type": "code",
   "execution_count": 48,
   "metadata": {},
   "outputs": [
    {
     "data": {
      "text/plain": [
       "array([[ 0.66933381,  0.67223512,  0.5618237 ,  0.41963531,  0.3253012 ],\n",
       "       [ 0.71569148,  0.68196733,  0.53480782,  0.36928817,  0.31299105],\n",
       "       [ 0.70834749,  0.67044995,  0.446406  ,  0.32625995,  0.24066024]])"
      ]
     },
     "execution_count": 48,
     "metadata": {},
     "output_type": "execute_result"
    }
   ],
   "source": [
    "mean_f1"
   ]
  },
  {
   "cell_type": "code",
   "execution_count": 16,
   "metadata": {},
   "outputs": [],
   "source": [
    "thres=np.linspace(0.3,0.8,11)"
   ]
  },
  {
   "cell_type": "code",
   "execution_count": 22,
   "metadata": {},
   "outputs": [
    {
     "data": {
      "text/plain": [
       "0"
      ]
     },
     "execution_count": 22,
     "metadata": {},
     "output_type": "execute_result"
    }
   ],
   "source": [
    "zers=np.zeros((thres.shape[0],lambdas.shape[0]))\n",
    "np.argmax(zers)"
   ]
  },
  {
   "cell_type": "code",
   "execution_count": 18,
   "metadata": {},
   "outputs": [
    {
     "data": {
      "text/plain": [
       "11"
      ]
     },
     "execution_count": 18,
     "metadata": {},
     "output_type": "execute_result"
    }
   ],
   "source": [
    "thres.shape[0]"
   ]
  },
  {
   "cell_type": "code",
   "execution_count": 27,
   "metadata": {},
   "outputs": [
    {
     "data": {
      "text/plain": [
       "array([[1, 2, 3],\n",
       "       [4, 5, 6]])"
      ]
     },
     "execution_count": 27,
     "metadata": {},
     "output_type": "execute_result"
    }
   ],
   "source": [
    "matrix=np.asarray([[1,2,3],[4,5,6]])\n",
    "matrix"
   ]
  },
  {
   "cell_type": "code",
   "execution_count": 34,
   "metadata": {},
   "outputs": [
    {
     "data": {
      "text/plain": [
       "2"
      ]
     },
     "execution_count": 34,
     "metadata": {},
     "output_type": "execute_result"
    }
   ],
   "source": [
    "ids=np.where(matrix==3)\n",
    "ids[1][0]"
   ]
  },
  {
   "cell_type": "code",
   "execution_count": null,
   "metadata": {
    "collapsed": true
   },
   "outputs": [],
   "source": []
  }
 ],
 "metadata": {
  "kernelspec": {
   "display_name": "Python 3",
   "language": "python",
   "name": "python3"
  },
  "language_info": {
   "codemirror_mode": {
    "name": "ipython",
    "version": 3
   },
   "file_extension": ".py",
   "mimetype": "text/x-python",
   "name": "python",
   "nbconvert_exporter": "python",
   "pygments_lexer": "ipython3",
   "version": "3.6.1"
  }
 },
 "nbformat": 4,
 "nbformat_minor": 2
}
