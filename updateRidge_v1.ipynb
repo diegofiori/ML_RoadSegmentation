{
 "cells": [
  {
   "cell_type": "code",
   "execution_count": 1,
   "metadata": {},
   "outputs": [],
   "source": [
    "import matplotlib.image as mpimg\n",
    "import numpy as np\n",
    "import matplotlib.pyplot as plt\n",
    "import os,sys\n",
    "from scipy import ndimage\n",
    "from PIL import Image\n",
    "from sklearn.cluster import KMeans\n",
    "from sklearn import linear_model\n",
    "from sklearn import svm\n",
    "from sklearn import preprocessing as prp\n",
    "from helpers_img_my import *\n",
    "from Post_processing import *\n",
    "#from helpers_img import *\n",
    "from sklearn import model_selection as modsel\n",
    "from preprocessing_my import *"
   ]
  },
  {
   "cell_type": "code",
   "execution_count": 2,
   "metadata": {},
   "outputs": [],
   "source": [
    "def post_processing(label,threshold,size_min,verbarg,horbarg,size_image):\n",
    "    label = complete_lines(label,threshold)\n",
    "    label = remove_isolated_connected_component(label,size_min)\n",
    "    label = clean_garbage_vert(label,verbarg,size_image)\n",
    "    label = clean_garbage_hor(label,horbarg,size_image)\n",
    "    label = remove_isolated_connected_component(label,size_min)\n",
    "    #label = complete_semilines(label,0.85, size_image)\n",
    "    return label"
   ]
  },
  {
   "cell_type": "code",
   "execution_count": null,
   "metadata": {},
   "outputs": [
    {
     "name": "stdout",
     "output_type": "stream",
     "text": [
      "800\n",
      "[array([ 2,  4,  8,  9, 10, 11, 13, 14, 15, 16, 18, 19, 21, 25, 28, 29, 30,\n",
      "       33, 37, 38, 43, 44, 45, 48, 55, 56, 57, 58, 59, 63, 64, 65, 66, 68,\n",
      "       69, 71, 73, 74, 76, 77, 80, 81, 82, 83, 85, 88, 91, 92, 97, 98]), array([ 0,  1,  3,  5,  6,  7, 12, 17, 20, 22, 23, 24, 26, 27, 31, 32, 34,\n",
      "       35, 36, 39, 40, 41, 42, 46, 47, 49, 50, 51, 52, 53, 54, 60, 61, 62,\n",
      "       67, 70, 72, 75, 78, 79, 84, 86, 87, 89, 90, 93, 94, 95, 96, 99])]\n",
      "[array([ 0,  1,  3,  5,  6,  7, 12, 17, 20, 22, 23, 24, 26, 27, 31, 32, 34,\n",
      "       35, 36, 39, 40, 41, 42, 46, 47, 49, 50, 51, 52, 53, 54, 60, 61, 62,\n",
      "       67, 70, 72, 75, 78, 79, 84, 86, 87, 89, 90, 93, 94, 95, 96, 99]), array([ 2,  4,  8,  9, 10, 11, 13, 14, 15, 16, 18, 19, 21, 25, 28, 29, 30,\n",
      "       33, 37, 38, 43, 44, 45, 48, 55, 56, 57, 58, 59, 63, 64, 65, 66, 68,\n",
      "       69, 71, 73, 74, 76, 77, 80, 81, 82, 83, 85, 88, 91, 92, 97, 98])]\n",
      "lambda: 0\n",
      "thresh: 0\n",
      "here\n",
      "[ 2  4  8  9 10 11 13 14 15 16 18 19 21 25 28 29 30 33 37 38 43 44 45 48\n",
      " 55 56 57 58 59 63 64 65 66 68 69 71 73 74 76 77 80 81 82 83 85 88 91 92\n",
      " 97 98]\n",
      "[ 0  1  3  5  6  7 12 17 20 22 23 24 26 27 31 32 34 35 36 39 40 41 42 46\n",
      " 47 49 50 51 52 53 54 60 61 62 67 70 72 75 78 79 84 86 87 89 90 93 94 95\n",
      " 96 99]\n",
      "0.635233918128655\n",
      "here\n",
      "[ 0  1  3  5  6  7 12 17 20 22 23 24 26 27 31 32 34 35 36 39 40 41 42 46\n",
      " 47 49 50 51 52 53 54 60 61 62 67 70 72 75 78 79 84 86 87 89 90 93 94 95\n",
      " 96 99]\n",
      "[ 2  4  8  9 10 11 13 14 15 16 18 19 21 25 28 29 30 33 37 38 43 44 45 48\n",
      " 55 56 57 58 59 63 64 65 66 68 69 71 73 74 76 77 80 81 82 83 85 88 91 92\n",
      " 97 98]\n",
      "0.6358307472538298\n",
      "thresh: 1\n",
      "here\n",
      "[ 2  4  8  9 10 11 13 14 15 16 18 19 21 25 28 29 30 33 37 38 43 44 45 48\n",
      " 55 56 57 58 59 63 64 65 66 68 69 71 73 74 76 77 80 81 82 83 85 88 91 92\n",
      " 97 98]\n",
      "[ 0  1  3  5  6  7 12 17 20 22 23 24 26 27 31 32 34 35 36 39 40 41 42 46\n",
      " 47 49 50 51 52 53 54 60 61 62 67 70 72 75 78 79 84 86 87 89 90 93 94 95\n",
      " 96 99]\n"
     ]
    }
   ],
   "source": [
    "# Settings\n",
    "foreground_threshold = 0.25 # percentage of pixels > 1 required to assign a foreground label to a patch\n",
    "patch_size = 16 # each patch is 16*16 pixels\n",
    "deg=2\n",
    "\n",
    "root_dir = \"training/\"\n",
    "image_dir = root_dir + \"images/\"\n",
    "gt_dir = root_dir + \"groundtruth/\"\n",
    "files = os.listdir(image_dir)\n",
    "\n",
    "n=len(files)\n",
    "#n=4\n",
    "k_fold=2 #number of folds in the k-fold cross-validation\n",
    "\n",
    "ims = [load_image(image_dir + files[i]) for i in range(n)]\n",
    "gt_ims = [load_image(gt_dir + files[i]) for i in range(n)]\n",
    "\n",
    "seed = 1\n",
    "np.random.seed(seed)\n",
    "\n",
    "kf=modsel.KFold(n_splits=k_fold,shuffle=True)\n",
    "kf.get_n_splits(ims)\n",
    "splits=kf.split(ims)\n",
    "    \n",
    "ims=[add_features(ims[i]) for i in range(len(ims))]\n",
    "ims,gt_ims = rotation(ims,gt_ims)\n",
    "ims,gt_ims = flip(ims,gt_ims)\n",
    "print(len(ims))\n",
    "\n",
    "lambdas=np.logspace(-7,-6,1) # 1/lambda\n",
    "thresh=np.linspace(0.25,0.35,3)\n",
    "shape=(lambdas.shape[0],thresh.shape[0])\n",
    "mean_f1=np.zeros(shape)\n",
    "\n",
    "#for (train_id,test_id) in splits:\n",
    "trains=[]\n",
    "tests=[]\n",
    "for (train_id,test_id) in splits:\n",
    "    trains.append(train_id)\n",
    "    tests.append(test_id)\n",
    "    \n",
    "print(trains)\n",
    "print(tests)\n",
    "\n",
    "for id_lam,lam in enumerate(lambdas):\n",
    "    print('lambda: '+str(id_lam))\n",
    "    for id_t,t in enumerate(thresh):\n",
    "        print('thresh: '+str(id_t))\n",
    "        nb_f1_te = np.zeros(k_fold)\n",
    "        ind=0\n",
    "        #for (train_id,test_id) in splits:\n",
    "        for train,test in zip(trains,tests):\n",
    "            print('here')\n",
    "            print(train)\n",
    "            print(test)\n",
    "            im_tr=[ims[idx+n*k] for idx in train for k in np.arange(0,8)]\n",
    "            im_te=[ims[idx] for idx in test]\n",
    "            gt_tr=[gt_ims[idx+n*k] for idx in train for k in np.arange(0,8)]\n",
    "            gt_te=[gt_ims[idx] for idx in test]\n",
    "            \n",
    "            im_tr = [img_crop(im_tr[i], patch_size, patch_size) for i in range(len(im_tr))]\n",
    "            im_te = [img_crop(im_te[i], patch_size, patch_size) for i in range(len(im_te))]\n",
    "            gt_tr = [img_crop(gt_tr[i], patch_size, patch_size) for i in range(len(gt_tr))]\n",
    "            gt_te = [img_crop(gt_te[i], patch_size, patch_size) for i in range(len(gt_te))]\n",
    "            \n",
    "            im_tr = np.asarray([im_tr[i][j] \n",
    "                              for i in range(len(im_tr)) \n",
    "                              for j in range(len(im_tr[i]))])\n",
    "            im_te = np.asarray([im_te[i][j] \n",
    "                              for i in range(len(im_te)) \n",
    "                              for j in range(len(im_te[i]))])\n",
    "            gt_tr =  np.asarray([gt_tr[i][j]\n",
    "                              for i in range(len(gt_tr)) \n",
    "                              for j in range(len(gt_tr[i]))])\n",
    "            gt_te =  np.asarray([gt_te[i][j] \n",
    "                              for i in range(len(gt_te)) \n",
    "                              for j in range(len(gt_te[i]))])\n",
    "            \n",
    "            im_tr=[extract_features(im_tr[i]) for i in range(len(im_tr))]\n",
    "            im_te=[extract_features(im_te[i]) for i in range(len(im_te))]\n",
    "            \n",
    "            im_tr = np.asarray([poly_features(im_tr[i],deg) for i in range(len(im_tr))])\n",
    "            gt_tr = np.asarray([value_to_class(np.mean(gt_tr[i])) for i in range(len(gt_tr))])\n",
    "\n",
    "            im_te = np.asarray([poly_features(im_te[i],deg) for i in range(len(im_te))])\n",
    "            gt_te = np.asarray([value_to_class(np.mean(gt_te[i])) for i in range(len(gt_te))])\n",
    "\n",
    "            ridgereg = linear_model.Ridge(alpha=lam, normalize=True)\n",
    "            ridgereg.fit(im_tr, gt_tr)\n",
    "\n",
    "            Z_te = ridgereg.predict(im_te)\n",
    "            Z_te=1*(Z_te>t)\n",
    "            Z_pp=[]\n",
    "            for i in range(len(gt_te)):\n",
    "                Z_pp = Z_pp + post_processing(Z_te[i*625:(i+1)*625],18,9,3,3,25)\n",
    "\n",
    "            nb_f1_te[ind]=compute_F1(gt_te, Z_pp)\n",
    "            print(nb_f1_te[ind])\n",
    "            ind=ind+1\n",
    "        \n",
    "        mean_f1[id_lam,id_t]=nb_f1_te.mean()\n",
    "    \n",
    "best=np.max(mean_f1)\n",
    "ids=np.where(mean_f1==best)\n",
    "best_lambda=lambdas[ids[0][0]]\n",
    "best_thresh=thresh[ids[1][0]]"
   ]
  },
  {
   "cell_type": "code",
   "execution_count": null,
   "metadata": {},
   "outputs": [],
   "source": [
    "best"
   ]
  },
  {
   "cell_type": "code",
   "execution_count": null,
   "metadata": {},
   "outputs": [],
   "source": [
    "mean_f1"
   ]
  },
  {
   "cell_type": "code",
   "execution_count": null,
   "metadata": {
    "collapsed": true
   },
   "outputs": [],
   "source": [
    "thres=np.linspace(0.3,0.8,11)"
   ]
  },
  {
   "cell_type": "code",
   "execution_count": null,
   "metadata": {},
   "outputs": [],
   "source": [
    "zers=np.zeros((thres.shape[0],lambdas.shape[0]))\n",
    "np.argmax(zers)"
   ]
  },
  {
   "cell_type": "code",
   "execution_count": null,
   "metadata": {},
   "outputs": [],
   "source": [
    "thres.shape[0]"
   ]
  },
  {
   "cell_type": "code",
   "execution_count": null,
   "metadata": {},
   "outputs": [],
   "source": [
    "matrix=np.asarray([[1,2,3],[4,5,6]])\n",
    "matrix"
   ]
  },
  {
   "cell_type": "code",
   "execution_count": null,
   "metadata": {},
   "outputs": [],
   "source": [
    "ids=np.where(matrix==3)\n",
    "ids[1][0]"
   ]
  },
  {
   "cell_type": "code",
   "execution_count": null,
   "metadata": {
    "collapsed": true
   },
   "outputs": [],
   "source": []
  }
 ],
 "metadata": {
  "kernelspec": {
   "display_name": "Python 3",
   "language": "python",
   "name": "python3"
  },
  "language_info": {
   "codemirror_mode": {
    "name": "ipython",
    "version": 3
   },
   "file_extension": ".py",
   "mimetype": "text/x-python",
   "name": "python",
   "nbconvert_exporter": "python",
   "pygments_lexer": "ipython3",
   "version": "3.6.5"
  }
 },
 "nbformat": 4,
 "nbformat_minor": 2
}
